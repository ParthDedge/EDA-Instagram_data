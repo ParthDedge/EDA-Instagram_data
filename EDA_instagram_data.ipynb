{
  "cells": [
    {
      "cell_type": "code",
      "execution_count": 1,
      "id": "2e6d0ab3",
      "metadata": {
        "_cell_guid": "b1076dfc-b9ad-4769-8c92-a6c4dae69d19",
        "_uuid": "8f2839f25d086af736a60e9eeb907d3b93b6e0e5",
        "execution": {
          "iopub.execute_input": "2023-07-18T16:39:27.301548Z",
          "iopub.status.busy": "2023-07-18T16:39:27.300699Z",
          "iopub.status.idle": "2023-07-18T16:39:29.640251Z",
          "shell.execute_reply": "2023-07-18T16:39:29.639321Z"
        },
        "papermill": {
          "duration": 2.351415,
          "end_time": "2023-07-18T16:39:29.642978",
          "exception": false,
          "start_time": "2023-07-18T16:39:27.291563",
          "status": "completed"
        },
        "tags": [],
        "id": "2e6d0ab3"
      },
      "outputs": [],
      "source": [
        "#import packages\n",
        "\n",
        "import pandas as pd\n",
        "import plotly.express as px\n",
        "import plotly.graph_objects as go\n",
        "import plotly.io as pio\n",
        "pio.templates.default = \"plotly_white\""
      ]
    },
    {
      "cell_type": "code",
      "execution_count": 3,
      "id": "a82f63e6",
      "metadata": {
        "execution": {
          "iopub.execute_input": "2023-07-18T16:39:29.658050Z",
          "iopub.status.busy": "2023-07-18T16:39:29.657409Z",
          "iopub.status.idle": "2023-07-18T16:39:29.693137Z",
          "shell.execute_reply": "2023-07-18T16:39:29.691989Z"
        },
        "papermill": {
          "duration": 0.046362,
          "end_time": "2023-07-18T16:39:29.695981",
          "exception": false,
          "start_time": "2023-07-18T16:39:29.649619",
          "status": "completed"
        },
        "tags": [],
        "colab": {
          "base_uri": "https://localhost:8080/"
        },
        "id": "a82f63e6",
        "outputId": "648a4825-953c-40a9-9f09-3553647c20a0"
      },
      "outputs": [
        {
          "output_type": "stream",
          "name": "stdout",
          "text": [
            "   Impressions  From Home  From Hashtags  From Explore  From Other  Saves  \\\n",
            "0         3920       2586           1028           619          56     98   \n",
            "1         5394       2727           1838          1174          78    194   \n",
            "2         4021       2085           1188             0         533     41   \n",
            "3         4528       2700            621           932          73    172   \n",
            "4         2518       1704            255           279          37     96   \n",
            "5         3884       2046           1214           329          43     74   \n",
            "6         2621       1543            599           333          25     22   \n",
            "7         3541       2071            628           500          60    135   \n",
            "8         3749       2384            857           248          49    155   \n",
            "9         4115       2609           1104           178          46    122   \n",
            "\n",
            "   Comments  Shares  Likes  Profile Visits  Follows  \\\n",
            "0         9       5    162              35        2   \n",
            "1         7      14    224              48       10   \n",
            "2        11       1    131              62       12   \n",
            "3        10       7    213              23        8   \n",
            "4         5       4    123               8        0   \n",
            "5         7      10    144               9        2   \n",
            "6         5       1     76              26        0   \n",
            "7         4       9    124              12        6   \n",
            "8         6       8    159              36        4   \n",
            "9         6       3    191              31        6   \n",
            "\n",
            "                                             Caption  \\\n",
            "0  Here are some of the most important data visua...   \n",
            "1  Here are some of the best data science project...   \n",
            "2  Learn how to train a machine learning model an...   \n",
            "3  Heres how you can write a Python program to d...   \n",
            "4  Plotting annotations while visualizing your da...   \n",
            "5  Here are some of the most important soft skill...   \n",
            "6  Learn how to analyze a candlestick chart as a ...   \n",
            "7  Here are some of the best books that you can f...   \n",
            "8  Here are some of the best data analysis projec...   \n",
            "9  Here are two best ways to count the number of ...   \n",
            "\n",
            "                                            Hashtags  \n",
            "0  #finance #money #business #investing #investme...  \n",
            "1  #healthcare #health #covid #data #datascience ...  \n",
            "2  #data #datascience #dataanalysis #dataanalytic...  \n",
            "3  #python #pythonprogramming #pythonprojects #py...  \n",
            "4  #datavisualization #datascience #data #dataana...  \n",
            "5  #data #datascience #dataanalysis #dataanalytic...  \n",
            "6  #stockmarket #investing #stocks #trading #mone...  \n",
            "7  #python #pythonprogramming #pythonprojects #py...  \n",
            "8  #dataanalytics #datascience #data #machinelear...  \n",
            "9  #python #pythonprogramming #pythonprojects #py...  \n"
          ]
        }
      ],
      "source": [
        "#load the dataset and display the data\n",
        "\n",
        "data = pd.read_csv(\"/content/Instagram data.csv\", encoding='latin-1')\n",
        "print(data.head(10))"
      ]
    },
    {
      "cell_type": "code",
      "execution_count": 5,
      "id": "d5b3b556",
      "metadata": {
        "execution": {
          "iopub.execute_input": "2023-07-18T16:39:29.710700Z",
          "iopub.status.busy": "2023-07-18T16:39:29.710300Z",
          "iopub.status.idle": "2023-07-18T16:39:29.716371Z",
          "shell.execute_reply": "2023-07-18T16:39:29.715040Z"
        },
        "papermill": {
          "duration": 0.016478,
          "end_time": "2023-07-18T16:39:29.719106",
          "exception": false,
          "start_time": "2023-07-18T16:39:29.702628",
          "status": "completed"
        },
        "tags": [],
        "id": "d5b3b556"
      },
      "outputs": [],
      "source": [
        "#checking the columns\n",
        "\n",
        "print(data.columns)"
      ]
    },
    {
      "cell_type": "code",
      "execution_count": 6,
      "id": "18a691f3",
      "metadata": {
        "execution": {
          "iopub.execute_input": "2023-07-18T16:39:29.734139Z",
          "iopub.status.busy": "2023-07-18T16:39:29.733748Z",
          "iopub.status.idle": "2023-07-18T16:39:29.759032Z",
          "shell.execute_reply": "2023-07-18T16:39:29.757251Z"
        },
        "papermill": {
          "duration": 0.035689,
          "end_time": "2023-07-18T16:39:29.761458",
          "exception": false,
          "start_time": "2023-07-18T16:39:29.725769",
          "status": "completed"
        },
        "tags": [],
        "colab": {
          "base_uri": "https://localhost:8080/"
        },
        "id": "18a691f3",
        "outputId": "72f13911-be8c-4fc9-a264-0eb69f34b0a3"
      },
      "outputs": [
        {
          "output_type": "stream",
          "name": "stdout",
          "text": [
            "<class 'pandas.core.frame.DataFrame'>\n",
            "RangeIndex: 120 entries, 0 to 119\n",
            "Data columns (total 13 columns):\n",
            " #   Column          Non-Null Count  Dtype \n",
            "---  ------          --------------  ----- \n",
            " 0   Impressions     120 non-null    int64 \n",
            " 1   From Home       120 non-null    int64 \n",
            " 2   From Hashtags   120 non-null    int64 \n",
            " 3   From Explore    120 non-null    int64 \n",
            " 4   From Other      120 non-null    int64 \n",
            " 5   Saves           120 non-null    int64 \n",
            " 6   Comments        120 non-null    int64 \n",
            " 7   Shares          120 non-null    int64 \n",
            " 8   Likes           120 non-null    int64 \n",
            " 9   Profile Visits  120 non-null    int64 \n",
            " 10  Follows         120 non-null    int64 \n",
            " 11  Caption         120 non-null    object\n",
            " 12  Hashtags        120 non-null    object\n",
            "dtypes: int64(11), object(2)\n",
            "memory usage: 12.3+ KB\n",
            "None\n"
          ]
        }
      ],
      "source": [
        "#checking the information of about dataset\n",
        "\n",
        "print(data.info())"
      ]
    },
    {
      "cell_type": "code",
      "execution_count": 7,
      "id": "6797e4c1",
      "metadata": {
        "execution": {
          "iopub.execute_input": "2023-07-18T16:39:29.777161Z",
          "iopub.status.busy": "2023-07-18T16:39:29.776199Z",
          "iopub.status.idle": "2023-07-18T16:39:29.820042Z",
          "shell.execute_reply": "2023-07-18T16:39:29.818547Z"
        },
        "papermill": {
          "duration": 0.054345,
          "end_time": "2023-07-18T16:39:29.822593",
          "exception": false,
          "start_time": "2023-07-18T16:39:29.768248",
          "status": "completed"
        },
        "tags": [],
        "colab": {
          "base_uri": "https://localhost:8080/"
        },
        "id": "6797e4c1",
        "outputId": "9458f43f-14e1-44b6-b8de-ebdaa7798f5b"
      },
      "outputs": [
        {
          "output_type": "stream",
          "name": "stdout",
          "text": [
            "        Impressions    From Home  From Hashtags  From Explore   From Other  \\\n",
            "count    120.000000    120.00000     120.000000    120.000000   120.000000   \n",
            "mean    5914.958333   2472.70000    1896.800000   1167.158333   182.983333   \n",
            "std     5348.446502   1483.50142    1879.183314   2778.898461   316.280855   \n",
            "min     1941.000000   1133.00000     116.000000      0.000000     9.000000   \n",
            "25%     3473.500000   1945.00000     735.500000    157.750000    38.500000   \n",
            "50%     4293.500000   2201.00000    1278.000000    327.500000    74.500000   \n",
            "75%     6168.000000   2599.75000    2389.250000    711.500000   205.000000   \n",
            "max    36919.000000  13473.00000   11817.000000  17414.000000  2547.000000   \n",
            "\n",
            "             Saves    Comments      Shares       Likes  Profile Visits  \\\n",
            "count   120.000000  120.000000  120.000000  120.000000      120.000000   \n",
            "mean    152.533333    6.650000    9.458333  176.500000       51.266667   \n",
            "std     155.892439    3.532918   10.102746   87.270178       87.008908   \n",
            "min      22.000000    0.000000    0.000000   72.000000        4.000000   \n",
            "25%      63.000000    4.000000    3.000000  121.750000       15.000000   \n",
            "50%     107.500000    6.000000    6.000000  151.500000       23.000000   \n",
            "75%     168.000000    8.000000   14.000000  205.000000       42.750000   \n",
            "max    1095.000000   19.000000   75.000000  549.000000      611.000000   \n",
            "\n",
            "          Follows  \n",
            "count  120.000000  \n",
            "mean    22.308333  \n",
            "std     44.153817  \n",
            "min      0.000000  \n",
            "25%      4.000000  \n",
            "50%      8.000000  \n",
            "75%     18.000000  \n",
            "max    260.000000  \n"
          ]
        }
      ],
      "source": [
        "#checking the statistical summary of data\n",
        "\n",
        "print(data.describe())"
      ]
    },
    {
      "cell_type": "code",
      "execution_count": 8,
      "id": "3740529e",
      "metadata": {
        "execution": {
          "iopub.execute_input": "2023-07-18T16:39:29.838033Z",
          "iopub.status.busy": "2023-07-18T16:39:29.837593Z",
          "iopub.status.idle": "2023-07-18T16:39:29.846408Z",
          "shell.execute_reply": "2023-07-18T16:39:29.844383Z"
        },
        "papermill": {
          "duration": 0.019271,
          "end_time": "2023-07-18T16:39:29.848781",
          "exception": false,
          "start_time": "2023-07-18T16:39:29.829510",
          "status": "completed"
        },
        "tags": [],
        "colab": {
          "base_uri": "https://localhost:8080/"
        },
        "id": "3740529e",
        "outputId": "3f6e3466-9615-41dc-cecf-23425602e012"
      },
      "outputs": [
        {
          "output_type": "stream",
          "name": "stdout",
          "text": [
            "Impressions       0\n",
            "From Home         0\n",
            "From Hashtags     0\n",
            "From Explore      0\n",
            "From Other        0\n",
            "Saves             0\n",
            "Comments          0\n",
            "Shares            0\n",
            "Likes             0\n",
            "Profile Visits    0\n",
            "Follows           0\n",
            "Caption           0\n",
            "Hashtags          0\n",
            "dtype: int64\n"
          ]
        }
      ],
      "source": [
        "#find null values from the data\n",
        "\n",
        "print(data.isnull().sum())"
      ]
    },
    {
      "cell_type": "code",
      "execution_count": 9,
      "id": "8e66074d",
      "metadata": {
        "execution": {
          "iopub.execute_input": "2023-07-18T16:39:29.864967Z",
          "iopub.status.busy": "2023-07-18T16:39:29.864559Z",
          "iopub.status.idle": "2023-07-18T16:39:30.248358Z",
          "shell.execute_reply": "2023-07-18T16:39:30.247117Z"
        },
        "papermill": {
          "duration": 0.395247,
          "end_time": "2023-07-18T16:39:30.251154",
          "exception": false,
          "start_time": "2023-07-18T16:39:29.855907",
          "status": "completed"
        },
        "tags": [],
        "colab": {
          "base_uri": "https://localhost:8080/",
          "height": 542
        },
        "id": "8e66074d",
        "outputId": "01cd68cc-3166-45f8-d7b8-2b5d9e551708"
      },
      "outputs": [
        {
          "output_type": "display_data",
          "data": {
            "text/html": [
              "<html>\n",
              "<head><meta charset=\"utf-8\" /></head>\n",
              "<body>\n",
              "    <div>            <script src=\"https://cdnjs.cloudflare.com/ajax/libs/mathjax/2.7.5/MathJax.js?config=TeX-AMS-MML_SVG\"></script><script type=\"text/javascript\">if (window.MathJax && window.MathJax.Hub && window.MathJax.Hub.Config) {window.MathJax.Hub.Config({SVG: {font: \"STIX-Web\"}});}</script>                <script type=\"text/javascript\">window.PlotlyConfig = {MathJaxConfig: 'local'};</script>\n",
              "        <script charset=\"utf-8\" src=\"https://cdn.plot.ly/plotly-2.35.2.min.js\"></script>                <div id=\"4e0baa25-cda6-4878-a69c-ce350ef3f368\" class=\"plotly-graph-div\" style=\"height:525px; width:100%;\"></div>            <script type=\"text/javascript\">                                    window.PLOTLYENV=window.PLOTLYENV || {};                                    if (document.getElementById(\"4e0baa25-cda6-4878-a69c-ce350ef3f368\")) {                    Plotly.newPlot(                        \"4e0baa25-cda6-4878-a69c-ce350ef3f368\",                        [{\"alignmentgroup\":\"True\",\"bingroup\":\"x\",\"hovertemplate\":\"Shares=%{x}\\u003cbr\\u003ecount=%{y}\\u003cextra\\u003e\\u003c\\u002fextra\\u003e\",\"legendgroup\":\"\",\"marker\":{\"color\":\"#636efa\",\"pattern\":{\"shape\":\"\"}},\"name\":\"\",\"nbinsx\":10,\"offsetgroup\":\"\",\"orientation\":\"v\",\"showlegend\":false,\"x\":[5,14,1,7,4,10,1,9,8,3,3,14,11,5,10,11,18,1,6,20,5,4,9,14,3,5,6,4,3,4,3,15,4,3,8,0,3,11,1,3,20,13,4,2,5,19,10,3,15,41,1,16,1,8,15,9,2,7,16,14,6,5,1,0,12,5,0,15,2,3,7,0,15,6,6,0,1,11,2,6,12,22,11,18,1,6,20,10,3,15,41,1,14,3,5,6,4,3,4,27,13,7,2,12,15,8,3,7,22,23,8,4,13,17,38,1,1,75,26,21],\"xaxis\":\"x\",\"yaxis\":\"y\",\"type\":\"histogram\"}],                        {\"template\":{\"data\":{\"histogram2dcontour\":[{\"type\":\"histogram2dcontour\",\"colorbar\":{\"outlinewidth\":0,\"ticks\":\"\"},\"colorscale\":[[0.0,\"#0d0887\"],[0.1111111111111111,\"#46039f\"],[0.2222222222222222,\"#7201a8\"],[0.3333333333333333,\"#9c179e\"],[0.4444444444444444,\"#bd3786\"],[0.5555555555555556,\"#d8576b\"],[0.6666666666666666,\"#ed7953\"],[0.7777777777777778,\"#fb9f3a\"],[0.8888888888888888,\"#fdca26\"],[1.0,\"#f0f921\"]]}],\"choropleth\":[{\"type\":\"choropleth\",\"colorbar\":{\"outlinewidth\":0,\"ticks\":\"\"}}],\"histogram2d\":[{\"type\":\"histogram2d\",\"colorbar\":{\"outlinewidth\":0,\"ticks\":\"\"},\"colorscale\":[[0.0,\"#0d0887\"],[0.1111111111111111,\"#46039f\"],[0.2222222222222222,\"#7201a8\"],[0.3333333333333333,\"#9c179e\"],[0.4444444444444444,\"#bd3786\"],[0.5555555555555556,\"#d8576b\"],[0.6666666666666666,\"#ed7953\"],[0.7777777777777778,\"#fb9f3a\"],[0.8888888888888888,\"#fdca26\"],[1.0,\"#f0f921\"]]}],\"heatmap\":[{\"type\":\"heatmap\",\"colorbar\":{\"outlinewidth\":0,\"ticks\":\"\"},\"colorscale\":[[0.0,\"#0d0887\"],[0.1111111111111111,\"#46039f\"],[0.2222222222222222,\"#7201a8\"],[0.3333333333333333,\"#9c179e\"],[0.4444444444444444,\"#bd3786\"],[0.5555555555555556,\"#d8576b\"],[0.6666666666666666,\"#ed7953\"],[0.7777777777777778,\"#fb9f3a\"],[0.8888888888888888,\"#fdca26\"],[1.0,\"#f0f921\"]]}],\"heatmapgl\":[{\"type\":\"heatmapgl\",\"colorbar\":{\"outlinewidth\":0,\"ticks\":\"\"},\"colorscale\":[[0.0,\"#0d0887\"],[0.1111111111111111,\"#46039f\"],[0.2222222222222222,\"#7201a8\"],[0.3333333333333333,\"#9c179e\"],[0.4444444444444444,\"#bd3786\"],[0.5555555555555556,\"#d8576b\"],[0.6666666666666666,\"#ed7953\"],[0.7777777777777778,\"#fb9f3a\"],[0.8888888888888888,\"#fdca26\"],[1.0,\"#f0f921\"]]}],\"contourcarpet\":[{\"type\":\"contourcarpet\",\"colorbar\":{\"outlinewidth\":0,\"ticks\":\"\"}}],\"contour\":[{\"type\":\"contour\",\"colorbar\":{\"outlinewidth\":0,\"ticks\":\"\"},\"colorscale\":[[0.0,\"#0d0887\"],[0.1111111111111111,\"#46039f\"],[0.2222222222222222,\"#7201a8\"],[0.3333333333333333,\"#9c179e\"],[0.4444444444444444,\"#bd3786\"],[0.5555555555555556,\"#d8576b\"],[0.6666666666666666,\"#ed7953\"],[0.7777777777777778,\"#fb9f3a\"],[0.8888888888888888,\"#fdca26\"],[1.0,\"#f0f921\"]]}],\"surface\":[{\"type\":\"surface\",\"colorbar\":{\"outlinewidth\":0,\"ticks\":\"\"},\"colorscale\":[[0.0,\"#0d0887\"],[0.1111111111111111,\"#46039f\"],[0.2222222222222222,\"#7201a8\"],[0.3333333333333333,\"#9c179e\"],[0.4444444444444444,\"#bd3786\"],[0.5555555555555556,\"#d8576b\"],[0.6666666666666666,\"#ed7953\"],[0.7777777777777778,\"#fb9f3a\"],[0.8888888888888888,\"#fdca26\"],[1.0,\"#f0f921\"]]}],\"mesh3d\":[{\"type\":\"mesh3d\",\"colorbar\":{\"outlinewidth\":0,\"ticks\":\"\"}}],\"scatter\":[{\"fillpattern\":{\"fillmode\":\"overlay\",\"size\":10,\"solidity\":0.2},\"type\":\"scatter\"}],\"parcoords\":[{\"type\":\"parcoords\",\"line\":{\"colorbar\":{\"outlinewidth\":0,\"ticks\":\"\"}}}],\"scatterpolargl\":[{\"type\":\"scatterpolargl\",\"marker\":{\"colorbar\":{\"outlinewidth\":0,\"ticks\":\"\"}}}],\"bar\":[{\"error_x\":{\"color\":\"#2a3f5f\"},\"error_y\":{\"color\":\"#2a3f5f\"},\"marker\":{\"line\":{\"color\":\"white\",\"width\":0.5},\"pattern\":{\"fillmode\":\"overlay\",\"size\":10,\"solidity\":0.2}},\"type\":\"bar\"}],\"scattergeo\":[{\"type\":\"scattergeo\",\"marker\":{\"colorbar\":{\"outlinewidth\":0,\"ticks\":\"\"}}}],\"scatterpolar\":[{\"type\":\"scatterpolar\",\"marker\":{\"colorbar\":{\"outlinewidth\":0,\"ticks\":\"\"}}}],\"histogram\":[{\"marker\":{\"pattern\":{\"fillmode\":\"overlay\",\"size\":10,\"solidity\":0.2}},\"type\":\"histogram\"}],\"scattergl\":[{\"type\":\"scattergl\",\"marker\":{\"colorbar\":{\"outlinewidth\":0,\"ticks\":\"\"}}}],\"scatter3d\":[{\"type\":\"scatter3d\",\"line\":{\"colorbar\":{\"outlinewidth\":0,\"ticks\":\"\"}},\"marker\":{\"colorbar\":{\"outlinewidth\":0,\"ticks\":\"\"}}}],\"scattermapbox\":[{\"type\":\"scattermapbox\",\"marker\":{\"colorbar\":{\"outlinewidth\":0,\"ticks\":\"\"}}}],\"scatterternary\":[{\"type\":\"scatterternary\",\"marker\":{\"colorbar\":{\"outlinewidth\":0,\"ticks\":\"\"}}}],\"scattercarpet\":[{\"type\":\"scattercarpet\",\"marker\":{\"colorbar\":{\"outlinewidth\":0,\"ticks\":\"\"}}}],\"carpet\":[{\"aaxis\":{\"endlinecolor\":\"#2a3f5f\",\"gridcolor\":\"#C8D4E3\",\"linecolor\":\"#C8D4E3\",\"minorgridcolor\":\"#C8D4E3\",\"startlinecolor\":\"#2a3f5f\"},\"baxis\":{\"endlinecolor\":\"#2a3f5f\",\"gridcolor\":\"#C8D4E3\",\"linecolor\":\"#C8D4E3\",\"minorgridcolor\":\"#C8D4E3\",\"startlinecolor\":\"#2a3f5f\"},\"type\":\"carpet\"}],\"table\":[{\"cells\":{\"fill\":{\"color\":\"#EBF0F8\"},\"line\":{\"color\":\"white\"}},\"header\":{\"fill\":{\"color\":\"#C8D4E3\"},\"line\":{\"color\":\"white\"}},\"type\":\"table\"}],\"barpolar\":[{\"marker\":{\"line\":{\"color\":\"white\",\"width\":0.5},\"pattern\":{\"fillmode\":\"overlay\",\"size\":10,\"solidity\":0.2}},\"type\":\"barpolar\"}],\"pie\":[{\"automargin\":true,\"type\":\"pie\"}]},\"layout\":{\"autotypenumbers\":\"strict\",\"colorway\":[\"#636efa\",\"#EF553B\",\"#00cc96\",\"#ab63fa\",\"#FFA15A\",\"#19d3f3\",\"#FF6692\",\"#B6E880\",\"#FF97FF\",\"#FECB52\"],\"font\":{\"color\":\"#2a3f5f\"},\"hovermode\":\"closest\",\"hoverlabel\":{\"align\":\"left\"},\"paper_bgcolor\":\"white\",\"plot_bgcolor\":\"white\",\"polar\":{\"bgcolor\":\"white\",\"angularaxis\":{\"gridcolor\":\"#EBF0F8\",\"linecolor\":\"#EBF0F8\",\"ticks\":\"\"},\"radialaxis\":{\"gridcolor\":\"#EBF0F8\",\"linecolor\":\"#EBF0F8\",\"ticks\":\"\"}},\"ternary\":{\"bgcolor\":\"white\",\"aaxis\":{\"gridcolor\":\"#DFE8F3\",\"linecolor\":\"#A2B1C6\",\"ticks\":\"\"},\"baxis\":{\"gridcolor\":\"#DFE8F3\",\"linecolor\":\"#A2B1C6\",\"ticks\":\"\"},\"caxis\":{\"gridcolor\":\"#DFE8F3\",\"linecolor\":\"#A2B1C6\",\"ticks\":\"\"}},\"coloraxis\":{\"colorbar\":{\"outlinewidth\":0,\"ticks\":\"\"}},\"colorscale\":{\"sequential\":[[0.0,\"#0d0887\"],[0.1111111111111111,\"#46039f\"],[0.2222222222222222,\"#7201a8\"],[0.3333333333333333,\"#9c179e\"],[0.4444444444444444,\"#bd3786\"],[0.5555555555555556,\"#d8576b\"],[0.6666666666666666,\"#ed7953\"],[0.7777777777777778,\"#fb9f3a\"],[0.8888888888888888,\"#fdca26\"],[1.0,\"#f0f921\"]],\"sequentialminus\":[[0.0,\"#0d0887\"],[0.1111111111111111,\"#46039f\"],[0.2222222222222222,\"#7201a8\"],[0.3333333333333333,\"#9c179e\"],[0.4444444444444444,\"#bd3786\"],[0.5555555555555556,\"#d8576b\"],[0.6666666666666666,\"#ed7953\"],[0.7777777777777778,\"#fb9f3a\"],[0.8888888888888888,\"#fdca26\"],[1.0,\"#f0f921\"]],\"diverging\":[[0,\"#8e0152\"],[0.1,\"#c51b7d\"],[0.2,\"#de77ae\"],[0.3,\"#f1b6da\"],[0.4,\"#fde0ef\"],[0.5,\"#f7f7f7\"],[0.6,\"#e6f5d0\"],[0.7,\"#b8e186\"],[0.8,\"#7fbc41\"],[0.9,\"#4d9221\"],[1,\"#276419\"]]},\"xaxis\":{\"gridcolor\":\"#EBF0F8\",\"linecolor\":\"#EBF0F8\",\"ticks\":\"\",\"title\":{\"standoff\":15},\"zerolinecolor\":\"#EBF0F8\",\"automargin\":true,\"zerolinewidth\":2},\"yaxis\":{\"gridcolor\":\"#EBF0F8\",\"linecolor\":\"#EBF0F8\",\"ticks\":\"\",\"title\":{\"standoff\":15},\"zerolinecolor\":\"#EBF0F8\",\"automargin\":true,\"zerolinewidth\":2},\"scene\":{\"xaxis\":{\"backgroundcolor\":\"white\",\"gridcolor\":\"#DFE8F3\",\"linecolor\":\"#EBF0F8\",\"showbackground\":true,\"ticks\":\"\",\"zerolinecolor\":\"#EBF0F8\",\"gridwidth\":2},\"yaxis\":{\"backgroundcolor\":\"white\",\"gridcolor\":\"#DFE8F3\",\"linecolor\":\"#EBF0F8\",\"showbackground\":true,\"ticks\":\"\",\"zerolinecolor\":\"#EBF0F8\",\"gridwidth\":2},\"zaxis\":{\"backgroundcolor\":\"white\",\"gridcolor\":\"#DFE8F3\",\"linecolor\":\"#EBF0F8\",\"showbackground\":true,\"ticks\":\"\",\"zerolinecolor\":\"#EBF0F8\",\"gridwidth\":2}},\"shapedefaults\":{\"line\":{\"color\":\"#2a3f5f\"}},\"annotationdefaults\":{\"arrowcolor\":\"#2a3f5f\",\"arrowhead\":0,\"arrowwidth\":1},\"geo\":{\"bgcolor\":\"white\",\"landcolor\":\"white\",\"subunitcolor\":\"#C8D4E3\",\"showland\":true,\"showlakes\":true,\"lakecolor\":\"white\"},\"title\":{\"x\":0.05},\"mapbox\":{\"style\":\"light\"}}},\"xaxis\":{\"anchor\":\"y\",\"domain\":[0.0,1.0],\"title\":{\"text\":\"Shares\"}},\"yaxis\":{\"anchor\":\"x\",\"domain\":[0.0,1.0],\"title\":{\"text\":\"count\"}},\"legend\":{\"tracegroupgap\":0},\"title\":{\"text\":\"Distribution of Shares\"},\"barmode\":\"relative\"},                        {\"responsive\": true}                    ).then(function(){\n",
              "                            \n",
              "var gd = document.getElementById('4e0baa25-cda6-4878-a69c-ce350ef3f368');\n",
              "var x = new MutationObserver(function (mutations, observer) {{\n",
              "        var display = window.getComputedStyle(gd).display;\n",
              "        if (!display || display === 'none') {{\n",
              "            console.log([gd, 'removed!']);\n",
              "            Plotly.purge(gd);\n",
              "            observer.disconnect();\n",
              "        }}\n",
              "}});\n",
              "\n",
              "// Listen for the removal of the full notebook cells\n",
              "var notebookContainer = gd.closest('#notebook-container');\n",
              "if (notebookContainer) {{\n",
              "    x.observe(notebookContainer, {childList: true});\n",
              "}}\n",
              "\n",
              "// Listen for the clearing of the current output cell\n",
              "var outputEl = gd.closest('.output');\n",
              "if (outputEl) {{\n",
              "    x.observe(outputEl, {childList: true});\n",
              "}}\n",
              "\n",
              "                        })                };                            </script>        </div>\n",
              "</body>\n",
              "</html>"
            ]
          },
          "metadata": {}
        }
      ],
      "source": [
        "#exploring the data starting with number of shares\n",
        "\n",
        "fig = px.histogram(data,\n",
        "                   x='Shares',\n",
        "                   nbins=10,\n",
        "                   title='Distribution of Shares')\n",
        "fig.show()"
      ]
    },
    {
      "cell_type": "code",
      "execution_count": 10,
      "id": "0bbacda4",
      "metadata": {
        "execution": {
          "iopub.execute_input": "2023-07-18T16:39:30.268838Z",
          "iopub.status.busy": "2023-07-18T16:39:30.268418Z",
          "iopub.status.idle": "2023-07-18T16:39:30.376270Z",
          "shell.execute_reply": "2023-07-18T16:39:30.375069Z"
        },
        "papermill": {
          "duration": 0.119956,
          "end_time": "2023-07-18T16:39:30.379341",
          "exception": false,
          "start_time": "2023-07-18T16:39:30.259385",
          "status": "completed"
        },
        "tags": [],
        "colab": {
          "base_uri": "https://localhost:8080/",
          "height": 542
        },
        "id": "0bbacda4",
        "outputId": "0947b464-de2c-439d-e6af-744a78819f63"
      },
      "outputs": [
        {
          "output_type": "display_data",
          "data": {
            "text/html": [
              "<html>\n",
              "<head><meta charset=\"utf-8\" /></head>\n",
              "<body>\n",
              "    <div>            <script src=\"https://cdnjs.cloudflare.com/ajax/libs/mathjax/2.7.5/MathJax.js?config=TeX-AMS-MML_SVG\"></script><script type=\"text/javascript\">if (window.MathJax && window.MathJax.Hub && window.MathJax.Hub.Config) {window.MathJax.Hub.Config({SVG: {font: \"STIX-Web\"}});}</script>                <script type=\"text/javascript\">window.PlotlyConfig = {MathJaxConfig: 'local'};</script>\n",
              "        <script charset=\"utf-8\" src=\"https://cdn.plot.ly/plotly-2.35.2.min.js\"></script>                <div id=\"506bd4bc-55fe-4ff5-a0b5-bb5867b26703\" class=\"plotly-graph-div\" style=\"height:525px; width:100%;\"></div>            <script type=\"text/javascript\">                                    window.PLOTLYENV=window.PLOTLYENV || {};                                    if (document.getElementById(\"506bd4bc-55fe-4ff5-a0b5-bb5867b26703\")) {                    Plotly.newPlot(                        \"506bd4bc-55fe-4ff5-a0b5-bb5867b26703\",                        [{\"hovertemplate\":\"index=%{x}\\u003cbr\\u003eImpressions=%{y}\\u003cextra\\u003e\\u003c\\u002fextra\\u003e\",\"legendgroup\":\"\",\"line\":{\"color\":\"#636efa\",\"dash\":\"solid\"},\"marker\":{\"symbol\":\"circle\"},\"mode\":\"lines\",\"name\":\"\",\"orientation\":\"v\",\"showlegend\":false,\"x\":[0,1,2,3,4,5,6,7,8,9,10,11,12,13,14,15,16,17,18,19,20,21,22,23,24,25,26,27,28,29,30,31,32,33,34,35,36,37,38,39,40,41,42,43,44,45,46,47,48,49,50,51,52,53,54,55,56,57,58,59,60,61,62,63,64,65,66,67,68,69,70,71,72,73,74,75,76,77,78,79,80,81,82,83,84,85,86,87,88,89,90,91,92,93,94,95,96,97,98,99,100,101,102,103,104,105,106,107,108,109,110,111,112,113,114,115,116,117,118,119],\"xaxis\":\"x\",\"y\":[3920,5394,4021,4528,2518,3884,2621,3541,3749,4115,2218,3234,4344,3216,9453,5055,4002,3169,6168,2407,2064,3973,7281,3052,4628,4082,5394,2766,3924,3015,6666,3854,4355,4343,6108,2523,2327,3990,2191,1941,16062,4998,4289,3880,3786,4298,3630,2826,7407,10386,2998,7018,2941,6432,10667,3988,4978,3388,4467,3246,5072,6339,4239,3454,7571,3333,3818,10933,5058,3601,3480,3525,3606,5542,6559,3623,10493,4446,2957,5538,4681,5273,5055,4002,3169,6168,2407,3630,2826,7407,10386,2998,3052,4628,4082,5394,2766,3924,3015,5409,5323,8001,4150,4609,6348,11068,7231,17396,6814,17713,5563,4842,11149,10206,13700,5731,4139,32695,36919,31020],\"yaxis\":\"y\",\"type\":\"scatter\"}],                        {\"template\":{\"data\":{\"histogram2dcontour\":[{\"type\":\"histogram2dcontour\",\"colorbar\":{\"outlinewidth\":0,\"ticks\":\"\"},\"colorscale\":[[0.0,\"#0d0887\"],[0.1111111111111111,\"#46039f\"],[0.2222222222222222,\"#7201a8\"],[0.3333333333333333,\"#9c179e\"],[0.4444444444444444,\"#bd3786\"],[0.5555555555555556,\"#d8576b\"],[0.6666666666666666,\"#ed7953\"],[0.7777777777777778,\"#fb9f3a\"],[0.8888888888888888,\"#fdca26\"],[1.0,\"#f0f921\"]]}],\"choropleth\":[{\"type\":\"choropleth\",\"colorbar\":{\"outlinewidth\":0,\"ticks\":\"\"}}],\"histogram2d\":[{\"type\":\"histogram2d\",\"colorbar\":{\"outlinewidth\":0,\"ticks\":\"\"},\"colorscale\":[[0.0,\"#0d0887\"],[0.1111111111111111,\"#46039f\"],[0.2222222222222222,\"#7201a8\"],[0.3333333333333333,\"#9c179e\"],[0.4444444444444444,\"#bd3786\"],[0.5555555555555556,\"#d8576b\"],[0.6666666666666666,\"#ed7953\"],[0.7777777777777778,\"#fb9f3a\"],[0.8888888888888888,\"#fdca26\"],[1.0,\"#f0f921\"]]}],\"heatmap\":[{\"type\":\"heatmap\",\"colorbar\":{\"outlinewidth\":0,\"ticks\":\"\"},\"colorscale\":[[0.0,\"#0d0887\"],[0.1111111111111111,\"#46039f\"],[0.2222222222222222,\"#7201a8\"],[0.3333333333333333,\"#9c179e\"],[0.4444444444444444,\"#bd3786\"],[0.5555555555555556,\"#d8576b\"],[0.6666666666666666,\"#ed7953\"],[0.7777777777777778,\"#fb9f3a\"],[0.8888888888888888,\"#fdca26\"],[1.0,\"#f0f921\"]]}],\"heatmapgl\":[{\"type\":\"heatmapgl\",\"colorbar\":{\"outlinewidth\":0,\"ticks\":\"\"},\"colorscale\":[[0.0,\"#0d0887\"],[0.1111111111111111,\"#46039f\"],[0.2222222222222222,\"#7201a8\"],[0.3333333333333333,\"#9c179e\"],[0.4444444444444444,\"#bd3786\"],[0.5555555555555556,\"#d8576b\"],[0.6666666666666666,\"#ed7953\"],[0.7777777777777778,\"#fb9f3a\"],[0.8888888888888888,\"#fdca26\"],[1.0,\"#f0f921\"]]}],\"contourcarpet\":[{\"type\":\"contourcarpet\",\"colorbar\":{\"outlinewidth\":0,\"ticks\":\"\"}}],\"contour\":[{\"type\":\"contour\",\"colorbar\":{\"outlinewidth\":0,\"ticks\":\"\"},\"colorscale\":[[0.0,\"#0d0887\"],[0.1111111111111111,\"#46039f\"],[0.2222222222222222,\"#7201a8\"],[0.3333333333333333,\"#9c179e\"],[0.4444444444444444,\"#bd3786\"],[0.5555555555555556,\"#d8576b\"],[0.6666666666666666,\"#ed7953\"],[0.7777777777777778,\"#fb9f3a\"],[0.8888888888888888,\"#fdca26\"],[1.0,\"#f0f921\"]]}],\"surface\":[{\"type\":\"surface\",\"colorbar\":{\"outlinewidth\":0,\"ticks\":\"\"},\"colorscale\":[[0.0,\"#0d0887\"],[0.1111111111111111,\"#46039f\"],[0.2222222222222222,\"#7201a8\"],[0.3333333333333333,\"#9c179e\"],[0.4444444444444444,\"#bd3786\"],[0.5555555555555556,\"#d8576b\"],[0.6666666666666666,\"#ed7953\"],[0.7777777777777778,\"#fb9f3a\"],[0.8888888888888888,\"#fdca26\"],[1.0,\"#f0f921\"]]}],\"mesh3d\":[{\"type\":\"mesh3d\",\"colorbar\":{\"outlinewidth\":0,\"ticks\":\"\"}}],\"scatter\":[{\"fillpattern\":{\"fillmode\":\"overlay\",\"size\":10,\"solidity\":0.2},\"type\":\"scatter\"}],\"parcoords\":[{\"type\":\"parcoords\",\"line\":{\"colorbar\":{\"outlinewidth\":0,\"ticks\":\"\"}}}],\"scatterpolargl\":[{\"type\":\"scatterpolargl\",\"marker\":{\"colorbar\":{\"outlinewidth\":0,\"ticks\":\"\"}}}],\"bar\":[{\"error_x\":{\"color\":\"#2a3f5f\"},\"error_y\":{\"color\":\"#2a3f5f\"},\"marker\":{\"line\":{\"color\":\"white\",\"width\":0.5},\"pattern\":{\"fillmode\":\"overlay\",\"size\":10,\"solidity\":0.2}},\"type\":\"bar\"}],\"scattergeo\":[{\"type\":\"scattergeo\",\"marker\":{\"colorbar\":{\"outlinewidth\":0,\"ticks\":\"\"}}}],\"scatterpolar\":[{\"type\":\"scatterpolar\",\"marker\":{\"colorbar\":{\"outlinewidth\":0,\"ticks\":\"\"}}}],\"histogram\":[{\"marker\":{\"pattern\":{\"fillmode\":\"overlay\",\"size\":10,\"solidity\":0.2}},\"type\":\"histogram\"}],\"scattergl\":[{\"type\":\"scattergl\",\"marker\":{\"colorbar\":{\"outlinewidth\":0,\"ticks\":\"\"}}}],\"scatter3d\":[{\"type\":\"scatter3d\",\"line\":{\"colorbar\":{\"outlinewidth\":0,\"ticks\":\"\"}},\"marker\":{\"colorbar\":{\"outlinewidth\":0,\"ticks\":\"\"}}}],\"scattermapbox\":[{\"type\":\"scattermapbox\",\"marker\":{\"colorbar\":{\"outlinewidth\":0,\"ticks\":\"\"}}}],\"scatterternary\":[{\"type\":\"scatterternary\",\"marker\":{\"colorbar\":{\"outlinewidth\":0,\"ticks\":\"\"}}}],\"scattercarpet\":[{\"type\":\"scattercarpet\",\"marker\":{\"colorbar\":{\"outlinewidth\":0,\"ticks\":\"\"}}}],\"carpet\":[{\"aaxis\":{\"endlinecolor\":\"#2a3f5f\",\"gridcolor\":\"#C8D4E3\",\"linecolor\":\"#C8D4E3\",\"minorgridcolor\":\"#C8D4E3\",\"startlinecolor\":\"#2a3f5f\"},\"baxis\":{\"endlinecolor\":\"#2a3f5f\",\"gridcolor\":\"#C8D4E3\",\"linecolor\":\"#C8D4E3\",\"minorgridcolor\":\"#C8D4E3\",\"startlinecolor\":\"#2a3f5f\"},\"type\":\"carpet\"}],\"table\":[{\"cells\":{\"fill\":{\"color\":\"#EBF0F8\"},\"line\":{\"color\":\"white\"}},\"header\":{\"fill\":{\"color\":\"#C8D4E3\"},\"line\":{\"color\":\"white\"}},\"type\":\"table\"}],\"barpolar\":[{\"marker\":{\"line\":{\"color\":\"white\",\"width\":0.5},\"pattern\":{\"fillmode\":\"overlay\",\"size\":10,\"solidity\":0.2}},\"type\":\"barpolar\"}],\"pie\":[{\"automargin\":true,\"type\":\"pie\"}]},\"layout\":{\"autotypenumbers\":\"strict\",\"colorway\":[\"#636efa\",\"#EF553B\",\"#00cc96\",\"#ab63fa\",\"#FFA15A\",\"#19d3f3\",\"#FF6692\",\"#B6E880\",\"#FF97FF\",\"#FECB52\"],\"font\":{\"color\":\"#2a3f5f\"},\"hovermode\":\"closest\",\"hoverlabel\":{\"align\":\"left\"},\"paper_bgcolor\":\"white\",\"plot_bgcolor\":\"white\",\"polar\":{\"bgcolor\":\"white\",\"angularaxis\":{\"gridcolor\":\"#EBF0F8\",\"linecolor\":\"#EBF0F8\",\"ticks\":\"\"},\"radialaxis\":{\"gridcolor\":\"#EBF0F8\",\"linecolor\":\"#EBF0F8\",\"ticks\":\"\"}},\"ternary\":{\"bgcolor\":\"white\",\"aaxis\":{\"gridcolor\":\"#DFE8F3\",\"linecolor\":\"#A2B1C6\",\"ticks\":\"\"},\"baxis\":{\"gridcolor\":\"#DFE8F3\",\"linecolor\":\"#A2B1C6\",\"ticks\":\"\"},\"caxis\":{\"gridcolor\":\"#DFE8F3\",\"linecolor\":\"#A2B1C6\",\"ticks\":\"\"}},\"coloraxis\":{\"colorbar\":{\"outlinewidth\":0,\"ticks\":\"\"}},\"colorscale\":{\"sequential\":[[0.0,\"#0d0887\"],[0.1111111111111111,\"#46039f\"],[0.2222222222222222,\"#7201a8\"],[0.3333333333333333,\"#9c179e\"],[0.4444444444444444,\"#bd3786\"],[0.5555555555555556,\"#d8576b\"],[0.6666666666666666,\"#ed7953\"],[0.7777777777777778,\"#fb9f3a\"],[0.8888888888888888,\"#fdca26\"],[1.0,\"#f0f921\"]],\"sequentialminus\":[[0.0,\"#0d0887\"],[0.1111111111111111,\"#46039f\"],[0.2222222222222222,\"#7201a8\"],[0.3333333333333333,\"#9c179e\"],[0.4444444444444444,\"#bd3786\"],[0.5555555555555556,\"#d8576b\"],[0.6666666666666666,\"#ed7953\"],[0.7777777777777778,\"#fb9f3a\"],[0.8888888888888888,\"#fdca26\"],[1.0,\"#f0f921\"]],\"diverging\":[[0,\"#8e0152\"],[0.1,\"#c51b7d\"],[0.2,\"#de77ae\"],[0.3,\"#f1b6da\"],[0.4,\"#fde0ef\"],[0.5,\"#f7f7f7\"],[0.6,\"#e6f5d0\"],[0.7,\"#b8e186\"],[0.8,\"#7fbc41\"],[0.9,\"#4d9221\"],[1,\"#276419\"]]},\"xaxis\":{\"gridcolor\":\"#EBF0F8\",\"linecolor\":\"#EBF0F8\",\"ticks\":\"\",\"title\":{\"standoff\":15},\"zerolinecolor\":\"#EBF0F8\",\"automargin\":true,\"zerolinewidth\":2},\"yaxis\":{\"gridcolor\":\"#EBF0F8\",\"linecolor\":\"#EBF0F8\",\"ticks\":\"\",\"title\":{\"standoff\":15},\"zerolinecolor\":\"#EBF0F8\",\"automargin\":true,\"zerolinewidth\":2},\"scene\":{\"xaxis\":{\"backgroundcolor\":\"white\",\"gridcolor\":\"#DFE8F3\",\"linecolor\":\"#EBF0F8\",\"showbackground\":true,\"ticks\":\"\",\"zerolinecolor\":\"#EBF0F8\",\"gridwidth\":2},\"yaxis\":{\"backgroundcolor\":\"white\",\"gridcolor\":\"#DFE8F3\",\"linecolor\":\"#EBF0F8\",\"showbackground\":true,\"ticks\":\"\",\"zerolinecolor\":\"#EBF0F8\",\"gridwidth\":2},\"zaxis\":{\"backgroundcolor\":\"white\",\"gridcolor\":\"#DFE8F3\",\"linecolor\":\"#EBF0F8\",\"showbackground\":true,\"ticks\":\"\",\"zerolinecolor\":\"#EBF0F8\",\"gridwidth\":2}},\"shapedefaults\":{\"line\":{\"color\":\"#2a3f5f\"}},\"annotationdefaults\":{\"arrowcolor\":\"#2a3f5f\",\"arrowhead\":0,\"arrowwidth\":1},\"geo\":{\"bgcolor\":\"white\",\"landcolor\":\"white\",\"subunitcolor\":\"#C8D4E3\",\"showland\":true,\"showlakes\":true,\"lakecolor\":\"white\"},\"title\":{\"x\":0.05},\"mapbox\":{\"style\":\"light\"}}},\"xaxis\":{\"anchor\":\"y\",\"domain\":[0.0,1.0],\"title\":{\"text\":\"index\"}},\"yaxis\":{\"anchor\":\"x\",\"domain\":[0.0,1.0],\"title\":{\"text\":\"Impressions\"}},\"legend\":{\"tracegroupgap\":0},\"title\":{\"text\":\"Impressions Over Time\"}},                        {\"responsive\": true}                    ).then(function(){\n",
              "                            \n",
              "var gd = document.getElementById('506bd4bc-55fe-4ff5-a0b5-bb5867b26703');\n",
              "var x = new MutationObserver(function (mutations, observer) {{\n",
              "        var display = window.getComputedStyle(gd).display;\n",
              "        if (!display || display === 'none') {{\n",
              "            console.log([gd, 'removed!']);\n",
              "            Plotly.purge(gd);\n",
              "            observer.disconnect();\n",
              "        }}\n",
              "}});\n",
              "\n",
              "// Listen for the removal of the full notebook cells\n",
              "var notebookContainer = gd.closest('#notebook-container');\n",
              "if (notebookContainer) {{\n",
              "    x.observe(notebookContainer, {childList: true});\n",
              "}}\n",
              "\n",
              "// Listen for the clearing of the current output cell\n",
              "var outputEl = gd.closest('.output');\n",
              "if (outputEl) {{\n",
              "    x.observe(outputEl, {childList: true});\n",
              "}}\n",
              "\n",
              "                        })                };                            </script>        </div>\n",
              "</body>\n",
              "</html>"
            ]
          },
          "metadata": {}
        }
      ],
      "source": [
        "#check number of impressions on each post over time\n",
        "\n",
        "fig = px.line(data, x= data.index,\n",
        "              y='Impressions',\n",
        "              title='Impressions Over Time')\n",
        "fig.show()"
      ]
    },
    {
      "cell_type": "code",
      "execution_count": 11,
      "id": "2214894b",
      "metadata": {
        "execution": {
          "iopub.execute_input": "2023-07-18T16:39:30.397340Z",
          "iopub.status.busy": "2023-07-18T16:39:30.396563Z",
          "iopub.status.idle": "2023-07-18T16:39:30.416512Z",
          "shell.execute_reply": "2023-07-18T16:39:30.415357Z"
        },
        "papermill": {
          "duration": 0.03227,
          "end_time": "2023-07-18T16:39:30.419631",
          "exception": false,
          "start_time": "2023-07-18T16:39:30.387361",
          "status": "completed"
        },
        "tags": [],
        "colab": {
          "base_uri": "https://localhost:8080/",
          "height": 542
        },
        "id": "2214894b",
        "outputId": "099edb21-3c23-4dea-f4df-36fe1dad1d03"
      },
      "outputs": [
        {
          "output_type": "display_data",
          "data": {
            "text/html": [
              "<html>\n",
              "<head><meta charset=\"utf-8\" /></head>\n",
              "<body>\n",
              "    <div>            <script src=\"https://cdnjs.cloudflare.com/ajax/libs/mathjax/2.7.5/MathJax.js?config=TeX-AMS-MML_SVG\"></script><script type=\"text/javascript\">if (window.MathJax && window.MathJax.Hub && window.MathJax.Hub.Config) {window.MathJax.Hub.Config({SVG: {font: \"STIX-Web\"}});}</script>                <script type=\"text/javascript\">window.PlotlyConfig = {MathJaxConfig: 'local'};</script>\n",
              "        <script charset=\"utf-8\" src=\"https://cdn.plot.ly/plotly-2.35.2.min.js\"></script>                <div id=\"725169de-65e0-4970-889c-dc16379a8725\" class=\"plotly-graph-div\" style=\"height:525px; width:100%;\"></div>            <script type=\"text/javascript\">                                    window.PLOTLYENV=window.PLOTLYENV || {};                                    if (document.getElementById(\"725169de-65e0-4970-889c-dc16379a8725\")) {                    Plotly.newPlot(                        \"725169de-65e0-4970-889c-dc16379a8725\",                        [{\"name\":\"Likes\",\"x\":[0,1,2,3,4,5,6,7,8,9,10,11,12,13,14,15,16,17,18,19,20,21,22,23,24,25,26,27,28,29,30,31,32,33,34,35,36,37,38,39,40,41,42,43,44,45,46,47,48,49,50,51,52,53,54,55,56,57,58,59,60,61,62,63,64,65,66,67,68,69,70,71,72,73,74,75,76,77,78,79,80,81,82,83,84,85,86,87,88,89,90,91,92,93,94,95,96,97,98,99,100,101,102,103,104,105,106,107,108,109,110,111,112,113,114,115,116,117,118,119],\"y\":[162,224,131,213,123,144,76,124,159,191,81,151,162,142,294,159,205,121,151,72,76,91,195,129,160,175,147,114,151,92,214,150,122,152,196,86,85,156,72,82,416,180,150,127,167,225,137,114,263,328,126,236,99,212,297,142,186,112,149,132,115,248,178,107,269,96,134,301,187,94,114,96,138,122,257,95,244,190,118,178,170,250,159,205,121,151,72,137,114,263,328,126,129,160,175,147,114,151,92,275,192,203,145,168,194,250,171,416,249,308,163,86,210,172,373,148,92,549,443,500],\"type\":\"scatter\"},{\"name\":\"Saves\",\"x\":[0,1,2,3,4,5,6,7,8,9,10,11,12,13,14,15,16,17,18,19,20,21,22,23,24,25,26,27,28,29,30,31,32,33,34,35,36,37,38,39,40,41,42,43,44,45,46,47,48,49,50,51,52,53,54,55,56,57,58,59,60,61,62,63,64,65,66,67,68,69,70,71,72,73,74,75,76,77,78,79,80,81,82,83,84,85,86,87,88,89,90,91,92,93,94,95,96,97,98,99,100,101,102,103,104,105,106,107,108,109,110,111,112,113,114,115,116,117,118,119],\"y\":[98,194,41,172,96,74,22,135,155,122,28,122,119,121,100,101,111,106,82,40,49,72,167,63,144,135,61,40,139,52,84,81,79,105,90,34,45,98,35,49,252,167,111,90,144,263,137,67,288,668,42,342,48,250,219,118,143,99,89,148,42,171,109,38,421,38,116,225,144,51,104,33,174,46,179,34,99,174,70,149,207,318,101,111,106,82,40,137,67,288,668,42,63,144,135,61,40,139,52,393,152,83,74,94,188,214,73,285,469,504,149,55,273,182,573,135,36,1095,653,60],\"type\":\"scatter\"},{\"name\":\"Follows\",\"x\":[0,1,2,3,4,5,6,7,8,9,10,11,12,13,14,15,16,17,18,19,20,21,22,23,24,25,26,27,28,29,30,31,32,33,34,35,36,37,38,39,40,41,42,43,44,45,46,47,48,49,50,51,52,53,54,55,56,57,58,59,60,61,62,63,64,65,66,67,68,69,70,71,72,73,74,75,76,77,78,79,80,81,82,83,84,85,86,87,88,89,90,91,92,93,94,95,96,97,98,99,100,101,102,103,104,105,106,107,108,109,110,111,112,113,114,115,116,117,118,119],\"y\":[2,10,12,8,0,2,0,6,4,6,4,0,2,4,42,6,2,2,30,0,0,24,100,2,4,6,6,6,2,2,20,2,4,8,26,2,2,4,0,2,94,8,18,10,4,4,4,4,18,38,10,12,4,4,74,0,6,6,0,6,12,10,8,8,46,12,10,94,6,10,6,4,12,16,12,8,32,8,16,6,10,10,6,2,2,30,0,4,4,18,38,10,2,4,6,6,6,2,2,14,8,14,28,18,12,34,26,260,16,96,20,30,58,100,80,18,10,214,228,207],\"type\":\"scatter\"}],                        {\"template\":{\"data\":{\"histogram2dcontour\":[{\"type\":\"histogram2dcontour\",\"colorbar\":{\"outlinewidth\":0,\"ticks\":\"\"},\"colorscale\":[[0.0,\"#0d0887\"],[0.1111111111111111,\"#46039f\"],[0.2222222222222222,\"#7201a8\"],[0.3333333333333333,\"#9c179e\"],[0.4444444444444444,\"#bd3786\"],[0.5555555555555556,\"#d8576b\"],[0.6666666666666666,\"#ed7953\"],[0.7777777777777778,\"#fb9f3a\"],[0.8888888888888888,\"#fdca26\"],[1.0,\"#f0f921\"]]}],\"choropleth\":[{\"type\":\"choropleth\",\"colorbar\":{\"outlinewidth\":0,\"ticks\":\"\"}}],\"histogram2d\":[{\"type\":\"histogram2d\",\"colorbar\":{\"outlinewidth\":0,\"ticks\":\"\"},\"colorscale\":[[0.0,\"#0d0887\"],[0.1111111111111111,\"#46039f\"],[0.2222222222222222,\"#7201a8\"],[0.3333333333333333,\"#9c179e\"],[0.4444444444444444,\"#bd3786\"],[0.5555555555555556,\"#d8576b\"],[0.6666666666666666,\"#ed7953\"],[0.7777777777777778,\"#fb9f3a\"],[0.8888888888888888,\"#fdca26\"],[1.0,\"#f0f921\"]]}],\"heatmap\":[{\"type\":\"heatmap\",\"colorbar\":{\"outlinewidth\":0,\"ticks\":\"\"},\"colorscale\":[[0.0,\"#0d0887\"],[0.1111111111111111,\"#46039f\"],[0.2222222222222222,\"#7201a8\"],[0.3333333333333333,\"#9c179e\"],[0.4444444444444444,\"#bd3786\"],[0.5555555555555556,\"#d8576b\"],[0.6666666666666666,\"#ed7953\"],[0.7777777777777778,\"#fb9f3a\"],[0.8888888888888888,\"#fdca26\"],[1.0,\"#f0f921\"]]}],\"heatmapgl\":[{\"type\":\"heatmapgl\",\"colorbar\":{\"outlinewidth\":0,\"ticks\":\"\"},\"colorscale\":[[0.0,\"#0d0887\"],[0.1111111111111111,\"#46039f\"],[0.2222222222222222,\"#7201a8\"],[0.3333333333333333,\"#9c179e\"],[0.4444444444444444,\"#bd3786\"],[0.5555555555555556,\"#d8576b\"],[0.6666666666666666,\"#ed7953\"],[0.7777777777777778,\"#fb9f3a\"],[0.8888888888888888,\"#fdca26\"],[1.0,\"#f0f921\"]]}],\"contourcarpet\":[{\"type\":\"contourcarpet\",\"colorbar\":{\"outlinewidth\":0,\"ticks\":\"\"}}],\"contour\":[{\"type\":\"contour\",\"colorbar\":{\"outlinewidth\":0,\"ticks\":\"\"},\"colorscale\":[[0.0,\"#0d0887\"],[0.1111111111111111,\"#46039f\"],[0.2222222222222222,\"#7201a8\"],[0.3333333333333333,\"#9c179e\"],[0.4444444444444444,\"#bd3786\"],[0.5555555555555556,\"#d8576b\"],[0.6666666666666666,\"#ed7953\"],[0.7777777777777778,\"#fb9f3a\"],[0.8888888888888888,\"#fdca26\"],[1.0,\"#f0f921\"]]}],\"surface\":[{\"type\":\"surface\",\"colorbar\":{\"outlinewidth\":0,\"ticks\":\"\"},\"colorscale\":[[0.0,\"#0d0887\"],[0.1111111111111111,\"#46039f\"],[0.2222222222222222,\"#7201a8\"],[0.3333333333333333,\"#9c179e\"],[0.4444444444444444,\"#bd3786\"],[0.5555555555555556,\"#d8576b\"],[0.6666666666666666,\"#ed7953\"],[0.7777777777777778,\"#fb9f3a\"],[0.8888888888888888,\"#fdca26\"],[1.0,\"#f0f921\"]]}],\"mesh3d\":[{\"type\":\"mesh3d\",\"colorbar\":{\"outlinewidth\":0,\"ticks\":\"\"}}],\"scatter\":[{\"fillpattern\":{\"fillmode\":\"overlay\",\"size\":10,\"solidity\":0.2},\"type\":\"scatter\"}],\"parcoords\":[{\"type\":\"parcoords\",\"line\":{\"colorbar\":{\"outlinewidth\":0,\"ticks\":\"\"}}}],\"scatterpolargl\":[{\"type\":\"scatterpolargl\",\"marker\":{\"colorbar\":{\"outlinewidth\":0,\"ticks\":\"\"}}}],\"bar\":[{\"error_x\":{\"color\":\"#2a3f5f\"},\"error_y\":{\"color\":\"#2a3f5f\"},\"marker\":{\"line\":{\"color\":\"white\",\"width\":0.5},\"pattern\":{\"fillmode\":\"overlay\",\"size\":10,\"solidity\":0.2}},\"type\":\"bar\"}],\"scattergeo\":[{\"type\":\"scattergeo\",\"marker\":{\"colorbar\":{\"outlinewidth\":0,\"ticks\":\"\"}}}],\"scatterpolar\":[{\"type\":\"scatterpolar\",\"marker\":{\"colorbar\":{\"outlinewidth\":0,\"ticks\":\"\"}}}],\"histogram\":[{\"marker\":{\"pattern\":{\"fillmode\":\"overlay\",\"size\":10,\"solidity\":0.2}},\"type\":\"histogram\"}],\"scattergl\":[{\"type\":\"scattergl\",\"marker\":{\"colorbar\":{\"outlinewidth\":0,\"ticks\":\"\"}}}],\"scatter3d\":[{\"type\":\"scatter3d\",\"line\":{\"colorbar\":{\"outlinewidth\":0,\"ticks\":\"\"}},\"marker\":{\"colorbar\":{\"outlinewidth\":0,\"ticks\":\"\"}}}],\"scattermapbox\":[{\"type\":\"scattermapbox\",\"marker\":{\"colorbar\":{\"outlinewidth\":0,\"ticks\":\"\"}}}],\"scatterternary\":[{\"type\":\"scatterternary\",\"marker\":{\"colorbar\":{\"outlinewidth\":0,\"ticks\":\"\"}}}],\"scattercarpet\":[{\"type\":\"scattercarpet\",\"marker\":{\"colorbar\":{\"outlinewidth\":0,\"ticks\":\"\"}}}],\"carpet\":[{\"aaxis\":{\"endlinecolor\":\"#2a3f5f\",\"gridcolor\":\"#C8D4E3\",\"linecolor\":\"#C8D4E3\",\"minorgridcolor\":\"#C8D4E3\",\"startlinecolor\":\"#2a3f5f\"},\"baxis\":{\"endlinecolor\":\"#2a3f5f\",\"gridcolor\":\"#C8D4E3\",\"linecolor\":\"#C8D4E3\",\"minorgridcolor\":\"#C8D4E3\",\"startlinecolor\":\"#2a3f5f\"},\"type\":\"carpet\"}],\"table\":[{\"cells\":{\"fill\":{\"color\":\"#EBF0F8\"},\"line\":{\"color\":\"white\"}},\"header\":{\"fill\":{\"color\":\"#C8D4E3\"},\"line\":{\"color\":\"white\"}},\"type\":\"table\"}],\"barpolar\":[{\"marker\":{\"line\":{\"color\":\"white\",\"width\":0.5},\"pattern\":{\"fillmode\":\"overlay\",\"size\":10,\"solidity\":0.2}},\"type\":\"barpolar\"}],\"pie\":[{\"automargin\":true,\"type\":\"pie\"}]},\"layout\":{\"autotypenumbers\":\"strict\",\"colorway\":[\"#636efa\",\"#EF553B\",\"#00cc96\",\"#ab63fa\",\"#FFA15A\",\"#19d3f3\",\"#FF6692\",\"#B6E880\",\"#FF97FF\",\"#FECB52\"],\"font\":{\"color\":\"#2a3f5f\"},\"hovermode\":\"closest\",\"hoverlabel\":{\"align\":\"left\"},\"paper_bgcolor\":\"white\",\"plot_bgcolor\":\"white\",\"polar\":{\"bgcolor\":\"white\",\"angularaxis\":{\"gridcolor\":\"#EBF0F8\",\"linecolor\":\"#EBF0F8\",\"ticks\":\"\"},\"radialaxis\":{\"gridcolor\":\"#EBF0F8\",\"linecolor\":\"#EBF0F8\",\"ticks\":\"\"}},\"ternary\":{\"bgcolor\":\"white\",\"aaxis\":{\"gridcolor\":\"#DFE8F3\",\"linecolor\":\"#A2B1C6\",\"ticks\":\"\"},\"baxis\":{\"gridcolor\":\"#DFE8F3\",\"linecolor\":\"#A2B1C6\",\"ticks\":\"\"},\"caxis\":{\"gridcolor\":\"#DFE8F3\",\"linecolor\":\"#A2B1C6\",\"ticks\":\"\"}},\"coloraxis\":{\"colorbar\":{\"outlinewidth\":0,\"ticks\":\"\"}},\"colorscale\":{\"sequential\":[[0.0,\"#0d0887\"],[0.1111111111111111,\"#46039f\"],[0.2222222222222222,\"#7201a8\"],[0.3333333333333333,\"#9c179e\"],[0.4444444444444444,\"#bd3786\"],[0.5555555555555556,\"#d8576b\"],[0.6666666666666666,\"#ed7953\"],[0.7777777777777778,\"#fb9f3a\"],[0.8888888888888888,\"#fdca26\"],[1.0,\"#f0f921\"]],\"sequentialminus\":[[0.0,\"#0d0887\"],[0.1111111111111111,\"#46039f\"],[0.2222222222222222,\"#7201a8\"],[0.3333333333333333,\"#9c179e\"],[0.4444444444444444,\"#bd3786\"],[0.5555555555555556,\"#d8576b\"],[0.6666666666666666,\"#ed7953\"],[0.7777777777777778,\"#fb9f3a\"],[0.8888888888888888,\"#fdca26\"],[1.0,\"#f0f921\"]],\"diverging\":[[0,\"#8e0152\"],[0.1,\"#c51b7d\"],[0.2,\"#de77ae\"],[0.3,\"#f1b6da\"],[0.4,\"#fde0ef\"],[0.5,\"#f7f7f7\"],[0.6,\"#e6f5d0\"],[0.7,\"#b8e186\"],[0.8,\"#7fbc41\"],[0.9,\"#4d9221\"],[1,\"#276419\"]]},\"xaxis\":{\"gridcolor\":\"#EBF0F8\",\"linecolor\":\"#EBF0F8\",\"ticks\":\"\",\"title\":{\"standoff\":15},\"zerolinecolor\":\"#EBF0F8\",\"automargin\":true,\"zerolinewidth\":2},\"yaxis\":{\"gridcolor\":\"#EBF0F8\",\"linecolor\":\"#EBF0F8\",\"ticks\":\"\",\"title\":{\"standoff\":15},\"zerolinecolor\":\"#EBF0F8\",\"automargin\":true,\"zerolinewidth\":2},\"scene\":{\"xaxis\":{\"backgroundcolor\":\"white\",\"gridcolor\":\"#DFE8F3\",\"linecolor\":\"#EBF0F8\",\"showbackground\":true,\"ticks\":\"\",\"zerolinecolor\":\"#EBF0F8\",\"gridwidth\":2},\"yaxis\":{\"backgroundcolor\":\"white\",\"gridcolor\":\"#DFE8F3\",\"linecolor\":\"#EBF0F8\",\"showbackground\":true,\"ticks\":\"\",\"zerolinecolor\":\"#EBF0F8\",\"gridwidth\":2},\"zaxis\":{\"backgroundcolor\":\"white\",\"gridcolor\":\"#DFE8F3\",\"linecolor\":\"#EBF0F8\",\"showbackground\":true,\"ticks\":\"\",\"zerolinecolor\":\"#EBF0F8\",\"gridwidth\":2}},\"shapedefaults\":{\"line\":{\"color\":\"#2a3f5f\"}},\"annotationdefaults\":{\"arrowcolor\":\"#2a3f5f\",\"arrowhead\":0,\"arrowwidth\":1},\"geo\":{\"bgcolor\":\"white\",\"landcolor\":\"white\",\"subunitcolor\":\"#C8D4E3\",\"showland\":true,\"showlakes\":true,\"lakecolor\":\"white\"},\"title\":{\"x\":0.05},\"mapbox\":{\"style\":\"light\"}}},\"title\":{\"text\":\"Metrics Over Time\"},\"xaxis\":{\"title\":{\"text\":\"Date\"}},\"yaxis\":{\"title\":{\"text\":\"Count\"}}},                        {\"responsive\": true}                    ).then(function(){\n",
              "                            \n",
              "var gd = document.getElementById('725169de-65e0-4970-889c-dc16379a8725');\n",
              "var x = new MutationObserver(function (mutations, observer) {{\n",
              "        var display = window.getComputedStyle(gd).display;\n",
              "        if (!display || display === 'none') {{\n",
              "            console.log([gd, 'removed!']);\n",
              "            Plotly.purge(gd);\n",
              "            observer.disconnect();\n",
              "        }}\n",
              "}});\n",
              "\n",
              "// Listen for the removal of the full notebook cells\n",
              "var notebookContainer = gd.closest('#notebook-container');\n",
              "if (notebookContainer) {{\n",
              "    x.observe(notebookContainer, {childList: true});\n",
              "}}\n",
              "\n",
              "// Listen for the clearing of the current output cell\n",
              "var outputEl = gd.closest('.output');\n",
              "if (outputEl) {{\n",
              "    x.observe(outputEl, {childList: true});\n",
              "}}\n",
              "\n",
              "                        })                };                            </script>        </div>\n",
              "</body>\n",
              "</html>"
            ]
          },
          "metadata": {}
        }
      ],
      "source": [
        "#check the metrics considering likes,saves and follows\n",
        "\n",
        "fig = go.Figure()\n",
        "\n",
        "fig.add_trace(go.Scatter(x=data.index, y=data['Likes'], name='Likes'))\n",
        "fig.add_trace(go.Scatter(x=data.index, y=data['Saves'], name='Saves'))\n",
        "fig.add_trace(go.Scatter(x=data.index, y=data['Follows'], name='Follows'))\n",
        "\n",
        "fig.update_layout(title='Metrics Over Time',\n",
        "                  xaxis_title='Date',\n",
        "                  yaxis_title='Count')\n",
        "\n",
        "fig.show()"
      ]
    },
    {
      "cell_type": "code",
      "execution_count": 12,
      "id": "85326516",
      "metadata": {
        "execution": {
          "iopub.execute_input": "2023-07-18T16:39:30.438488Z",
          "iopub.status.busy": "2023-07-18T16:39:30.438042Z",
          "iopub.status.idle": "2023-07-18T16:39:30.523128Z",
          "shell.execute_reply": "2023-07-18T16:39:30.521766Z"
        },
        "papermill": {
          "duration": 0.097648,
          "end_time": "2023-07-18T16:39:30.525614",
          "exception": false,
          "start_time": "2023-07-18T16:39:30.427966",
          "status": "completed"
        },
        "tags": [],
        "colab": {
          "base_uri": "https://localhost:8080/",
          "height": 542
        },
        "id": "85326516",
        "outputId": "07080201-b835-4ef5-99bb-c897e08c6378"
      },
      "outputs": [
        {
          "output_type": "display_data",
          "data": {
            "text/html": [
              "<html>\n",
              "<head><meta charset=\"utf-8\" /></head>\n",
              "<body>\n",
              "    <div>            <script src=\"https://cdnjs.cloudflare.com/ajax/libs/mathjax/2.7.5/MathJax.js?config=TeX-AMS-MML_SVG\"></script><script type=\"text/javascript\">if (window.MathJax && window.MathJax.Hub && window.MathJax.Hub.Config) {window.MathJax.Hub.Config({SVG: {font: \"STIX-Web\"}});}</script>                <script type=\"text/javascript\">window.PlotlyConfig = {MathJaxConfig: 'local'};</script>\n",
              "        <script charset=\"utf-8\" src=\"https://cdn.plot.ly/plotly-2.35.2.min.js\"></script>                <div id=\"362b0356-16fb-45f8-bd75-3f65866dc73f\" class=\"plotly-graph-div\" style=\"height:525px; width:100%;\"></div>            <script type=\"text/javascript\">                                    window.PLOTLYENV=window.PLOTLYENV || {};                                    if (document.getElementById(\"362b0356-16fb-45f8-bd75-3f65866dc73f\")) {                    Plotly.newPlot(                        \"362b0356-16fb-45f8-bd75-3f65866dc73f\",                        [{\"domain\":{\"x\":[0.0,1.0],\"y\":[0.0,1.0]},\"hovertemplate\":\"label=%{label}\\u003cbr\\u003evalue=%{value}\\u003cextra\\u003e\\u003c\\u002fextra\\u003e\",\"labels\":[\"From Home\",\"From Hashtags\",\"From Explore\",\"From Other\"],\"legendgroup\":\"\",\"name\":\"\",\"showlegend\":true,\"values\":[296724,227616,140059,21958],\"type\":\"pie\"}],                        {\"template\":{\"data\":{\"histogram2dcontour\":[{\"type\":\"histogram2dcontour\",\"colorbar\":{\"outlinewidth\":0,\"ticks\":\"\"},\"colorscale\":[[0.0,\"#0d0887\"],[0.1111111111111111,\"#46039f\"],[0.2222222222222222,\"#7201a8\"],[0.3333333333333333,\"#9c179e\"],[0.4444444444444444,\"#bd3786\"],[0.5555555555555556,\"#d8576b\"],[0.6666666666666666,\"#ed7953\"],[0.7777777777777778,\"#fb9f3a\"],[0.8888888888888888,\"#fdca26\"],[1.0,\"#f0f921\"]]}],\"choropleth\":[{\"type\":\"choropleth\",\"colorbar\":{\"outlinewidth\":0,\"ticks\":\"\"}}],\"histogram2d\":[{\"type\":\"histogram2d\",\"colorbar\":{\"outlinewidth\":0,\"ticks\":\"\"},\"colorscale\":[[0.0,\"#0d0887\"],[0.1111111111111111,\"#46039f\"],[0.2222222222222222,\"#7201a8\"],[0.3333333333333333,\"#9c179e\"],[0.4444444444444444,\"#bd3786\"],[0.5555555555555556,\"#d8576b\"],[0.6666666666666666,\"#ed7953\"],[0.7777777777777778,\"#fb9f3a\"],[0.8888888888888888,\"#fdca26\"],[1.0,\"#f0f921\"]]}],\"heatmap\":[{\"type\":\"heatmap\",\"colorbar\":{\"outlinewidth\":0,\"ticks\":\"\"},\"colorscale\":[[0.0,\"#0d0887\"],[0.1111111111111111,\"#46039f\"],[0.2222222222222222,\"#7201a8\"],[0.3333333333333333,\"#9c179e\"],[0.4444444444444444,\"#bd3786\"],[0.5555555555555556,\"#d8576b\"],[0.6666666666666666,\"#ed7953\"],[0.7777777777777778,\"#fb9f3a\"],[0.8888888888888888,\"#fdca26\"],[1.0,\"#f0f921\"]]}],\"heatmapgl\":[{\"type\":\"heatmapgl\",\"colorbar\":{\"outlinewidth\":0,\"ticks\":\"\"},\"colorscale\":[[0.0,\"#0d0887\"],[0.1111111111111111,\"#46039f\"],[0.2222222222222222,\"#7201a8\"],[0.3333333333333333,\"#9c179e\"],[0.4444444444444444,\"#bd3786\"],[0.5555555555555556,\"#d8576b\"],[0.6666666666666666,\"#ed7953\"],[0.7777777777777778,\"#fb9f3a\"],[0.8888888888888888,\"#fdca26\"],[1.0,\"#f0f921\"]]}],\"contourcarpet\":[{\"type\":\"contourcarpet\",\"colorbar\":{\"outlinewidth\":0,\"ticks\":\"\"}}],\"contour\":[{\"type\":\"contour\",\"colorbar\":{\"outlinewidth\":0,\"ticks\":\"\"},\"colorscale\":[[0.0,\"#0d0887\"],[0.1111111111111111,\"#46039f\"],[0.2222222222222222,\"#7201a8\"],[0.3333333333333333,\"#9c179e\"],[0.4444444444444444,\"#bd3786\"],[0.5555555555555556,\"#d8576b\"],[0.6666666666666666,\"#ed7953\"],[0.7777777777777778,\"#fb9f3a\"],[0.8888888888888888,\"#fdca26\"],[1.0,\"#f0f921\"]]}],\"surface\":[{\"type\":\"surface\",\"colorbar\":{\"outlinewidth\":0,\"ticks\":\"\"},\"colorscale\":[[0.0,\"#0d0887\"],[0.1111111111111111,\"#46039f\"],[0.2222222222222222,\"#7201a8\"],[0.3333333333333333,\"#9c179e\"],[0.4444444444444444,\"#bd3786\"],[0.5555555555555556,\"#d8576b\"],[0.6666666666666666,\"#ed7953\"],[0.7777777777777778,\"#fb9f3a\"],[0.8888888888888888,\"#fdca26\"],[1.0,\"#f0f921\"]]}],\"mesh3d\":[{\"type\":\"mesh3d\",\"colorbar\":{\"outlinewidth\":0,\"ticks\":\"\"}}],\"scatter\":[{\"fillpattern\":{\"fillmode\":\"overlay\",\"size\":10,\"solidity\":0.2},\"type\":\"scatter\"}],\"parcoords\":[{\"type\":\"parcoords\",\"line\":{\"colorbar\":{\"outlinewidth\":0,\"ticks\":\"\"}}}],\"scatterpolargl\":[{\"type\":\"scatterpolargl\",\"marker\":{\"colorbar\":{\"outlinewidth\":0,\"ticks\":\"\"}}}],\"bar\":[{\"error_x\":{\"color\":\"#2a3f5f\"},\"error_y\":{\"color\":\"#2a3f5f\"},\"marker\":{\"line\":{\"color\":\"white\",\"width\":0.5},\"pattern\":{\"fillmode\":\"overlay\",\"size\":10,\"solidity\":0.2}},\"type\":\"bar\"}],\"scattergeo\":[{\"type\":\"scattergeo\",\"marker\":{\"colorbar\":{\"outlinewidth\":0,\"ticks\":\"\"}}}],\"scatterpolar\":[{\"type\":\"scatterpolar\",\"marker\":{\"colorbar\":{\"outlinewidth\":0,\"ticks\":\"\"}}}],\"histogram\":[{\"marker\":{\"pattern\":{\"fillmode\":\"overlay\",\"size\":10,\"solidity\":0.2}},\"type\":\"histogram\"}],\"scattergl\":[{\"type\":\"scattergl\",\"marker\":{\"colorbar\":{\"outlinewidth\":0,\"ticks\":\"\"}}}],\"scatter3d\":[{\"type\":\"scatter3d\",\"line\":{\"colorbar\":{\"outlinewidth\":0,\"ticks\":\"\"}},\"marker\":{\"colorbar\":{\"outlinewidth\":0,\"ticks\":\"\"}}}],\"scattermapbox\":[{\"type\":\"scattermapbox\",\"marker\":{\"colorbar\":{\"outlinewidth\":0,\"ticks\":\"\"}}}],\"scatterternary\":[{\"type\":\"scatterternary\",\"marker\":{\"colorbar\":{\"outlinewidth\":0,\"ticks\":\"\"}}}],\"scattercarpet\":[{\"type\":\"scattercarpet\",\"marker\":{\"colorbar\":{\"outlinewidth\":0,\"ticks\":\"\"}}}],\"carpet\":[{\"aaxis\":{\"endlinecolor\":\"#2a3f5f\",\"gridcolor\":\"#C8D4E3\",\"linecolor\":\"#C8D4E3\",\"minorgridcolor\":\"#C8D4E3\",\"startlinecolor\":\"#2a3f5f\"},\"baxis\":{\"endlinecolor\":\"#2a3f5f\",\"gridcolor\":\"#C8D4E3\",\"linecolor\":\"#C8D4E3\",\"minorgridcolor\":\"#C8D4E3\",\"startlinecolor\":\"#2a3f5f\"},\"type\":\"carpet\"}],\"table\":[{\"cells\":{\"fill\":{\"color\":\"#EBF0F8\"},\"line\":{\"color\":\"white\"}},\"header\":{\"fill\":{\"color\":\"#C8D4E3\"},\"line\":{\"color\":\"white\"}},\"type\":\"table\"}],\"barpolar\":[{\"marker\":{\"line\":{\"color\":\"white\",\"width\":0.5},\"pattern\":{\"fillmode\":\"overlay\",\"size\":10,\"solidity\":0.2}},\"type\":\"barpolar\"}],\"pie\":[{\"automargin\":true,\"type\":\"pie\"}]},\"layout\":{\"autotypenumbers\":\"strict\",\"colorway\":[\"#636efa\",\"#EF553B\",\"#00cc96\",\"#ab63fa\",\"#FFA15A\",\"#19d3f3\",\"#FF6692\",\"#B6E880\",\"#FF97FF\",\"#FECB52\"],\"font\":{\"color\":\"#2a3f5f\"},\"hovermode\":\"closest\",\"hoverlabel\":{\"align\":\"left\"},\"paper_bgcolor\":\"white\",\"plot_bgcolor\":\"white\",\"polar\":{\"bgcolor\":\"white\",\"angularaxis\":{\"gridcolor\":\"#EBF0F8\",\"linecolor\":\"#EBF0F8\",\"ticks\":\"\"},\"radialaxis\":{\"gridcolor\":\"#EBF0F8\",\"linecolor\":\"#EBF0F8\",\"ticks\":\"\"}},\"ternary\":{\"bgcolor\":\"white\",\"aaxis\":{\"gridcolor\":\"#DFE8F3\",\"linecolor\":\"#A2B1C6\",\"ticks\":\"\"},\"baxis\":{\"gridcolor\":\"#DFE8F3\",\"linecolor\":\"#A2B1C6\",\"ticks\":\"\"},\"caxis\":{\"gridcolor\":\"#DFE8F3\",\"linecolor\":\"#A2B1C6\",\"ticks\":\"\"}},\"coloraxis\":{\"colorbar\":{\"outlinewidth\":0,\"ticks\":\"\"}},\"colorscale\":{\"sequential\":[[0.0,\"#0d0887\"],[0.1111111111111111,\"#46039f\"],[0.2222222222222222,\"#7201a8\"],[0.3333333333333333,\"#9c179e\"],[0.4444444444444444,\"#bd3786\"],[0.5555555555555556,\"#d8576b\"],[0.6666666666666666,\"#ed7953\"],[0.7777777777777778,\"#fb9f3a\"],[0.8888888888888888,\"#fdca26\"],[1.0,\"#f0f921\"]],\"sequentialminus\":[[0.0,\"#0d0887\"],[0.1111111111111111,\"#46039f\"],[0.2222222222222222,\"#7201a8\"],[0.3333333333333333,\"#9c179e\"],[0.4444444444444444,\"#bd3786\"],[0.5555555555555556,\"#d8576b\"],[0.6666666666666666,\"#ed7953\"],[0.7777777777777778,\"#fb9f3a\"],[0.8888888888888888,\"#fdca26\"],[1.0,\"#f0f921\"]],\"diverging\":[[0,\"#8e0152\"],[0.1,\"#c51b7d\"],[0.2,\"#de77ae\"],[0.3,\"#f1b6da\"],[0.4,\"#fde0ef\"],[0.5,\"#f7f7f7\"],[0.6,\"#e6f5d0\"],[0.7,\"#b8e186\"],[0.8,\"#7fbc41\"],[0.9,\"#4d9221\"],[1,\"#276419\"]]},\"xaxis\":{\"gridcolor\":\"#EBF0F8\",\"linecolor\":\"#EBF0F8\",\"ticks\":\"\",\"title\":{\"standoff\":15},\"zerolinecolor\":\"#EBF0F8\",\"automargin\":true,\"zerolinewidth\":2},\"yaxis\":{\"gridcolor\":\"#EBF0F8\",\"linecolor\":\"#EBF0F8\",\"ticks\":\"\",\"title\":{\"standoff\":15},\"zerolinecolor\":\"#EBF0F8\",\"automargin\":true,\"zerolinewidth\":2},\"scene\":{\"xaxis\":{\"backgroundcolor\":\"white\",\"gridcolor\":\"#DFE8F3\",\"linecolor\":\"#EBF0F8\",\"showbackground\":true,\"ticks\":\"\",\"zerolinecolor\":\"#EBF0F8\",\"gridwidth\":2},\"yaxis\":{\"backgroundcolor\":\"white\",\"gridcolor\":\"#DFE8F3\",\"linecolor\":\"#EBF0F8\",\"showbackground\":true,\"ticks\":\"\",\"zerolinecolor\":\"#EBF0F8\",\"gridwidth\":2},\"zaxis\":{\"backgroundcolor\":\"white\",\"gridcolor\":\"#DFE8F3\",\"linecolor\":\"#EBF0F8\",\"showbackground\":true,\"ticks\":\"\",\"zerolinecolor\":\"#EBF0F8\",\"gridwidth\":2}},\"shapedefaults\":{\"line\":{\"color\":\"#2a3f5f\"}},\"annotationdefaults\":{\"arrowcolor\":\"#2a3f5f\",\"arrowhead\":0,\"arrowwidth\":1},\"geo\":{\"bgcolor\":\"white\",\"landcolor\":\"white\",\"subunitcolor\":\"#C8D4E3\",\"showland\":true,\"showlakes\":true,\"lakecolor\":\"white\"},\"title\":{\"x\":0.05},\"mapbox\":{\"style\":\"light\"}}},\"legend\":{\"tracegroupgap\":0},\"title\":{\"text\":\"Reach from Multiple Sources\"},\"piecolorway\":[\"#FDFFB6\",\"#FAD1FA\",\"#D9EDF8\",\"#DEDAF4\"]},                        {\"responsive\": true}                    ).then(function(){\n",
              "                            \n",
              "var gd = document.getElementById('362b0356-16fb-45f8-bd75-3f65866dc73f');\n",
              "var x = new MutationObserver(function (mutations, observer) {{\n",
              "        var display = window.getComputedStyle(gd).display;\n",
              "        if (!display || display === 'none') {{\n",
              "            console.log([gd, 'removed!']);\n",
              "            Plotly.purge(gd);\n",
              "            observer.disconnect();\n",
              "        }}\n",
              "}});\n",
              "\n",
              "// Listen for the removal of the full notebook cells\n",
              "var notebookContainer = gd.closest('#notebook-container');\n",
              "if (notebookContainer) {{\n",
              "    x.observe(notebookContainer, {childList: true});\n",
              "}}\n",
              "\n",
              "// Listen for the clearing of the current output cell\n",
              "var outputEl = gd.closest('.output');\n",
              "if (outputEl) {{\n",
              "    x.observe(outputEl, {childList: true});\n",
              "}}\n",
              "\n",
              "                        })                };                            </script>        </div>\n",
              "</body>\n",
              "</html>"
            ]
          },
          "metadata": {}
        }
      ],
      "source": [
        "#distribution of reach from multiple sources\n",
        "\n",
        "reach_sources = ['From Home', 'From Hashtags', 'From Explore', 'From Other']\n",
        "reach_counts = [data[source].sum() for source in reach_sources]\n",
        "\n",
        "colors = ['#FDFFB6', '#FAD1FA', '#D9EDF8', '#DEDAF4']\n",
        "\n",
        "fig = px.pie(data_frame=data, names=reach_sources,\n",
        "             values=reach_counts,\n",
        "             title='Reach from Multiple Sources',\n",
        "             color_discrete_sequence=colors)\n",
        "fig.show()"
      ]
    },
    {
      "cell_type": "code",
      "execution_count": 13,
      "id": "cd2543f6",
      "metadata": {
        "execution": {
          "iopub.execute_input": "2023-07-18T16:39:30.546164Z",
          "iopub.status.busy": "2023-07-18T16:39:30.545785Z",
          "iopub.status.idle": "2023-07-18T16:39:30.606004Z",
          "shell.execute_reply": "2023-07-18T16:39:30.604994Z"
        },
        "papermill": {
          "duration": 0.0732,
          "end_time": "2023-07-18T16:39:30.608476",
          "exception": false,
          "start_time": "2023-07-18T16:39:30.535276",
          "status": "completed"
        },
        "tags": [],
        "colab": {
          "base_uri": "https://localhost:8080/",
          "height": 542
        },
        "id": "cd2543f6",
        "outputId": "2af9399c-5c20-4d67-ca8a-07aecffd20a6"
      },
      "outputs": [
        {
          "output_type": "display_data",
          "data": {
            "text/html": [
              "<html>\n",
              "<head><meta charset=\"utf-8\" /></head>\n",
              "<body>\n",
              "    <div>            <script src=\"https://cdnjs.cloudflare.com/ajax/libs/mathjax/2.7.5/MathJax.js?config=TeX-AMS-MML_SVG\"></script><script type=\"text/javascript\">if (window.MathJax && window.MathJax.Hub && window.MathJax.Hub.Config) {window.MathJax.Hub.Config({SVG: {font: \"STIX-Web\"}});}</script>                <script type=\"text/javascript\">window.PlotlyConfig = {MathJaxConfig: 'local'};</script>\n",
              "        <script charset=\"utf-8\" src=\"https://cdn.plot.ly/plotly-2.35.2.min.js\"></script>                <div id=\"e1d229ca-ce07-42eb-bebc-5afc942723a5\" class=\"plotly-graph-div\" style=\"height:525px; width:100%;\"></div>            <script type=\"text/javascript\">                                    window.PLOTLYENV=window.PLOTLYENV || {};                                    if (document.getElementById(\"e1d229ca-ce07-42eb-bebc-5afc942723a5\")) {                    Plotly.newPlot(                        \"e1d229ca-ce07-42eb-bebc-5afc942723a5\",                        [{\"domain\":{\"x\":[0.0,1.0],\"y\":[0.0,1.0]},\"hovertemplate\":\"label=%{label}\\u003cbr\\u003evalue=%{value}\\u003cextra\\u003e\\u003c\\u002fextra\\u003e\",\"labels\":[\"Saves\",\"Comments\",\"Shares\",\"Likes\"],\"legendgroup\":\"\",\"name\":\"\",\"showlegend\":true,\"values\":[18304,798,1135,21180],\"type\":\"pie\"}],                        {\"template\":{\"data\":{\"histogram2dcontour\":[{\"type\":\"histogram2dcontour\",\"colorbar\":{\"outlinewidth\":0,\"ticks\":\"\"},\"colorscale\":[[0.0,\"#0d0887\"],[0.1111111111111111,\"#46039f\"],[0.2222222222222222,\"#7201a8\"],[0.3333333333333333,\"#9c179e\"],[0.4444444444444444,\"#bd3786\"],[0.5555555555555556,\"#d8576b\"],[0.6666666666666666,\"#ed7953\"],[0.7777777777777778,\"#fb9f3a\"],[0.8888888888888888,\"#fdca26\"],[1.0,\"#f0f921\"]]}],\"choropleth\":[{\"type\":\"choropleth\",\"colorbar\":{\"outlinewidth\":0,\"ticks\":\"\"}}],\"histogram2d\":[{\"type\":\"histogram2d\",\"colorbar\":{\"outlinewidth\":0,\"ticks\":\"\"},\"colorscale\":[[0.0,\"#0d0887\"],[0.1111111111111111,\"#46039f\"],[0.2222222222222222,\"#7201a8\"],[0.3333333333333333,\"#9c179e\"],[0.4444444444444444,\"#bd3786\"],[0.5555555555555556,\"#d8576b\"],[0.6666666666666666,\"#ed7953\"],[0.7777777777777778,\"#fb9f3a\"],[0.8888888888888888,\"#fdca26\"],[1.0,\"#f0f921\"]]}],\"heatmap\":[{\"type\":\"heatmap\",\"colorbar\":{\"outlinewidth\":0,\"ticks\":\"\"},\"colorscale\":[[0.0,\"#0d0887\"],[0.1111111111111111,\"#46039f\"],[0.2222222222222222,\"#7201a8\"],[0.3333333333333333,\"#9c179e\"],[0.4444444444444444,\"#bd3786\"],[0.5555555555555556,\"#d8576b\"],[0.6666666666666666,\"#ed7953\"],[0.7777777777777778,\"#fb9f3a\"],[0.8888888888888888,\"#fdca26\"],[1.0,\"#f0f921\"]]}],\"heatmapgl\":[{\"type\":\"heatmapgl\",\"colorbar\":{\"outlinewidth\":0,\"ticks\":\"\"},\"colorscale\":[[0.0,\"#0d0887\"],[0.1111111111111111,\"#46039f\"],[0.2222222222222222,\"#7201a8\"],[0.3333333333333333,\"#9c179e\"],[0.4444444444444444,\"#bd3786\"],[0.5555555555555556,\"#d8576b\"],[0.6666666666666666,\"#ed7953\"],[0.7777777777777778,\"#fb9f3a\"],[0.8888888888888888,\"#fdca26\"],[1.0,\"#f0f921\"]]}],\"contourcarpet\":[{\"type\":\"contourcarpet\",\"colorbar\":{\"outlinewidth\":0,\"ticks\":\"\"}}],\"contour\":[{\"type\":\"contour\",\"colorbar\":{\"outlinewidth\":0,\"ticks\":\"\"},\"colorscale\":[[0.0,\"#0d0887\"],[0.1111111111111111,\"#46039f\"],[0.2222222222222222,\"#7201a8\"],[0.3333333333333333,\"#9c179e\"],[0.4444444444444444,\"#bd3786\"],[0.5555555555555556,\"#d8576b\"],[0.6666666666666666,\"#ed7953\"],[0.7777777777777778,\"#fb9f3a\"],[0.8888888888888888,\"#fdca26\"],[1.0,\"#f0f921\"]]}],\"surface\":[{\"type\":\"surface\",\"colorbar\":{\"outlinewidth\":0,\"ticks\":\"\"},\"colorscale\":[[0.0,\"#0d0887\"],[0.1111111111111111,\"#46039f\"],[0.2222222222222222,\"#7201a8\"],[0.3333333333333333,\"#9c179e\"],[0.4444444444444444,\"#bd3786\"],[0.5555555555555556,\"#d8576b\"],[0.6666666666666666,\"#ed7953\"],[0.7777777777777778,\"#fb9f3a\"],[0.8888888888888888,\"#fdca26\"],[1.0,\"#f0f921\"]]}],\"mesh3d\":[{\"type\":\"mesh3d\",\"colorbar\":{\"outlinewidth\":0,\"ticks\":\"\"}}],\"scatter\":[{\"fillpattern\":{\"fillmode\":\"overlay\",\"size\":10,\"solidity\":0.2},\"type\":\"scatter\"}],\"parcoords\":[{\"type\":\"parcoords\",\"line\":{\"colorbar\":{\"outlinewidth\":0,\"ticks\":\"\"}}}],\"scatterpolargl\":[{\"type\":\"scatterpolargl\",\"marker\":{\"colorbar\":{\"outlinewidth\":0,\"ticks\":\"\"}}}],\"bar\":[{\"error_x\":{\"color\":\"#2a3f5f\"},\"error_y\":{\"color\":\"#2a3f5f\"},\"marker\":{\"line\":{\"color\":\"white\",\"width\":0.5},\"pattern\":{\"fillmode\":\"overlay\",\"size\":10,\"solidity\":0.2}},\"type\":\"bar\"}],\"scattergeo\":[{\"type\":\"scattergeo\",\"marker\":{\"colorbar\":{\"outlinewidth\":0,\"ticks\":\"\"}}}],\"scatterpolar\":[{\"type\":\"scatterpolar\",\"marker\":{\"colorbar\":{\"outlinewidth\":0,\"ticks\":\"\"}}}],\"histogram\":[{\"marker\":{\"pattern\":{\"fillmode\":\"overlay\",\"size\":10,\"solidity\":0.2}},\"type\":\"histogram\"}],\"scattergl\":[{\"type\":\"scattergl\",\"marker\":{\"colorbar\":{\"outlinewidth\":0,\"ticks\":\"\"}}}],\"scatter3d\":[{\"type\":\"scatter3d\",\"line\":{\"colorbar\":{\"outlinewidth\":0,\"ticks\":\"\"}},\"marker\":{\"colorbar\":{\"outlinewidth\":0,\"ticks\":\"\"}}}],\"scattermapbox\":[{\"type\":\"scattermapbox\",\"marker\":{\"colorbar\":{\"outlinewidth\":0,\"ticks\":\"\"}}}],\"scatterternary\":[{\"type\":\"scatterternary\",\"marker\":{\"colorbar\":{\"outlinewidth\":0,\"ticks\":\"\"}}}],\"scattercarpet\":[{\"type\":\"scattercarpet\",\"marker\":{\"colorbar\":{\"outlinewidth\":0,\"ticks\":\"\"}}}],\"carpet\":[{\"aaxis\":{\"endlinecolor\":\"#2a3f5f\",\"gridcolor\":\"#C8D4E3\",\"linecolor\":\"#C8D4E3\",\"minorgridcolor\":\"#C8D4E3\",\"startlinecolor\":\"#2a3f5f\"},\"baxis\":{\"endlinecolor\":\"#2a3f5f\",\"gridcolor\":\"#C8D4E3\",\"linecolor\":\"#C8D4E3\",\"minorgridcolor\":\"#C8D4E3\",\"startlinecolor\":\"#2a3f5f\"},\"type\":\"carpet\"}],\"table\":[{\"cells\":{\"fill\":{\"color\":\"#EBF0F8\"},\"line\":{\"color\":\"white\"}},\"header\":{\"fill\":{\"color\":\"#C8D4E3\"},\"line\":{\"color\":\"white\"}},\"type\":\"table\"}],\"barpolar\":[{\"marker\":{\"line\":{\"color\":\"white\",\"width\":0.5},\"pattern\":{\"fillmode\":\"overlay\",\"size\":10,\"solidity\":0.2}},\"type\":\"barpolar\"}],\"pie\":[{\"automargin\":true,\"type\":\"pie\"}]},\"layout\":{\"autotypenumbers\":\"strict\",\"colorway\":[\"#636efa\",\"#EF553B\",\"#00cc96\",\"#ab63fa\",\"#FFA15A\",\"#19d3f3\",\"#FF6692\",\"#B6E880\",\"#FF97FF\",\"#FECB52\"],\"font\":{\"color\":\"#2a3f5f\"},\"hovermode\":\"closest\",\"hoverlabel\":{\"align\":\"left\"},\"paper_bgcolor\":\"white\",\"plot_bgcolor\":\"white\",\"polar\":{\"bgcolor\":\"white\",\"angularaxis\":{\"gridcolor\":\"#EBF0F8\",\"linecolor\":\"#EBF0F8\",\"ticks\":\"\"},\"radialaxis\":{\"gridcolor\":\"#EBF0F8\",\"linecolor\":\"#EBF0F8\",\"ticks\":\"\"}},\"ternary\":{\"bgcolor\":\"white\",\"aaxis\":{\"gridcolor\":\"#DFE8F3\",\"linecolor\":\"#A2B1C6\",\"ticks\":\"\"},\"baxis\":{\"gridcolor\":\"#DFE8F3\",\"linecolor\":\"#A2B1C6\",\"ticks\":\"\"},\"caxis\":{\"gridcolor\":\"#DFE8F3\",\"linecolor\":\"#A2B1C6\",\"ticks\":\"\"}},\"coloraxis\":{\"colorbar\":{\"outlinewidth\":0,\"ticks\":\"\"}},\"colorscale\":{\"sequential\":[[0.0,\"#0d0887\"],[0.1111111111111111,\"#46039f\"],[0.2222222222222222,\"#7201a8\"],[0.3333333333333333,\"#9c179e\"],[0.4444444444444444,\"#bd3786\"],[0.5555555555555556,\"#d8576b\"],[0.6666666666666666,\"#ed7953\"],[0.7777777777777778,\"#fb9f3a\"],[0.8888888888888888,\"#fdca26\"],[1.0,\"#f0f921\"]],\"sequentialminus\":[[0.0,\"#0d0887\"],[0.1111111111111111,\"#46039f\"],[0.2222222222222222,\"#7201a8\"],[0.3333333333333333,\"#9c179e\"],[0.4444444444444444,\"#bd3786\"],[0.5555555555555556,\"#d8576b\"],[0.6666666666666666,\"#ed7953\"],[0.7777777777777778,\"#fb9f3a\"],[0.8888888888888888,\"#fdca26\"],[1.0,\"#f0f921\"]],\"diverging\":[[0,\"#8e0152\"],[0.1,\"#c51b7d\"],[0.2,\"#de77ae\"],[0.3,\"#f1b6da\"],[0.4,\"#fde0ef\"],[0.5,\"#f7f7f7\"],[0.6,\"#e6f5d0\"],[0.7,\"#b8e186\"],[0.8,\"#7fbc41\"],[0.9,\"#4d9221\"],[1,\"#276419\"]]},\"xaxis\":{\"gridcolor\":\"#EBF0F8\",\"linecolor\":\"#EBF0F8\",\"ticks\":\"\",\"title\":{\"standoff\":15},\"zerolinecolor\":\"#EBF0F8\",\"automargin\":true,\"zerolinewidth\":2},\"yaxis\":{\"gridcolor\":\"#EBF0F8\",\"linecolor\":\"#EBF0F8\",\"ticks\":\"\",\"title\":{\"standoff\":15},\"zerolinecolor\":\"#EBF0F8\",\"automargin\":true,\"zerolinewidth\":2},\"scene\":{\"xaxis\":{\"backgroundcolor\":\"white\",\"gridcolor\":\"#DFE8F3\",\"linecolor\":\"#EBF0F8\",\"showbackground\":true,\"ticks\":\"\",\"zerolinecolor\":\"#EBF0F8\",\"gridwidth\":2},\"yaxis\":{\"backgroundcolor\":\"white\",\"gridcolor\":\"#DFE8F3\",\"linecolor\":\"#EBF0F8\",\"showbackground\":true,\"ticks\":\"\",\"zerolinecolor\":\"#EBF0F8\",\"gridwidth\":2},\"zaxis\":{\"backgroundcolor\":\"white\",\"gridcolor\":\"#DFE8F3\",\"linecolor\":\"#EBF0F8\",\"showbackground\":true,\"ticks\":\"\",\"zerolinecolor\":\"#EBF0F8\",\"gridwidth\":2}},\"shapedefaults\":{\"line\":{\"color\":\"#2a3f5f\"}},\"annotationdefaults\":{\"arrowcolor\":\"#2a3f5f\",\"arrowhead\":0,\"arrowwidth\":1},\"geo\":{\"bgcolor\":\"white\",\"landcolor\":\"white\",\"subunitcolor\":\"#C8D4E3\",\"showland\":true,\"showlakes\":true,\"lakecolor\":\"white\"},\"title\":{\"x\":0.05},\"mapbox\":{\"style\":\"light\"}}},\"legend\":{\"tracegroupgap\":0},\"title\":{\"text\":\"Users Engagement Sources\"},\"piecolorway\":[\"#FD8A8A\",\"#E9A1D4\",\"#F1F7B5\",\"#A8D1D1\"]},                        {\"responsive\": true}                    ).then(function(){\n",
              "                            \n",
              "var gd = document.getElementById('e1d229ca-ce07-42eb-bebc-5afc942723a5');\n",
              "var x = new MutationObserver(function (mutations, observer) {{\n",
              "        var display = window.getComputedStyle(gd).display;\n",
              "        if (!display || display === 'none') {{\n",
              "            console.log([gd, 'removed!']);\n",
              "            Plotly.purge(gd);\n",
              "            observer.disconnect();\n",
              "        }}\n",
              "}});\n",
              "\n",
              "// Listen for the removal of the full notebook cells\n",
              "var notebookContainer = gd.closest('#notebook-container');\n",
              "if (notebookContainer) {{\n",
              "    x.observe(notebookContainer, {childList: true});\n",
              "}}\n",
              "\n",
              "// Listen for the clearing of the current output cell\n",
              "var outputEl = gd.closest('.output');\n",
              "if (outputEl) {{\n",
              "    x.observe(outputEl, {childList: true});\n",
              "}}\n",
              "\n",
              "                        })                };                            </script>        </div>\n",
              "</body>\n",
              "</html>"
            ]
          },
          "metadata": {}
        }
      ],
      "source": [
        "#distribution of user engagement from multiple sources\n",
        "\n",
        "engagement_metrics = ['Saves', 'Comments', 'Shares', 'Likes']\n",
        "engagement_counts = [data[metric].sum() for metric in engagement_metrics]\n",
        "\n",
        "colors = ['#FD8A8A', '#E9A1D4', '#F1F7B5', '#A8D1D1']\n",
        "\n",
        "fig = px.pie(data_frame=data, names=engagement_metrics,\n",
        "             values=engagement_counts,\n",
        "             title='Users Engagement Sources',\n",
        "             color_discrete_sequence=colors)\n",
        "fig.show()"
      ]
    },
    {
      "cell_type": "code",
      "execution_count": 14,
      "id": "d05da89f",
      "metadata": {
        "execution": {
          "iopub.execute_input": "2023-07-18T16:39:30.627735Z",
          "iopub.status.busy": "2023-07-18T16:39:30.627323Z",
          "iopub.status.idle": "2023-07-18T16:39:33.580971Z",
          "shell.execute_reply": "2023-07-18T16:39:33.579726Z"
        },
        "papermill": {
          "duration": 2.966624,
          "end_time": "2023-07-18T16:39:33.583842",
          "exception": false,
          "start_time": "2023-07-18T16:39:30.617218",
          "status": "completed"
        },
        "tags": [],
        "colab": {
          "base_uri": "https://localhost:8080/",
          "height": 542
        },
        "id": "d05da89f",
        "outputId": "62e0a0fe-33a4-46da-807c-fa181e79859f"
      },
      "outputs": [
        {
          "output_type": "display_data",
          "data": {
            "text/html": [
              "<html>\n",
              "<head><meta charset=\"utf-8\" /></head>\n",
              "<body>\n",
              "    <div>            <script src=\"https://cdnjs.cloudflare.com/ajax/libs/mathjax/2.7.5/MathJax.js?config=TeX-AMS-MML_SVG\"></script><script type=\"text/javascript\">if (window.MathJax && window.MathJax.Hub && window.MathJax.Hub.Config) {window.MathJax.Hub.Config({SVG: {font: \"STIX-Web\"}});}</script>                <script type=\"text/javascript\">window.PlotlyConfig = {MathJaxConfig: 'local'};</script>\n",
              "        <script charset=\"utf-8\" src=\"https://cdn.plot.ly/plotly-2.35.2.min.js\"></script>                <div id=\"4a99991d-d864-4f70-a82b-70c34255eb3a\" class=\"plotly-graph-div\" style=\"height:525px; width:100%;\"></div>            <script type=\"text/javascript\">                                    window.PLOTLYENV=window.PLOTLYENV || {};                                    if (document.getElementById(\"4a99991d-d864-4f70-a82b-70c34255eb3a\")) {                    Plotly.newPlot(                        \"4a99991d-d864-4f70-a82b-70c34255eb3a\",                        [{\"hovertemplate\":\"Likes=%{x}\\u003cbr\\u003eFollows=%{y}\\u003cextra\\u003e\\u003c\\u002fextra\\u003e\",\"legendgroup\":\"\",\"marker\":{\"color\":\"#636efa\",\"symbol\":\"circle\"},\"mode\":\"markers\",\"name\":\"\",\"orientation\":\"v\",\"showlegend\":false,\"x\":[162,224,131,213,123,144,76,124,159,191,81,151,162,142,294,159,205,121,151,72,76,91,195,129,160,175,147,114,151,92,214,150,122,152,196,86,85,156,72,82,416,180,150,127,167,225,137,114,263,328,126,236,99,212,297,142,186,112,149,132,115,248,178,107,269,96,134,301,187,94,114,96,138,122,257,95,244,190,118,178,170,250,159,205,121,151,72,137,114,263,328,126,129,160,175,147,114,151,92,275,192,203,145,168,194,250,171,416,249,308,163,86,210,172,373,148,92,549,443,500],\"xaxis\":\"x\",\"y\":[2,10,12,8,0,2,0,6,4,6,4,0,2,4,42,6,2,2,30,0,0,24,100,2,4,6,6,6,2,2,20,2,4,8,26,2,2,4,0,2,94,8,18,10,4,4,4,4,18,38,10,12,4,4,74,0,6,6,0,6,12,10,8,8,46,12,10,94,6,10,6,4,12,16,12,8,32,8,16,6,10,10,6,2,2,30,0,4,4,18,38,10,2,4,6,6,6,2,2,14,8,14,28,18,12,34,26,260,16,96,20,30,58,100,80,18,10,214,228,207],\"yaxis\":\"y\",\"type\":\"scatter\"},{\"hovertemplate\":\"\\u003cb\\u003eOLS trendline\\u003c\\u002fb\\u003e\\u003cbr\\u003eFollows = 0.394048 * Likes + -47.2412\\u003cbr\\u003eR\\u003csup\\u003e2\\u003c\\u002fsup\\u003e=0.606588\\u003cbr\\u003e\\u003cbr\\u003eLikes=%{x}\\u003cbr\\u003eFollows=%{y} \\u003cb\\u003e(trend)\\u003c\\u002fb\\u003e\\u003cextra\\u003e\\u003c\\u002fextra\\u003e\",\"legendgroup\":\"\",\"marker\":{\"color\":\"#636efa\",\"symbol\":\"circle\"},\"mode\":\"lines\",\"name\":\"\",\"showlegend\":false,\"x\":[72,72,72,76,76,81,82,85,86,86,91,92,92,92,94,95,96,96,99,107,112,114,114,114,114,114,115,118,121,121,122,122,123,124,126,126,127,129,129,131,132,134,137,137,138,142,142,144,145,147,147,148,149,150,150,151,151,151,151,151,152,156,159,159,159,160,160,162,162,163,167,168,170,171,172,175,175,178,178,180,186,187,190,191,192,194,195,196,203,205,205,210,212,213,214,224,225,236,244,248,249,250,250,257,263,263,269,275,294,297,301,308,328,328,373,416,416,443,500,549],\"xaxis\":\"x\",\"y\":[-18.869715058283703,-18.869715058283703,-18.869715058283703,-17.293521818413193,-17.293521818413193,-15.323280268575058,-14.929231958607431,-13.747087028704549,-13.353038718736926,-13.353038718736926,-11.38279716889879,-10.98874885893116,-10.98874885893116,-10.98874885893116,-10.200652238995907,-9.806603929028277,-9.412555619060655,-9.412555619060655,-8.230410689157772,-5.078024209416753,-3.1077826595786178,-2.319686039643365,-2.319686039643365,-2.319686039643365,-2.319686039643365,-2.319686039643365,-1.925637729675742,-0.7434927997728593,0.43865213013002347,0.43865213013002347,0.8327004400976463,0.8327004400976463,1.2267487500652763,1.6207970600329062,2.408893679968159,2.408893679968159,2.802941989935782,3.591038609871042,3.591038609871042,4.379135229806295,4.7731835397739175,5.561280159709177,6.743425089612053,6.743425089612053,7.137473399579683,8.713666639450189,8.713666639450189,9.501763259385442,9.895811569353071,10.683908189288324,10.683908189288324,11.077956499255954,11.472004809223577,11.866053119191207,11.866053119191207,12.26010142915883,12.26010142915883,12.26010142915883,12.26010142915883,12.26010142915883,12.65414973912646,14.230342978996966,15.412487908899848,15.412487908899848,15.412487908899848,15.806536218867478,15.806536218867478,16.59463283880273,16.59463283880273,16.988681148770354,18.56487438864086,18.95892269860849,19.74701931854375,20.14106762851138,20.535115938478995,21.717260868381885,21.717260868381885,22.89940579828476,22.89940579828476,23.68750241822002,26.051792278025772,26.445840587993402,27.627985517896292,28.022033827863908,28.416082137831538,29.204178757766798,29.598227067734427,29.992275377702043,32.75061354747544,33.5387101674107,33.5387101674107,35.508951717248834,36.29704833718408,36.69109664715171,37.08514495711934,41.02562805679561,41.41967636676323,45.75420777640713,48.90659425614814,50.48278749601866,50.876835805986275,51.270884115953905,51.270884115953905,54.0292222857273,56.393512145533066,56.393512145533066,58.75780200533882,61.12209186514458,68.6090097545295,69.79115468443239,71.36734792430289,74.12568609407627,82.00665229342881,82.00665229342881,99.73882624197203,116.68290357058,116.68290357058,127.32220793970593,149.78296160786067,169.0913287962744],\"yaxis\":\"y\",\"type\":\"scatter\"}],                        {\"template\":{\"data\":{\"histogram2dcontour\":[{\"type\":\"histogram2dcontour\",\"colorbar\":{\"outlinewidth\":0,\"ticks\":\"\"},\"colorscale\":[[0.0,\"#0d0887\"],[0.1111111111111111,\"#46039f\"],[0.2222222222222222,\"#7201a8\"],[0.3333333333333333,\"#9c179e\"],[0.4444444444444444,\"#bd3786\"],[0.5555555555555556,\"#d8576b\"],[0.6666666666666666,\"#ed7953\"],[0.7777777777777778,\"#fb9f3a\"],[0.8888888888888888,\"#fdca26\"],[1.0,\"#f0f921\"]]}],\"choropleth\":[{\"type\":\"choropleth\",\"colorbar\":{\"outlinewidth\":0,\"ticks\":\"\"}}],\"histogram2d\":[{\"type\":\"histogram2d\",\"colorbar\":{\"outlinewidth\":0,\"ticks\":\"\"},\"colorscale\":[[0.0,\"#0d0887\"],[0.1111111111111111,\"#46039f\"],[0.2222222222222222,\"#7201a8\"],[0.3333333333333333,\"#9c179e\"],[0.4444444444444444,\"#bd3786\"],[0.5555555555555556,\"#d8576b\"],[0.6666666666666666,\"#ed7953\"],[0.7777777777777778,\"#fb9f3a\"],[0.8888888888888888,\"#fdca26\"],[1.0,\"#f0f921\"]]}],\"heatmap\":[{\"type\":\"heatmap\",\"colorbar\":{\"outlinewidth\":0,\"ticks\":\"\"},\"colorscale\":[[0.0,\"#0d0887\"],[0.1111111111111111,\"#46039f\"],[0.2222222222222222,\"#7201a8\"],[0.3333333333333333,\"#9c179e\"],[0.4444444444444444,\"#bd3786\"],[0.5555555555555556,\"#d8576b\"],[0.6666666666666666,\"#ed7953\"],[0.7777777777777778,\"#fb9f3a\"],[0.8888888888888888,\"#fdca26\"],[1.0,\"#f0f921\"]]}],\"heatmapgl\":[{\"type\":\"heatmapgl\",\"colorbar\":{\"outlinewidth\":0,\"ticks\":\"\"},\"colorscale\":[[0.0,\"#0d0887\"],[0.1111111111111111,\"#46039f\"],[0.2222222222222222,\"#7201a8\"],[0.3333333333333333,\"#9c179e\"],[0.4444444444444444,\"#bd3786\"],[0.5555555555555556,\"#d8576b\"],[0.6666666666666666,\"#ed7953\"],[0.7777777777777778,\"#fb9f3a\"],[0.8888888888888888,\"#fdca26\"],[1.0,\"#f0f921\"]]}],\"contourcarpet\":[{\"type\":\"contourcarpet\",\"colorbar\":{\"outlinewidth\":0,\"ticks\":\"\"}}],\"contour\":[{\"type\":\"contour\",\"colorbar\":{\"outlinewidth\":0,\"ticks\":\"\"},\"colorscale\":[[0.0,\"#0d0887\"],[0.1111111111111111,\"#46039f\"],[0.2222222222222222,\"#7201a8\"],[0.3333333333333333,\"#9c179e\"],[0.4444444444444444,\"#bd3786\"],[0.5555555555555556,\"#d8576b\"],[0.6666666666666666,\"#ed7953\"],[0.7777777777777778,\"#fb9f3a\"],[0.8888888888888888,\"#fdca26\"],[1.0,\"#f0f921\"]]}],\"surface\":[{\"type\":\"surface\",\"colorbar\":{\"outlinewidth\":0,\"ticks\":\"\"},\"colorscale\":[[0.0,\"#0d0887\"],[0.1111111111111111,\"#46039f\"],[0.2222222222222222,\"#7201a8\"],[0.3333333333333333,\"#9c179e\"],[0.4444444444444444,\"#bd3786\"],[0.5555555555555556,\"#d8576b\"],[0.6666666666666666,\"#ed7953\"],[0.7777777777777778,\"#fb9f3a\"],[0.8888888888888888,\"#fdca26\"],[1.0,\"#f0f921\"]]}],\"mesh3d\":[{\"type\":\"mesh3d\",\"colorbar\":{\"outlinewidth\":0,\"ticks\":\"\"}}],\"scatter\":[{\"fillpattern\":{\"fillmode\":\"overlay\",\"size\":10,\"solidity\":0.2},\"type\":\"scatter\"}],\"parcoords\":[{\"type\":\"parcoords\",\"line\":{\"colorbar\":{\"outlinewidth\":0,\"ticks\":\"\"}}}],\"scatterpolargl\":[{\"type\":\"scatterpolargl\",\"marker\":{\"colorbar\":{\"outlinewidth\":0,\"ticks\":\"\"}}}],\"bar\":[{\"error_x\":{\"color\":\"#2a3f5f\"},\"error_y\":{\"color\":\"#2a3f5f\"},\"marker\":{\"line\":{\"color\":\"white\",\"width\":0.5},\"pattern\":{\"fillmode\":\"overlay\",\"size\":10,\"solidity\":0.2}},\"type\":\"bar\"}],\"scattergeo\":[{\"type\":\"scattergeo\",\"marker\":{\"colorbar\":{\"outlinewidth\":0,\"ticks\":\"\"}}}],\"scatterpolar\":[{\"type\":\"scatterpolar\",\"marker\":{\"colorbar\":{\"outlinewidth\":0,\"ticks\":\"\"}}}],\"histogram\":[{\"marker\":{\"pattern\":{\"fillmode\":\"overlay\",\"size\":10,\"solidity\":0.2}},\"type\":\"histogram\"}],\"scattergl\":[{\"type\":\"scattergl\",\"marker\":{\"colorbar\":{\"outlinewidth\":0,\"ticks\":\"\"}}}],\"scatter3d\":[{\"type\":\"scatter3d\",\"line\":{\"colorbar\":{\"outlinewidth\":0,\"ticks\":\"\"}},\"marker\":{\"colorbar\":{\"outlinewidth\":0,\"ticks\":\"\"}}}],\"scattermapbox\":[{\"type\":\"scattermapbox\",\"marker\":{\"colorbar\":{\"outlinewidth\":0,\"ticks\":\"\"}}}],\"scatterternary\":[{\"type\":\"scatterternary\",\"marker\":{\"colorbar\":{\"outlinewidth\":0,\"ticks\":\"\"}}}],\"scattercarpet\":[{\"type\":\"scattercarpet\",\"marker\":{\"colorbar\":{\"outlinewidth\":0,\"ticks\":\"\"}}}],\"carpet\":[{\"aaxis\":{\"endlinecolor\":\"#2a3f5f\",\"gridcolor\":\"#C8D4E3\",\"linecolor\":\"#C8D4E3\",\"minorgridcolor\":\"#C8D4E3\",\"startlinecolor\":\"#2a3f5f\"},\"baxis\":{\"endlinecolor\":\"#2a3f5f\",\"gridcolor\":\"#C8D4E3\",\"linecolor\":\"#C8D4E3\",\"minorgridcolor\":\"#C8D4E3\",\"startlinecolor\":\"#2a3f5f\"},\"type\":\"carpet\"}],\"table\":[{\"cells\":{\"fill\":{\"color\":\"#EBF0F8\"},\"line\":{\"color\":\"white\"}},\"header\":{\"fill\":{\"color\":\"#C8D4E3\"},\"line\":{\"color\":\"white\"}},\"type\":\"table\"}],\"barpolar\":[{\"marker\":{\"line\":{\"color\":\"white\",\"width\":0.5},\"pattern\":{\"fillmode\":\"overlay\",\"size\":10,\"solidity\":0.2}},\"type\":\"barpolar\"}],\"pie\":[{\"automargin\":true,\"type\":\"pie\"}]},\"layout\":{\"autotypenumbers\":\"strict\",\"colorway\":[\"#636efa\",\"#EF553B\",\"#00cc96\",\"#ab63fa\",\"#FFA15A\",\"#19d3f3\",\"#FF6692\",\"#B6E880\",\"#FF97FF\",\"#FECB52\"],\"font\":{\"color\":\"#2a3f5f\"},\"hovermode\":\"closest\",\"hoverlabel\":{\"align\":\"left\"},\"paper_bgcolor\":\"white\",\"plot_bgcolor\":\"white\",\"polar\":{\"bgcolor\":\"white\",\"angularaxis\":{\"gridcolor\":\"#EBF0F8\",\"linecolor\":\"#EBF0F8\",\"ticks\":\"\"},\"radialaxis\":{\"gridcolor\":\"#EBF0F8\",\"linecolor\":\"#EBF0F8\",\"ticks\":\"\"}},\"ternary\":{\"bgcolor\":\"white\",\"aaxis\":{\"gridcolor\":\"#DFE8F3\",\"linecolor\":\"#A2B1C6\",\"ticks\":\"\"},\"baxis\":{\"gridcolor\":\"#DFE8F3\",\"linecolor\":\"#A2B1C6\",\"ticks\":\"\"},\"caxis\":{\"gridcolor\":\"#DFE8F3\",\"linecolor\":\"#A2B1C6\",\"ticks\":\"\"}},\"coloraxis\":{\"colorbar\":{\"outlinewidth\":0,\"ticks\":\"\"}},\"colorscale\":{\"sequential\":[[0.0,\"#0d0887\"],[0.1111111111111111,\"#46039f\"],[0.2222222222222222,\"#7201a8\"],[0.3333333333333333,\"#9c179e\"],[0.4444444444444444,\"#bd3786\"],[0.5555555555555556,\"#d8576b\"],[0.6666666666666666,\"#ed7953\"],[0.7777777777777778,\"#fb9f3a\"],[0.8888888888888888,\"#fdca26\"],[1.0,\"#f0f921\"]],\"sequentialminus\":[[0.0,\"#0d0887\"],[0.1111111111111111,\"#46039f\"],[0.2222222222222222,\"#7201a8\"],[0.3333333333333333,\"#9c179e\"],[0.4444444444444444,\"#bd3786\"],[0.5555555555555556,\"#d8576b\"],[0.6666666666666666,\"#ed7953\"],[0.7777777777777778,\"#fb9f3a\"],[0.8888888888888888,\"#fdca26\"],[1.0,\"#f0f921\"]],\"diverging\":[[0,\"#8e0152\"],[0.1,\"#c51b7d\"],[0.2,\"#de77ae\"],[0.3,\"#f1b6da\"],[0.4,\"#fde0ef\"],[0.5,\"#f7f7f7\"],[0.6,\"#e6f5d0\"],[0.7,\"#b8e186\"],[0.8,\"#7fbc41\"],[0.9,\"#4d9221\"],[1,\"#276419\"]]},\"xaxis\":{\"gridcolor\":\"#EBF0F8\",\"linecolor\":\"#EBF0F8\",\"ticks\":\"\",\"title\":{\"standoff\":15},\"zerolinecolor\":\"#EBF0F8\",\"automargin\":true,\"zerolinewidth\":2},\"yaxis\":{\"gridcolor\":\"#EBF0F8\",\"linecolor\":\"#EBF0F8\",\"ticks\":\"\",\"title\":{\"standoff\":15},\"zerolinecolor\":\"#EBF0F8\",\"automargin\":true,\"zerolinewidth\":2},\"scene\":{\"xaxis\":{\"backgroundcolor\":\"white\",\"gridcolor\":\"#DFE8F3\",\"linecolor\":\"#EBF0F8\",\"showbackground\":true,\"ticks\":\"\",\"zerolinecolor\":\"#EBF0F8\",\"gridwidth\":2},\"yaxis\":{\"backgroundcolor\":\"white\",\"gridcolor\":\"#DFE8F3\",\"linecolor\":\"#EBF0F8\",\"showbackground\":true,\"ticks\":\"\",\"zerolinecolor\":\"#EBF0F8\",\"gridwidth\":2},\"zaxis\":{\"backgroundcolor\":\"white\",\"gridcolor\":\"#DFE8F3\",\"linecolor\":\"#EBF0F8\",\"showbackground\":true,\"ticks\":\"\",\"zerolinecolor\":\"#EBF0F8\",\"gridwidth\":2}},\"shapedefaults\":{\"line\":{\"color\":\"#2a3f5f\"}},\"annotationdefaults\":{\"arrowcolor\":\"#2a3f5f\",\"arrowhead\":0,\"arrowwidth\":1},\"geo\":{\"bgcolor\":\"white\",\"landcolor\":\"white\",\"subunitcolor\":\"#C8D4E3\",\"showland\":true,\"showlakes\":true,\"lakecolor\":\"white\"},\"title\":{\"x\":0.05},\"mapbox\":{\"style\":\"light\"}}},\"xaxis\":{\"anchor\":\"y\",\"domain\":[0.0,1.0],\"title\":{\"text\":\"Likes\"}},\"yaxis\":{\"anchor\":\"x\",\"domain\":[0.0,1.0],\"title\":{\"text\":\"Follows\"}},\"legend\":{\"tracegroupgap\":0},\"title\":{\"text\":\"Likes vs. Follows\"}},                        {\"responsive\": true}                    ).then(function(){\n",
              "                            \n",
              "var gd = document.getElementById('4a99991d-d864-4f70-a82b-70c34255eb3a');\n",
              "var x = new MutationObserver(function (mutations, observer) {{\n",
              "        var display = window.getComputedStyle(gd).display;\n",
              "        if (!display || display === 'none') {{\n",
              "            console.log([gd, 'removed!']);\n",
              "            Plotly.purge(gd);\n",
              "            observer.disconnect();\n",
              "        }}\n",
              "}});\n",
              "\n",
              "// Listen for the removal of the full notebook cells\n",
              "var notebookContainer = gd.closest('#notebook-container');\n",
              "if (notebookContainer) {{\n",
              "    x.observe(notebookContainer, {childList: true});\n",
              "}}\n",
              "\n",
              "// Listen for the clearing of the current output cell\n",
              "var outputEl = gd.closest('.output');\n",
              "if (outputEl) {{\n",
              "    x.observe(outputEl, {childList: true});\n",
              "}}\n",
              "\n",
              "                        })                };                            </script>        </div>\n",
              "</body>\n",
              "</html>"
            ]
          },
          "metadata": {}
        }
      ],
      "source": [
        "#finding the relationship between\n",
        "\n",
        "fig = px.scatter(data,\n",
        "                 x='Likes',\n",
        "                 y='Follows',\n",
        "                 trendline = 'ols',\n",
        "                 title='Likes vs. Follows')\n",
        "fig.show()"
      ]
    },
    {
      "cell_type": "code",
      "execution_count": 16,
      "id": "f0757f69",
      "metadata": {
        "execution": {
          "iopub.execute_input": "2023-07-18T16:39:33.604019Z",
          "iopub.status.busy": "2023-07-18T16:39:33.603593Z",
          "iopub.status.idle": "2023-07-18T16:39:34.069232Z",
          "shell.execute_reply": "2023-07-18T16:39:34.068199Z"
        },
        "papermill": {
          "duration": 0.479861,
          "end_time": "2023-07-18T16:39:34.072810",
          "exception": false,
          "start_time": "2023-07-18T16:39:33.592949",
          "status": "completed"
        },
        "tags": [],
        "colab": {
          "base_uri": "https://localhost:8080/",
          "height": 542
        },
        "id": "f0757f69",
        "outputId": "17d2418c-58db-4bb6-fa37-0e9bbe3f84e6"
      },
      "outputs": [
        {
          "output_type": "display_data",
          "data": {
            "text/html": [
              "<html>\n",
              "<head><meta charset=\"utf-8\" /></head>\n",
              "<body>\n",
              "    <div>            <script src=\"https://cdnjs.cloudflare.com/ajax/libs/mathjax/2.7.5/MathJax.js?config=TeX-AMS-MML_SVG\"></script><script type=\"text/javascript\">if (window.MathJax && window.MathJax.Hub && window.MathJax.Hub.Config) {window.MathJax.Hub.Config({SVG: {font: \"STIX-Web\"}});}</script>                <script type=\"text/javascript\">window.PlotlyConfig = {MathJaxConfig: 'local'};</script>\n",
              "        <script charset=\"utf-8\" src=\"https://cdn.plot.ly/plotly-2.35.2.min.js\"></script>                <div id=\"a95d6256-0f9e-4c87-a99b-baee775377a3\" class=\"plotly-graph-div\" style=\"height:525px; width:100%;\"></div>            <script type=\"text/javascript\">                                    window.PLOTLYENV=window.PLOTLYENV || {};                                    if (document.getElementById(\"a95d6256-0f9e-4c87-a99b-baee775377a3\")) {                    Plotly.newPlot(                        \"a95d6256-0f9e-4c87-a99b-baee775377a3\",                        [{\"name\":\"0\",\"source\":\"data:image\\u002fpng;base64,iVBORw0KGgoAAAANSUhEUgAAAZAAAADICAIAAABJdyC1AACxIklEQVR4Xuydd3gc1dXwz\\u002fTZ3ot6r5aL3CsGXMB001uAhEBCCykkefOmfEl40xsJIY1ASCCBUEwvphqDjXtXsXqXdlW212nfH7MerUa7s2tZFgb0e\\u002fTo2Tnn3DPnnpm5e+fOnbsAs8wyyyyfaLSaHIO+QC49\\u002fSAoKheJoCggiFw43SAYBukCmGUWABRHUey0n4fKnAkxfIykuD5JUpvjWKDV5MgVpx\\u002ftwkW4wYCqVITdDgAIhhE2G6pSaefNw7RahCAxnY50OOjiEvGzvHwSqFpF5NgQksCMOgAgcu1URZGkRUgC02tRmsKMevEzAKB6jWbpPJSmEAxDcBzBcdxiSvjBcdxikorP8qkHpzG1hSY1uMamkjbVZqpiYyEAkBocxVFSQ+hyNJSONBXrAQAjUV2ORvJgLtXnLLCKWrWFVlto0UZrV0mW4iZOYzqHGhAQjWU2YlkxAAAQY5DCQ3EUI1HRWIpEMv70gcsFAAAQiY7F40G59PSD6fXq2trQsWNUXj7jdmvrF6JqlcAwCI4DAGGz6ZcvCx07BoIgfh7ZskXuQoLnyaI8urZCiMUih5sxkwEEQVISTpt27RLOG+CDoXjfkGb5grHHX+Q8fhAE9aI6PhyJNLSq62sFho02tpFFeWRhrsCw7KgnaQezfJoxFennbC4NDUeivvjx17sM+bo5m0u3\\u002fXy\\u002fwAsAUHZuQSwQp3RkPMj07hmy15g8Xf6yc\\u002fK5OB8YDIketHa1wAsCz9trTKSWMORrm1\\u002ftKjkrT5+rGTw0HAswgcHQwptq9Lma0Tbf4JGRgCssGpevL0i2KTs335CvdR0by1tk2\\u002fbz\\u002fUF3ROAFMTxXw1gsEO\\u002fZNVS6No+L81Ikonbbz\\u002fdPqNKnghQ9rHg8OOg65Av0yhUzAqpSYRoN4bAjGCbwnMBxAsehKhUAqEpLhDjDjIzgZrP4WV44CcyoJ3LtIAioRi2wHOsexa3jXSSqsliIM+yIh3GN0tVloisix0bkOeI9A7jDIsQZZnCYKHCKfhjXKFHgHPc+y6ed3HobG+UCg2FvbwCncXHTVKy3lBlQDHE3jhkLdCMtXkuFQWNTmUv0KI56ugKWCoPkwdsb0OdpRW1kLObrDeIUFnSFO7f3iwUBQNyM+mKuY6MAIBqHhiPJNuGRqK836JxrYaMcAIgx5C2ysVFODIONcuKupUjEaKVIPuVQpD4vZ6nZVCZXzAxJY1W6xYv1K1dhak1CKKkQ5CSGtJJLTRbKPgPQcyqI\\u002fBNtU3qzjwWKRv77Ycn8pSq5AgAAbrzL\\u002fPTOkrdayv\\u002fzfjGtHv8qUi6VjpMtpdGirx4p29ZZsa2zYu7iFKVO1uHUUAhDQSUyIULZ0Z64WbjcaSk3AgCCTlAobyYLJVU2NgDyAMRNKQxQNJ6ZzM8M8ltCBEHNpnKCUHNcXKaaIZJu3AL79iUpklRJNplJWSrdZ4BoQ+v4Rnqz04fOgDIMRMO8XHGizWSYFJHMX6q69RuW+78y1HIsarTiycUVSilwsqVCQf7Cee2OPPy\\u002fH5bIdQBw8g5FFLKREoUwFFQiEyKUhTlxs2fXUELMT1AobyYLJVU2NgDyAMRNKQxQNJ5a5s8QUBWJ0iTrST9CZdQXmY1luc7FiLxVn2Um+O7vnKs3auXSTFx7u+nxd4vk0hnH5sTT9V+mxtSyoRCGgmqWMw3CrLNsWqRdMP4Fk2IMi2EjgCAeb7sgb9VnDgRJEdipknHKQprJEzM53QFFYfFqtVyaBUYLFgl+bMfrNDHlbMzy6YCLxAibnnSaJIn8lhAAQmF3KOxGEEyumEEczgWesTaWjQqCIAgcgqAkqWXZKEnqwuFhDKNwnGKYMEGoGSZMktpo1IuiuPgBAFCaRmhKiEYFhgUEwW0WVK0i7NZIYwvn8yMEgapVQiyGUBTn84t7REhCPa821tEt8ALn9aE0JTAsQhAITQEAXVka2nPwRME4QlOc14fgOKrV8OEwptGwXl\\u002fyPWN+MXHzvZYFy1VGMzbiYl95yv\\u002fvP42JKq0efeVw2dUrOz\\u002f\\u002fNctZm7QIAs\\u002f9w\\u002fvIb0YB4MFn8strKZUa\\u002fb+\\u002fJuaUPP7HMVEFAC8fKtPqUQSB79w68NG7iUdRAPCrf+XV1tMaLQoA2zorAOCtFwI\\u002f+VriZiFdKQAoKCVvu8+yYIVKpUHH3Nxzj3mf\\u002frtHuZRCvZRJ5\\u002fCxrUVPPexZuFK9eqOGjQu73w8\\u002f8AN3KMBDpmysu0T3ubvMecWEa4B95Unf0494+FMbZU4XIQB87m7zRdcazHaMIBAACPr5b97U33Q4CunDUKgXKGY+nUMFlA+KQr3OfDAVGesfw3U0IIh4faVosDRqm06bq1bbOrrelutmCorUW6w1gsBFo95Q0GU0lfI84xlr1+nywuHh\\u002fIKVLBMmKT1F6n2+LoaNRKNeq20OzzNig6U9a7kQiQoAvD8QaWrBjAYQBMxoUM+fE9pzQLN8sRCL4Q4bN+YN7TnAR2MAoFm6ECFJ3dqVqFbjeeZldX0dH4mSBXmYUe955mXgBQDQrloqxGK41cx5\\u002fcE9B\\u002fTrzsItJmZgKNbexXq8yfGHQ\\u002fyIi73\\u002fK0OjbnbuEtW3fu5oa4zt3jZ+uvzwoZy3Xgg8+VePyYJxXKKl++bNAySFvHSg9MdfGfronRAAsEnjDhcvaKfV6BsN8och3\\u002f\\u002fSAIIgn\\u002f+auX6F+itX9wEAy2YuZXXgf3w2v70x9oM7BkeG2JIqyjs6fmWkK5WxXulI5xAAvvoj29OPeO\\u002fc3GvLwb\\u002f3gPOme8x\\u002f\\u002fukIKGZjyVnqb\\u002fzU\\u002ftvvupsPRwtKyW\\u002f9woETyBMPZdV0piNdhBsu0139RdNdV\\u002fT2dcYvvt5w53dt15\\u002fd5fdwkCmMdPVSyLyyw3QoH5R09fpEwAWjqIrko4zUG0jRYMXiwehoMxXolytmFgJXxZmQ0VgSCrrCIbfVVhsODas1NgTBolFvPB5AECzg74\\u002fFvBZrzchwo2gzMtwIAAiOIxpVpOE4XV0hHG5gh0fo6gp2zMP5AwhJAsehGjU76mFHRhGShGgMAIDnUTXN+vxcRzcfizFDw2RxPjsyGu\\u002fpw0wGItcBKCoWBBRFNSrgOM7jZfoHEZqOdcmngIwNc3\\u002f9+Yj4ub+bufLzxso6KvnCPrAz\\u002fPy\\u002fvADQ0y7JIBrmeQ4BgHhMiKQaZuZPNG3JRCMCgMCyIPCQfamLrzcIAnz39kGxSF+XfI5IylIZ66VASocAcPxY7NHfjgJAV2v87RcDcxYmRpcUsnHzVyzP\\u002f9P79osBAOjrYl76j++SGwwZL+yMpIxwzkJV85FoT3scAN5+IfC1++3F5eSRvRHIFEa6eilkXtlhOjIelJT1+kTAx9nRV\\u002fYi+PiATIoGC8dIktT5A31yxQzS3b0NQRBBEMT\\u002f8XggFBoSBKGz4y0AcA0dBADPWJuoDQYHASAYHAyFEvdB7PBoaN8huroi0tgCAOzIWHDHHqmRDnywS+phSgR37k0IEQQEIdbZHevsBgBx0\\u002fvSVqmgZvGC0L5DIAjBj\\u002fZN9iOiUqNXf9G4cr3GkUegKGh1mKw33ngwmrw581TMoZoPR1M2cApkrNcUaD48noqAj9fqMg8XllaTdYvoG+40JwtxHEnuWk4X3W3xsy\\u002fUOnJx1wC7aoMmFhXExgsyhZGuXgqZV3aYjtNxUM4QqHyLqiyHLrAOPbFNlKRosBgmbLfN02lz+gf3ynUziCAI0v\\u002fkD8mkswntPQgA0aaWE4Ygb1ZSeUsIlS0FQXQubY5\\u002fTuI7v3EUV5C\\u002f+h93y7FoLCo8\\u002fEqhzCAWTV1wxkjT0mYgY72mQCR8cnGgKNAq9JHfjL7xbGL8UUT5qp4yL\\u002f3bV7eI\\u002fs\\u002f24pCfdw+y3\\u002f\\u002fygHeMgyzCSFevdJnP6DAd03JQEAQVBHkbiqAYCMJk+YzBekL+PS2RtkFJkqLBwnGaYUIEoUIA+RgfFH6iWXa25q8\\u002fHzm6LwIABInkFhJyizTwHAgCYKf\\u002fgUfn8fj5V+opGjmppnPK9ZoaKbPB89DeFCupJIeH2AmK00b1fPobN\\u002fYf2hVJFk45jHSZn7LDkz0oKr0DJ1WhsT6c0sQjPgRBKY1JZyv1DR2PR\\u002fwYTmEExcYjGKlCANHbS0e6D6IYgZEqNhaiNOZ4yIOgGM+zCCA8z2IEjeFUPOJDMQKnNGwshJEqJuJHUIzSmNlYEMWpeNiHYjhGTHi9kYkGcFJF0Lp42IcRVPxEkXjIw\\u002fOJDNCFNoTESYcxNjAmNvMpGiyGjWIYyXHMbGs1ZQZ7mCVnqbe\\u002fEVRp0C983YLhKWZLpIRlhf5uZuPl+o7muCAIkbAw6h4\\u002ffXEcAYDsvYmkLPXiE95LbzT86KGcJ\\u002f405hnhcgoIlQb9YOv49LyUpTLWCyfEUjIxQBqHyqTLxmMPjN7\\u002fl9yu1vj2rUEUQUqqSAyDN58PSAWVwlBQpYrQkY\\u002fnFhKjrhTP6jKGkRKFzE\\u002fNYeaDMrFepNoAgpBTczalMXcffMlSOD801kuqDKa8OSNdB5yVa9h4CMVJNhb2DjSJdy320qUcG8dwEkGxoZYPLQUL2HjEN9QCAI7yFRwTHe7abyteFPL0m\\u002fPmcGzcO9BkzK3GSTXPs6GxvnjYq9Lb7KXLw74hWmvheRZF8eGu\\u002fbHgqMaUZ86fx8ZDI10HzAVzcVI91PKhFDkXjOAWffBwp9QpTXXcQOgf3CMIgjhpQK6cJQt+\\u002fk3X139if3J7sWeU++\\u002ffPMmNTkZ+\\u002fk3XV39ke+T1Qr+H+\\u002fuvR994zg8At37DcvUXTRSNAMD\\u002f\\u002fTWHZYXu1vitF\\u002fTIC09EoZRrgL3nqr7bvmX5xWN5JIWMDLFP\\u002fc2TsZRCve79ke3CawwkhQDAA0\\u002fms6zQsD9677V9yg4zkjIbO94O\\u002fe\\u002ftAzfdbb7xLjPLCr0d8X\\u002f\\u002fORG8QhgKKoUIx4a57ta4OCmX56C\\u002fJ\\u002f7wL0e3vxFUDkMBhcxPzaHCQUlZrzuvGjE4K+Jhb9g7yLExnmMpjTkW9jARP4qT4geNKQ8n1ZTGpDY4xxBUEHicVHNsFAEQBCE41mfMqfL0NwAAgmIYoRJ4jmPjwdEesSDPswLP8zzHMbHgaA8A6GylPBdnon4AASPoOBNFMYJU6VV6RzQ4Eg\\u002f7UJwUiyQP\\u002frCBiOWixXyMHXw0\\u002fYwFtcpamLcqP3d5fu4yue6MhyouwjTjS3yAOO0za6jCAvFF62kEpSiqpEguTeKkIlSAKirEdFrxs7qudqIyKzCNxrDhXJSi5IrPKgSBPPpG4e3fsuYVETYnnltE3HCneWtTOUHKezGfMMQJ0uL\\u002fdPO0T2ilTVvxYkfFSpxSG5yVamNicpy1qH6yJQBIxpI0ySI1k4oAShGqUof14iVKpVEEy3EszHHU5zjq5bozG6qoUH\\u002f2GsJmRTCMLi3BTUZMpzVvvpgqLgIASQgAZG4OYbeJpQiblSoqBARBSJKuKEMIHADI\\u002fDzcaAAATK8nbFbRWLKcaKAj7DbcZEQpCtPpqJIicVo8VViA6XUoTVPFRYTNKu5LKiV5w\\u002fQ6KUKYGJjIeF30OsLpIHNzAEWT6yJFqF22hHDYMb0OIUnTxReIwmTL5Agxgx4zGBAMw01GyQAA9GevwfQ6ae8zQMqrBUHQlPIZpmouva2zIvlN8rIaaltnhdWR8tZkltNC8nvd8nMCQVC7rY7nWZXKMug6KNOeyehWLMMMerIgHwAwnRYwzHjRJgTDUJVaYJhkoaq6kq4sxwwGAKAry9Xz5yJin4LnVdVVmE6vXbKIcNoNG9djGo3+rFVkfp5h3TnqulrJcqLBasLpMKw\\u002flywqNG7agBAECIJu1QpUpzWcezZKU8DzmsULZaWk\\u002fSZHmByYhBS2YeN6\\u002fVmrVDVVquoqSQgAUoQIQRA2q3bZEtGbKMStVsmSyHFKEWqXLNKvWUlXlGmXLZEMPhZyzHMpQqelbUZtAQCQhIYkNCSucZrmSDYIgqgpE4YSFKGVbHCMoggdAGAoiaK4VmU3agtQBDshJGhSj6K4ijRIHgiM1tBWABDNcIykCJ2okoTSTgFgsI+JRYUrbjGabZjJgs1fpvraj20tR2MjrpO4x59lypA5Zttly\\u002fQrqiXJ5C8KxOPrjMX8mtD49zxuNZJFuURBju\\u002fFd1M\\u002fkj0DwO22wIu7Mb0eAMiCfNxiRlUq1uvjgsF4\\u002f0CyMNrWQTgdVHFhtLWNKiwI7tnH+QMAILAs5\\u002fMBAJmfx3o87Ogo4DigaOjQEVSjpkqK\\u002fe9\\u002fIFrKDCINTahajem1keOt0ZY2AMAt5sCOjxCCwEzGeF+\\u002fak6NrFTyfqUIkwOT6jVeF\\u002fcwH4tFW9sJh10SAoAUIUpSquVLvW+8BYIACCIK6bJihCSl+1wpQoFlWa9XPbeOCwTIvJxpvxHOHprU241VUSYgLhDiMNaoKPPg6OHkZz65lnp\\u002feCDPUMFy8RFfi2iDIEgoOjI4esRurI6zQQJTxdlwsXOVijQe79uaY57rDw8atYU8z0biPtFDnA3p1Tmh6IhoFmMCMSaAIKgn2AMAUlmWi4n79Xu479428IWvW2640ySON+15P\\u002fyP341KgX2MqIssmJaOdI8QJm2kd5QwaQCAC0Zxgyo+knh4ghIYYdZgNIFp6UBDP0oRmJok9LS4iWspwqSNDXmTbURhtH+Mchqig14UxwizJubyT9j3TMGHomPvHDEsr5Ik8gZLELhYzA8AofCwJOS8QaSciBxqPmNbKwCItrSZLjoft9mix1twq2X8\\u002fhxDdSuXB3bukoRkbg4A4BYLAEQamgwb1rEeT+D9D3GrhSotQSgqcryFKikWYjEuEABITLaKtrZJluEjx+jqyoSBIOjXriEc9uCeveiJ4bNoa5th4zpMr\\u002fO8+KooAYDkUsn7lSJMDkwiuS5phSeOi+fl17RLF4vtoCjETCY+kvQ8\\u002foSlwLKcz49VVrBer\\u002fRqN5HjpEqKAUUDH34kxGdofaFIzBdngywX06ocEOiMMUEA0NBWLW2TJgcJAqsijYLAE7iKFzjRRqd2EphKEHgEQU3aomFfi1bliMZ9wYiL4+IsF\\u002feF+nmBsxuq3N5m0QPPsxraiiCoaIZjVIwJamirijQGwy6pbHJ4+z4M7\\u002fvwTHz0RFp0giAInKCpcER6Ry2rK+kcI0piCIl3\\u002feVdLhwHAPOqSj7O8lFGHMlW5ZscF8wf29GamMDICZoKh6bMnmwjCvV1ecGWIRASHj6uBgvTq1RlOaTDKFckQ5LaqvJLKkrPT2xjqGbFAs3y+cYrNkywO\\u002fNI\\u002fg2LCZ9PjGpLQoRImquCINIVOw6aauWGZMsTBqaLL0hpLO4LIQnCbtOfuzYhTbZM8jYeYXJgJ0j52xwphSnJaJnRYGZQXs4IQRCYaOM010mb4ofk\\u002fxLjNhOPUbKZpFKO4YyCdhocm+ap8s2Ft6xBcNS8ssJ50YLCm1ebV1ZI55imzF5w40rREgByLltYfNvZ0qZYVlvpTLYRhfaNdeZVFYAgooek3c4omIZGVSSVN+ErXA6GEjptTkHeChAPP4ZhJj0AEDkTBoNnEaFKi+WiJKjSYu3ypQhJyhWzzHLqTPqaBJgkFDcT\\u002fycKJZJtJJk01J1yLzMIgiV1PpLkSqAqio\\u002fGz+RbwllmmeXTBIKhhtW1IAh0oU16lzArMJPe8oUr1AtrP\\u002fa2dpZZZvmMgOAoYdEBAJU\\u002ffkuYYvACRXEEQQEQglADACAIgqJ8MIRZjJ+CHta6L5fd98oaufRMhdbiP9q1\\u002fhcN5\\u002f+i4fzihSa5eqoQNPY\\u002fb60tWWyWK06Z2fTC6UyvDPGdm4xg2BR7Gln6P00ILC9wfN4d55s31kvCFA0WTRkLclfk5y5z2OYCACAIVV7IegOoRjXFen9iUekJUjU909CnRjTI\\u002fr\\u002flb\\u002f98w\\u002ftyxXTAMR\\u002fbW\\u002fgin+j0Zgx+etOr16G5TkynRQkCoUikppJYsYS+9nJNjgMDABWNOB2YTovmODAMg9JiAkESQrUKufxCjd2GGfVoVTkh2pAEUlFKUCfm64vOAUD0P38OuWIJDQCi\\u002f2TnkrFaheTn4tJeRIcmAyoK1SrEbsPEPwAQP1AkklwwG\\u002fgY49t5nAtGpbEr+bQGAIhGPRzPIAiSeL7L8+GDTbpzl\\u002fGB0Cn2sFAMEfjkV4UygOEICCAtyDnzXPrdmqNvuhrecckVM8u0L8DGRLmpXaXTyyc6vQrBn4703vY5nS\\u002fACwK4h7l3tkdynTjPQ34OftF56qe2hG68ShsM8xWlRG8\\u002fi2PIzj1RQYBbrtMFw7zZmFjSluOhfi61+UJ81MMJAqhV6J8e9Sc7f\\u002fK54KUXqH0+nuMhEhEAEv41anTUw4nOn9oSEo1pCtm9P9Y3wIp70apRgkBiceHA4VjfAFtRSnzhBl3Dcaa0CP\\u002fPs8HlS+jSIpymEJpGGprju\\u002fbF+gaym3nL8YAASuIACIAAKXtYBKEBgHBkRJrpjqppPhRBCPxUelikCl16vsmaRxmsBADklasqF2lJFSpuih9oDWayk5JQbyGWXWCmNRiGIwSJECRizaPEgjLn2ZN9c4mgSMWKxCs1s2TJZyS9Mx88SSImA7bvYKyshAhHhPYuprgQ7+5j2ztZtRphWMFsxLp72fZOFgCKC3EUBVEYjQlGAwoAOQ6sqoLoG2TbO1kMQ+KMIHUFROcMAwcOx8tKiMbj8eJCHABE\\u002fygKknO1GhGNfQF+78EYQGIvsbgQZ4RAMCFctYwOR4QhF9vexdAqRPww5uVffTM86knYZAWKEiZtbNAjnVgpelgsFyMItbQkDQDw4ShCkUJsfGXlKbDqEgtFY\\u002fZCdslG82M\\u002f7DI7SF4Qcorpc66xP\\u002fbDLvGD1x0PeNjelvDKi62P\\u002fbDL44oLAiw5zxT2c0d3+BatMzExPhbm+ZMJA0Fg\\u002fZ3ly68tpNRY0\\u002fvDI93jkwCtRer1d5aXLjFrTKTfHdvzbO97D3eIqjseX5ZbrSfV2E1\\u002fSNw\\u002fv\\u002fvX9q1\\u002faFUupaD6+ourt\\u002f+js2yZZc46O8cIxz8cfuH\\u002fGqMBVrlUOvJq9V95ZuUDl+8YPB4QJTlVuq9uWfWHq3f2N\\u002fgBYNUNRSuuKzTlqWIhdqA58OJPGoc7Q6LlDz9aR+sIBIHH7tzf9P749GDlUun4DKZXIXhQTK+tRHPevZVlS82UGvMPx3Y80f3BP7tEVcbMd3Sxz7wUPGe16u33IwDQ1cP+86kAf+Km8++PB1AUxM13P4hgGPD8uFD873JzP\\u002fqlR7TPcWJaDWoyomMeXnLO85DjwN5+PyI6B4AnnwuKDiXnycYi4l6uu0JLEMgb7ySO\\u002fp\\u002f\\u002f4U95jSb7yQY+Gve8dzRZkqLBoil9NOpRq8dnXQlxJtbSlXJOY\\u002fbwLKj1WMUCbTzCAcBQd7RupT6\\u002fXCVuVi\\u002fRxSPcSH\\u002fMO8zULtOLwtxSOr9Ctfv1sbpV+v1v8wPtkUXrTB+8MFK3Ut8g856eRZfmnf3F0hfub+w66KlcZd30tUrvYGLt2liI87tiT37zsH84VrLQdMWP6waaA8c\\u002fGAaAR27fh1Po\\u002f9ux7j\\u002ffPNy0zQ0A3IlfQFAopaACgEu\\u002fV\\u002fvBP7seum6XwUlf+4t5675U9uqvj2cslZL+Rn\\u002fPYe\\u002fyqwuev79RlCy+LM\\u002fVFhRbq9Il5gvuq3ria4dcbUGdlSxbZvG7x7\\u002fTfrjiHVKF3b9PPg1YuVQ6PoPpVQge0qdXb6fueHzZ4PHA4\\u002fce9LujzgpdcOzEUstZZP6\\u002fLwQB4J3t4y8tyK785E3uxOJdonByG\\u002fHvZxLv7oiIziHJv4JzyViC5+UOU7ZWMMltRki7gS51qortrv9+KDpN0WDF4gHZj1BgBq1mZT3rHo219yQZnhzvPzeMoABCojLDfbFtzw5Lm28+7pIq2fBRonke6Ig+87u+uasMRz\\u002f0A0B3U7jneFjgYduzSmebjBXXFR5+fXDvlj4AGO4MVa60WgoT61cERmKv\\u002ffa4+Hm0J7zqc0V5tXrxVI5HOJ4XAICN8fHwhMXbFEopqACgv8H35oOtAOBqDx56dbCo3iTKlUulY+eTPZu\\u002fX\\u002fvqb47HwxyKIQsuyt3+j05RRaoxECAwHBvrC4\\u002f1hbsPeSeUBBCrJiNjqZR8BtOrELxIyvQuu7oABPjnPQfEIsld0allHscoDCVZLkpgqijjR1GcwGiGjdCkMRr3IghKYCqGi2BoYtJynA2RuAYAeIGjCG0oOoKjJIZRDBsWi\\u002fBCirp8vDCeoJrE\\u002ffvbFG8J2SiGUdL7nwCAYBg74uF8QVSr5oOp36vKZj1l2drQyZvJTbKseT66wyd9Fouc1BrT1iLNwVfH14R2tQWlK4pUY2fdXFJzjs2Uo0IwhNbizRP78ClRKKWgAoDeY4kxTgCI+Blam0i+cql0HHlj6KJvVS+4IHfPs73VZ9nUBuLAywOi6vgHI3u39N315PLeo759z\\u002fcdeHmAjWVO2dRKfQbTOzXyavS9x3wpG7ipZT7fsojlYiiK+0J9Ucafb65n+TiOkgiC9YzsyTPP84eHCFydb1kYjLpVpGnQc8SoKVCRJrevWUUaQtGRQtsyhgsLAmAo0TOyR76DMwDSYQQEMSyrirQmzrEUDRZF6q2W6kh0dCyeuIFHSEJ8QUezbF7gnV0TzQEAMMBtWJ6PH+WAjQtRLWLAETLAezAEjwuJGwQcISmgI0KIQMiYEBFtvHzmU2caSGoC2aSHzdf8bJ6jTPvsD471N\\u002fqZKHfvs1m9M6VQSkEFAPFw6icjyqXSwTH8nmf7ll9dsOfZ3oWX5rXuHAkMJ75jBF544f8at\\u002f29Y9FleevvLD\\u002f71tI\\u002f3bgrOJq4AUnH1EoBfObSO0UQJN2N0tQyjyIYgdMxJugL9wMAL\\u002fAEpuL4OAIgCDzLxX3h\\u002fkLbUo5nYkwQQEBRQvxAEzoNbUMQNBL3xtmQmjLzAvcx\\u002ftKEApN\\u002fhCLFU0KOixGEmkxaGIgd8fChMB+K8NHUSczBiklQqRBtGT4PAChEjQKmRnXiZgJB0KPmfKzcguaSCC3ajGtPG6M94ZwqvbTpKB9\\u002fwli12vrRkz1dBzxMlMNJ1Jyf6BqICJwgCIBi8gejCqUUVApMrRQA7HqqJ6daV7zQVLPWtv9F+fe\\u002fdyj6zl\\u002faf33hBziFLrwkT6ZNx8mW+mymN13wCrhaA\\u002flz9ASd9pw\\u002f2cyH454u186BscPiZt\\u002fo\\u002fp7h3bzAAggErhr0HAWAnuE9LQNvuX3NvSP7faE+8cOQt7Ft8D1B4Ac9R0cDHRwfF4tM8H5mwMcZEIRY\\u002f\\u002fh6Pil6WDhOj3nakn+XUGC58L4GhCI5X6LPJUMAgUBII2LlBBYAwkLAjDq1YBA3RShEpUEMMSFCICQvcGEImFHnuIvTxq6ney79bm3nvrHuw96SRebyZZbASOKrcqwvUrHKevStIUqDb7y7AiMmnH8cK4z2hBdekjvYEgBBiIU58TtWoZSCSoGMpUTJ5MvD54o2vue+5H9qmBjX8K5Lks\\u002fd4KB1RH+jPxpk8+fo1QZipHvCIycMRwEATfp9SsiiVEo+g+mF9MGLpEzvR0\\u002f1LL+m8MbfLnj3b+3Bsbg5X0Wp8WNvu2CqmR\\u002fyHJNJBBAGxo7IhBmZQpGZQxC0C0pJm37k5b2iIEWDxTBhi7lKrbIOuQ+JEsyoVy+sYVyj6Rqsfq49eQwrIgQHuHbZkFZI8Lexh+HEaBcrMANce7LBaWLvln5TnvqC+6pIFdbwjvulnzWdc1upqHr6u0cv\\u002f39zvr11bXAsvv0fnf5Jff5nvnv00u\\u002fVfG3LqpA3vvX3rftf7FcupaBSQKHUpd+tXXpFPk6hAPClx5ZyrNB90PPXW\\u002fZIBjv\\u002f03P7o0t2P92bPOrBMsKqG4vM+SoMRz0DkTceaGl81y2qzvtKxZqbi8Xv+Zv+UM+xgrs9+MDlO5RLKfAZTK9IyuAV0usdjP75pt3nf7XyC39dTFCozxV7\\u002f8Qo\\u002ftQy\\u002f4kAQVBBECDT6HY6EALHNFS4RX73kAGUpgyXnKNdvVCumOXjpmCu4RcN5xctMMoVs0wHn9b0YiRNaAwoTpIaIwCC4gSh1iMoRhlsCIaLchQnCZVO\\u002fAMA8QNGqmijHQAwgkouIrpFEJTSW1CcJNR6AEBx0lS6gDLYFIoogxs1eXecn\\u002fOF9eOSJG0CktSWFJ7L8\\u002fHWjjdECWbSs8MeInd8ZtYsZwgLLshxtQezfBA+y8nyaU2vtWYlF4+gGBFydcVDXkvVMp6JoQSFoNhwwwfmyqWRkT6M1lirl0c9g6TOOta2T+soJnVWb9cRSmeOet22ujVsNAwgoDg53PCB6NZStTQ03GupquGZmK+nyVhch+IkjPSpbQXpiijDR+JjWw9q5hSeeDMnVYPFsTGX+7BOlyu9v8P5AtGmdnbEIzed5WOCVGFaC5VbrVt2dcGz35ePZcxyinzq04ugGE6pmbA\\u002fNNwDAALPYZSaZ2IggMALPBMLDffY5qzh2TgTDggCoBghfiA1RtroQFAsHvAwkQBtsAkcJ5yYd8ZzLKUzCzyPUWqBZwWex0gVodIpFFFGVepESJyPsVJblAKK0tdUbrZZaqTlYjGjXnfuMnpO+UTDWT42ihea7t+74QcfnLv+jtmDMv186tNrKlsofy8YQcwVi221q3BaI4mS9SmZVAQSP84mOZ\\u002f09vHkIgrQBVbtgtIMa7qjKF5SeE6uc9G4hKYMl5yjWVmfZHVGUFC1fuGGb8mlZwAoRiw+73\\u002f11sTw82llJvc1jdSvu6+wZqNcmsQ01gvD6eUX3b9q869Wbf6V3lIiV88s01iv1KT6hYFp4DS5hZP7SQG5KYKgduuccGSUpk2SkI\\u002fFfS+9F9p5MMnwkwdOqDAs8ZrCzCDwKaY1T42MwZ\\u002fsvjI6PEM42XqlhGOju175\\u002fr6tP5UrPj6mpV6TQQhSWzePMJowrQ4ASLuDLipBCFLcRHAcN5oARQmLBVWpSJs9IdQbUIrC9XoAELWi8DS5xdRqKicXABCCwHV67YJF4r4SfpKYPOgub7AAEI+v0zV8xOU+LIlwk54qLUiy+URSOv8yo71SLj098Byzb+tPA2PdcsVUUQh+avtScHiGMLV6KXCGTOae9nolo1uwENfpcbPFvG4jAOAGA4LjpNUmbmrmzKVy8\\u002fWLlqIkDTxP5eUDgOmsc8wbzjeedY6mpg6lKFErClGKPh1uEZygCooAQL94mbqyirTaNDW1KEmKfhI1AQAEUIqQLeAnb7DE3yXEMDISGZOEXDBMFueegbeEGd9eHAdBjPYKufCTwrQHP+0OZzlD4HmUVtGFRQITBwBmZIQwW+iS0sSm203l5Agsi5vNuMFI2BwIhjFeb6ipgRkZYUZHEJIUtazPG2pq4OMn5qxNq1s24BcLAs+hKrXA86hKLXCc6CexRwAEQdSVuXSRDcFQONFipbgppSi91VxN4Kru3u1ii4AZtIZL1wlxxvPUa3LrmQYprNngLFmB4dTYUFM0OGzJm3fgrV8CgEprLajeYLCW4ZQmHvW7Onf3tbwrlpl71p0aQy6GU5KXvuPvdDe+oVwKAHLKVuWUrqLUJo6NhbwDHUdeiAQSM\\u002fpUWlvRnE0GaxmGU\\u002fGof6D9w4G27aJq2UU\\u002fxgkaAGn66NGxoSbJGwDY8uvzq9bRWkss7HV17R5o2y5+7devu6+\\u002fdZvBVm7JrRN4zuNqbj\\u002f8PMdEQTF4UNxXuuCVHabEkjfPlr+AY+OWvLndDa\\u002fjOJ1XebZnqPn43icgUw7TJap+3X0eVxNJ6805c2RVhvT1UkgUpE+vCKkyLDn\\u002fe0e3\\u002f8k\\u002fmpixKZKulEK9cEK17KIf73vjJ4U1Gy15cwGQgfYPehq3QqYIp1avgqr1juKlJK1HUAwAWCbSsOPhoKdXKj4BcaRJenFx8qYgyBemEoUSolYmnOxHtpm1Wzq\\u002fEDcag0cPj9tIlhOLoBRhPLtO4HjP24kbvtTTGkhSC4Jgt891uY8AAB+JBbftoapK5BFMEwSOCCCwqd9dnYC9cFFe5Tkdh7b4x7qN9sriORfEIl5RxbGxeNR\\u002ffO+\\u002f49GA3lJcvvCqkG\\u002fA42oGgMYdf0cwfNmFPzq+99+eoSYAkJYnVChlsJYW1110fPfj4YCLoLQGW3k84hNLkbR+7tq7Qr6B5t3\\u002fikd9ar2TiY2\\u002fS7H7lR9gGLn8kp9IEhGjo6qs\\u002for2Q88FPb0qra184VUIivUdf0fUli7YPNC6\\u002fci2B0m1sXLxdQVV67uOvQKKwUP6fSkEr+wwHSZnTfvBZyMBV9GcTcM9+xt2\\u002fH3uWXdoWnJDvgGFHConKqd0VX\\u002fr+5OrDOnrBekTpZzedCiUUqiXSNXSG4d7D\\u002fa1biMorZB0oaaLEKZUL1vBwtyKs468\\u002f8dIcNhZvLxk7sX73\\u002fw5Gw\\u002fLy0vIrtCUm7KFqWQ2ojZlQeXN7NxGe7uh98QdsWgjWU4swseYsa0HkyUpGiwMp2jKMDLaPDKaODZCnGGHx+K9Q5I7kkQcdtTl5i1mdHCI02oRrQY1GBCjAd29N27Qo3Y76vXxAODzCSltRD+iEEFg5QrquefDOh2i1aCDQ2nHI3NKV470HXJ17wWASMBtslfSWquoikcDXcdeFT9HQyO55Ws0xjzx9OK4OAo8AAgcy7ET3udQKIXiFAgQj\\u002fmjodFoaDR50MFZshwEaN71T9FbJDgiqUQEmHjkAACgsHr9YMeO4d6DABAJjgx17nKWLJeuqJCnr6dpKwCEA66R3oN6S5EoVwheJOW+FILP6DAlAse6e\\u002fZTKmPRnAuGOneFfAPxiI9Wm0O+AYUcKicq6OlNWWWRlPWC9IlSTm86FEop1EvEN9w22LEDAKR+t0i6CEVOtl46c1HQ0yvuYrj3YNmCy9U6h6yT+NkhRYPFMOFo1IvjKmmECDPpjZs3RA41hQ82iW3WhZvoWEy4uoooKMC\\u002f\\u002fyPvbZ\\u002fXjnn4IRcXDgsAwPHCvLmkXoeUFOMUhVAUMtlG5PYvaMc8\\u002fLPPh8U1z275nMbvF57ZEk62SUaltQ33HZQ2wwGX1GBhOJVbfpbZWUupTQiCYASNTbxFSolCKY+r2dW9Z97ae4KeXlf33uHe\\u002fTyX6IlojHlBT2\\u002f2V7uIWp+jMxfnV56bLERQTHxgFEjq4bNMBDu1t+cVgp8aDBMGAJ5jAICJhwCA51nxBQuFHConampVTldKOb3pUCilUC+RwFhP8qZEugiVSVcqEnBZ8+ZTamMs7LXkzuE5JhL8lLxpOAVSNFg8z\\u002fb270z8ZI4oCYTZEQ+qVUs9rNY2dtNGurePa2xmQiGht59zu7lAQJhTSwDEnA6ssgI\\u002f1sAIAut0YoePxCfbiH5EYV0tUV1F4HiEJBCjEWEZac+pSGrKku9lKhZdo9Y52g4+G\\u002fT28Ryz4JyvjtulR6mUIHQcfr6\\u002f5T170eLC6g35lWcfef9PTEx8\\u002fTvzaoVyEATDyJ7Gra6exHvnItLlxCclfBpQCn5KJPfVJz5uU8qhYqKmVuXUpTKlNzWKpRTrBQDA86nP1NQRZiJdqaHOXTpL8aKN3+GYaCzibd79z+Tb6o8dcaboaXoCm9USyRSlLy1aJ94SCiAAhqqX1LHuUSLPLtkca2Aamxj+xPr2zzyXuKM+dCQOAG3t7M9+6ZeMU9qISMJde+IA0NnNvvBSRGHh50hoRGPIkTbVOof02eSo7mp4VewqoyhOayySCgASr4xPmqKmXAoAYhFvb\\u002fPbA63bF274lr1wYX\\u002fr+wAQ9g\\u002fZCxejGCH2OLJCEEK+AbXeIY0lZU+64DOSMng4BYcpUcjhVBI1NaaWXsVSCvWaYXSmgoYP\\u002f+YbaZcrZhYMJTCU5HkGw6gYExA3UQQ1aYsGPcdwlOQEVkvbMZQIRocpXBuKjSAIoiKMUSZAEZpIPEWSlclmiWQEAZRhwjRtFL8bEUCizR1CNBbvHV\\u002f3D06MoMkal5RtTTY2IlteiMhFExnq3FU6\\u002fzLfSEdgrFtvLTXaKuIneg3R0JjRXjXafxTDqcLa88TnKRICz0WCo\\u002faChWHfIIDAsfF41K9cypI7FyfooLefY2NaYx5OqqUhmKHOnTklK6qXfq73+LtMLEhrzBhOjg4ck8oiCCb9l+hpfqt62U0FAdfowFEAVKN3Iijq7tmfbJOSdMGLpNyXQvCQyeHJopDDjIlSIGW9FMiYXjThcEIzrVBKoV6nwsnWi1KbaI3lVA7QdKGmLPnm+hgbYNjIoOeoijLnm+ub+l8XWxO7sYblooLA8zwLAq9XO0OxkTzTAl9k0KHO5QR2Cg1W5iWSEQQx6Ati8QCOq8SFqwSOAwDTdRdFDjUxA8MTbg1mHFf3HlptKp57EYaRowPHOo68mF+VGH1oPfDfsgVXLDrvO0ws2N\\u002f6\\u002fuQD3Hbgv6XzNy849+tsPNTd+Ia7Z59yKYHncspW0xoLgmCx8Fh3w+tjgw2iKhb2Htn+p6I5m+asuhVFiVjU19+yTVQV1Z6fW34WihEAUL38ZoHnwgHXoXd\\u002fBwBjgw1Nux4rqFqXX7lOELhIYDj58b8yKYNX2JdC8AoOp4ZCDhUSpYBCvRRQSG\\u002fp\\u002fMscRctQDAeAujVfFnjOP9Z97IM\\u002fK5dSqNfUmFq9mGgg7HeLr6AJAh8NjXY3vD46cFRud\\u002foxaQp4gYnGfTE2iKGkuKmhrOKCy\\u002f7wgFVX5vI1W7QlUcavoawIgvICpyaNodiYTV\\u002fh9h2Xe8zE5CWSU4ChRF7OkpykdwkRHDdccu7selizzDLDIChWv+7rRXMuoDVWUmWgNZb8ynNXXPJTFJV3NT52LLpSHW0HAGnRBBEEQSYLTzsoTWEGnVw6y4yDIKjspmaWTzFaU\\u002f6qzb9KfutTY8hdtflXJK1PsjpTwKe7FSXtBv3yKse1a0Ccpzr51ZyUYEa9ZuUCIn98hHuWjKAIpiIMKILRhA4AcJSkCJ2WshrV+QCAY7SGspC4hsQ16WwwlCBxjSgUPwMAhWuchhocJREERRFM3IvoTdppcgDiB5rQiX4AQPSfHEA6G9HPLB8j0dAYzzE5ZatJWkdQWoO1tHT+5qC379TvT0+Rykp8yRKSJBGnEwMADIOiIuzyy1UOx\\u002fjYnCikKCQ\\u002fHwMAkkx8yB4uGMU0lH9Pi8KgewqEaAzVqvH4aX7Q8+nCYajieC6XttGk4fjA24XWxQwbibFBjo8DAAi8XuXEMVpNmlAEQ1F8so2aNEtjnIGoO8dY1zTwRpQJAAh2QzXLRUeDnXZ9BcdzY8FOvcoZio2KO40wPimACOMrsa2gSUOMCcaYwKD3GEXoAITkAAY8R+36ihQ2s3zcsPFw067HCms25ledi6J4POr3uJp7mt6U2804TifG83DHHZqCfOxHP\\u002fZffJHq8BHG6cQ2bqSefz4SDAoAcM3V6sNHmPPPJ2Mxoa+P27SJFj\\u002fIfaWHjzNcMKqdXyLwQrTLDVk2WLNLJE+BYHTUrq+MML5A1M3x8WjcF2NDLB8T7\\u002fMpQqehrIGoCwSBInT+4OBkG5Om8MQYZ8isLeIFBgA0lEVD2Vy+Jou2xM23iHsJxUbEMU5x0+0\\u002fLgXg9h+PMP5A1I2jlDhWGo57LNriKBOQAsBQPKXNhPrM8jHhdbd43S1y6cdNVxe7ehU1MMA1N7OhkBCPC4UF2EA\\u002f53LzahUiNliisKODXb+eeuMNaGtjN26k3lB6aVUOQuCYlg7sb8fNOoCsp8uiahqlKSJntsE6OcSBRvkYZKrRx2xskrFoS8RGDSYZJ29KnxVs0glT2swyi4Q4jU+azIelutsThZJNupl\\u002fFIngOCAImE0pLBBsXJjtSYnSlMLvEn6CcHz1Dj4UGn74X3LFLCeD7babOJ9\\u002f7OkX5IpPCJ\\u002fQ0yDnf74a2r3f\\u002f94HcsUnnPJSfOM6Os6AIMAj\\u002fwyKQgRDDatrQRDoQtvQE9tEYXa3hJl+l\\u002fAMBNWoMYOBGVCcwTHLlEEQgT2JwYiPi9nTQJkzJD89vVwkIqAYEgolTStHIHSsmxkNUPkWSZZFg4WhqrkVqFaNxVK\\u002f63Rmolm6iHDax558Tq6YZToY\\u002fts\\u002f5aIzkk\\u002fZaTD48wfkolPjdOeneKGRIFFzvmrPlgGFX8oxm1FAoL2D2fbB+HvyAssLHJ93x\\u002fl8jB189G1RmOKOUQ7HR493RQ41C9F42nvQMw9VTaVcNMtnj9nTQJnTnZ+Ij0VQpHXXmEJrBQDBEG82YTlO+TCY+LuEzLBPGrvKoocFwI54tGsWCSyr9B7gdOP8xl3ho40IjuvWrEBVdPR42+iTz3FeHwAQOY7c793n\\u002fvOjkWPjy33Y77wVVdFDv3nIdvvNdHkpqlEDgG71clHbfc+3peAFjjOcv063ZgWqVscHhjxbXo61d4oqurrSePF5ZF4uH4uFDx7xvvAqH000+Y6v3hFtbgFB0J21cnJBhWgBoODX9w8\\u002f\\u002fC\\u002fcbDScvw4zGjmPx\\u002fXgw+zoWMadquZUGy8+n3A6ECJxpKIt7a7f\\u002fyWjW0yn1W88RzWnBjcb+XAk2tbpee4lzudX1VYZLzovuPeg6ZLzw0cafG+8Y\\u002f\\u002fy5wHDRh55ItbZrawVd5r3o\\u002f\\u002fBrRYACO0\\u002fPPLoE6IQMuUHMtUlHQqJ\\u002fYycBgiOF\\u002f7uJ1JfIXzoqGzojczLMW6+iC4rETgucqxx7NmX+OD4cg4ISRg3bVAvnIcZjUIsxgy6Rh77D+vxZswPXVVuvHAjkZuDoAg76gnu2ud\\u002f533JbZa42oOegQjHKrVWAJDjxLp72aoKeXPEx5jYoIfxhKQ5NnKLlGA6NVmUK8SZEByU604nhvVnR1vbRx57ElXRpisutn3xc0O\\u002f\\u002fiMAMIOuWEeXduVS6UxFNWq6usLz9AsA4HnmRUAR+923xbv7vC+\\u002fnvCV1NSqaqtxi3n0yecEhjFedJ79S7f0\\u002f+BnfDRKV5U77ro1uGuv94XXUJ3GdMkm8o5bh37\\u002fF6ms\\u002ftyzmOGRyQVFbbpoE2XPXoWQxNgzL\\u002fLRKF1Wwo55RLnCTgm7zXb7Lb7X3gp8+DeyIN\\u002f+5c\\u002f7Xn\\u002fLt3XC64fp3PJxBjca\\u002fG++y7hHcJvFfNWlKHWl+8+PAgCR68TNxtEnn7PefB3hsI89\\u002fYJ+3VmGCze4\\u002f\\u002fj3jFoA6P\\u002fhL1AV7bjn9hMhjKOQn2zqko50if2MnAYCy3bf822EIFCasn3pFsmVCG61OL5+Z6y1w\\u002f2Xf6AUabzsQvttNw\\u002f97k8JNYra7\\u002foimZfje+3tWHcvqqLpshLW64NM+cH0OvsdtwZ37PY8\\u002fypCEmRBHh9OLKxyUhgcVM1am8pAbHukS6GT5Xbzb7wVOXxE3sMizDr9ssrY4FjQkxiJz6rBOt1LJKdDEISRf\\u002fxHXDtZiMftd32RKi2OdXQBQODDXdYbr8Z0Oi4QAADNwvkgCKH9hwGA9XgBADiej8XY0cQJkQyCY+4\\u002fPyp+C42Fwjnf+RpZlB893ma86LxYR\\u002ffov58VzZih4dzvfl09vy588EiiIEmkLChqFaIFANxpH7j\\u002f1+IJEWsb73co7JSeUy2wrO\\u002fNd0EQos0tkcZmqqxEKiiSzq0Qiw0\\u002fkuj+xDq6CLtNd\\u002fYqcRMhCP\\u002fb73M+v\\u002fHiTbGunkhDM2426TecnY0WAEAQ+HAk5YLWCvnJpi7pUEjsZ+E0ECUCw3AMM\\u002flBh+G8c4RobPjvj4t75IIh5zfuoqsros2tAKCeW0uXl7r\\u002f9EikIbFQqtS4K+cHt1oQAg\\u002fs2C2Ox0u1O1liIY7W4TiJLtjkOPjqkFx9Ap+fB4DWoPyk4iIxTKciolpJktWYlBBnACDe0TeTrRUAMH390oURbW0HADI\\u002fV9wMHzjCR2OaZQvFTc2S+sjRRj4SETeViff0SX1m8SsO0+sQHKOKCyON4wvgMgODnNdHV5VLkpQFJa1CtAAQbTw++YZaeacoRQLHjeeckxeHNG4nw46MojQt3VZw\\u002fgAA8JEwN+YBAD4WQwhCMlbWKqCQn2zqkg6FxH4WTgNl6MryaEu7tMd4Tx8IApmfl9BWlPKRqNRaZU+8p49xDzvuuc2w8RzMoJers0Zvp3yuGIohCq0VABTkYxeer\\u002frW1\\u002fSyQXKUIgiLli4Zfykwqx4WZtBqVtaz7tFYe49cdzrhw+NnnsCwAsNgukRbKzBMaM8B7cql\\u002frffx81GqrTY\\u002fdfHJGNluKQ7\\u002fMS9MYIgNA0oyoUm9Hu5YAjTapI3x3UnCkoChWgBgAsklT2B8k4jDc3Gi87TrVkR\\u002fGgvkZdD11Z5n38l2RLSuAUAQFHdmhXqhfMIqwXVaBA8qbPN81LDITAnvtOkeihrFVHITzZ1SYdCYj8Lp4EyqEatWbpQszTRZItgxkQTg2o0nN+frMoSgWWHfvEH\\u002fbqzdOeuMV58fmjfwbHnXk4eGsuSwEi88b3hvoYMMbjdPEUhr78pX7xTHHTXzCkEJJHqrBosAGDdYzM\\u002fCQtR0eOfCRwhCPHLXySwY7fu7FVUSRFVVsKFwifxNZKqnyhEosDzmGbCKYJpNdJgM0DqghLK0aZEeafx3v6xZ180X3u56cpLOZ\\u002fP\\u002f+a7gR27ky0VMF95qWZp\\u002fdjTL8baOjh\\u002fQLN8seW6K+RG0076\\u002fJxKXZQT+6k\\u002fDZThw5FoU4tsNFBqUvlIFNON9\\u002f5OCj4a9b76pu+Nd9SL5psuv8j2hRtdf\\u002fir3CgTlBrT2ajeoz65YiJ2OxqLCZs2qhqamOQ2CzeoCbsR09BwosXKqsHifMHAu7vk0tMPVViA4LjY3aUrywEg3jcgaZmBwVhnt2bRfLKkOLzvoKynzcfiKJnVjYyIwHHRtk5VXbVv6zuihMjNwYyGWGv7RMO0KEebkow71S5b7H3p9SwHp5NRzasN7TsU2rNf3Ey+K\\u002fm4mHJdlBP7WTgNFIgeb6OKC+L9gymb0Whbh27tSrqqInq8Va4DgCzyI3BcaM8BTKMxXrpJrsuCkJepWWuzFasPvDwo1yWRroeVWCI5abWGrMawPi4QHLPddhNdXaGeX2e+9opYR5fsOye4Y7dqXh1VlB\\u002fcnbgyJeJdPaq5ter5dWRhPl1dIdOmxPvyG2RRgeWGq+iKMnX9PPvtN8W7e0MHj8rt0pAx2pQo7BQhcDI\\u002flx3zJt9xZAnrHqEry6mSIjIvx3DeOvWCOrnFVEEwDNVqEBxHCRzVqJGUr5BN4lTqkjGxn+7TQBnfG29jBoPt9ptVc6qpkiLNovnWm68VJysAQOTwsXh3r+3WG3VnraRKi1W1VcZLNiWPSaXLj3p+nWnzhaq5tVRxgXp+nXbVsmhrh6TNHjbGffTfXuUBLACIxYW33o02NMnXgxEYLrCvLdI5\\u002ftpzVj2sGX44KBE6eJTzeq23XI\\u002fSVLS5dXTSfNzQ\\u002fkOmKy5hhtzxnj6Zyvvam5hea7nxakAQxjU81Jz6GyaZWEeX+8G\\u002fGS+9wH73F4VoLHzkmOf5VycPkaYjY7QpUdipwHKRhmbrLddZb7kOAPhQONJ0fOzJLdITdAVGn3rOcu0Vjq98SeDYyJFG1+\\u002f\\u002fmvu9++RGJ4\\u002f+3LNMV1yc2CjML\\u002fjljwBg9D\\u002fPBjPd351KXTIm9tN9GijDjnoGf\\u002f2g6eJN1luuR0iC8\\u002fmjza0Ck7jyBY5z\\u002feFvxovP0288Bzfo+XAk1tuX\\u002fIQ3XX44n48sKtQuX4KoaD4QjDQ0e146MfXhZDDnqykNZs5XNb43zHNp25AcJ\\u002fad+\\u002fRvvBV9460JnSzConPcsNa\\u002fu8W\\u002fp\\u002fUkmiDcbKBKC+TS04zzG3dZv3CDXDoRBMcKfv1jw8Zz5IoZJ5toTw4Ecdxzm\\u002f3Ln6fKS8j8XLIgT1VXk\\u002f+T75kuvUBueeZzCnXJJrGf5tNgIo6v3mH74ufk0jMYFEOWXZm36JIMIxIUhdx3r\\u002f76q+UPGRACs1+z2rxhgSTJ6paQC4apikLNqnq54rST4fZBXT8PIcjgrn1yxcdDhmhPCsJupasrva9sjbV1xvsG4r39kWNNjMuNmYxy0zOeU65LhsR+ik8DGZhem3EI\\u002f4zC4KBDHsacr0JQpbTkOrGtb0f8AV42wEA6jPEhL+kwSpKsbglRjYrIc7KHmj6ue0MZKE0TThtmMJg2XxT8YOcn6xBmCevx8tGYfv3Z\\u002fne389EoptWqF8ylK8uH\\u002f\\u002f643PSM5zTV5bNwGgCAZkk9O+YFnlfXzyPstrH\\u002fPi+3OIMJjMRwytDwrlthmjsA9PSxX\\u002fqCNhIRf6JrnMm\\u002fmpNVg8UHwgLDkMV54QONct3HAW412+++HUAIHzzqefE1ufpTgRBn3H982HjReY67b0NVNB+JxvsGhh\\u002f+V\\u002fjwMbnpGc9pqstn4TQAAN3aVWReDiAI4x4e+cd\\u002fpjzp\\u002fLSCW41kcS5Z6PQ+\\u002f15yn4aN84deyzDiDgBWC+b1CSYjKv7osgQXjoIAsf7RcVE2YAat6doLdOcukysmsmTxXRZzpVw6I9QvuFWrzZFLZ5yPMQOTsdvnLll81zln338qmTlDEpsMSuGLn\\u002fiSfm6+XJEdBTesWPjorXLpNIGpyeUvfGXVW99c9dY39XVTjHC6OMVEnRQIgWtWzCOL5KeKzkJu\\u002fn7NRd\\u002fMcFHQNHLb57Wfv1E+hkVY9erKCeNfWY1hwTRNHNVpc222aXu+nszBQ48Eg0oTPc4cTl8SZLjdR\\u002ffueyh24pexp8YZmVgEAAQ28xO0mYcLx3dd9od9N570BMvTw8wlSmBYpn9YWodDgmWEAy8PegaiyrNZYjHh4X8E\\u002f\\u002fGEfCY9F4ioa\\u002fJN58yVJPIdpITzBWNt3Vm+UKaA1VbDcZ+kVQBPB7NJOEX4GHPGtAipUR6vmTFmMlGYQatds4AZGo219SbL42FWZyEBMgx95+ZgTju2\\u002f5D8usC0NF1k9+9ukUbPs2qwFN4lNBgKq6ouwzFqzNMunAgqN2dxYeFZGEbwPNfZ9c7Q0EGaMlRVbzboCwWBy81ZAgC79zwgCHxKYwDQ6\\u002fOrKi8lCA2KYm73sZbWlwEAw6iysvOslioUxVk2um\\u002f\\u002fX1g2YrVUl5Ss02gchw496vV1iQGoVJaqyktUaqsg8L29O\\u002fr7dwEAjtNLl9zT1\\u002fdRbu4SHFcNDO7r6HgznduUHlKSMgOQql7pkjDZMmXxdPGnNJbCSMZqqS4uPmff\\u002fj+Lm1WVl8SZUGfnOymznTKxkObQfIJIPkazTCPcmH\\u002f85dMT4BRG6\\u002fC+Yz6ZXMaYh7\\u002f4AlVVJfGfpyd0slh\\u002fOO7yYlpaavCyarAgzS0hgqBzaq9ta3\\u002fd7T5qMBQurP+SKPd4O4dHGhkmrFHbFy368tDQwWjMd\\u002fjwYzU1V4ZCrp6eD5KdTDYGgMKCNQOD+\\u002fv7d6EoTlGJibkV5RdgOLV7zwMcx9C0kWUjADAy2jwy2rxs6b2SQwRB5tZd39S8JRDox3HV0iX3BAL9fn8vANC0CcWIXbt\\u002fR5K65cu+PjR0IBwemexWwYOMdBmAVPVKl4TJlumEKeNPZzyZkdHj5eUX6HR5gUA\\u002fiuJ2+9y9+x6CNNmenFiRlMbTiCrPVPC5lYZ5BbhRHR8Nul470vfk+LfFsufvwTU0IND0\\u002fS1juzK\\u002fuQIAgEDh51Y5L16AqYix3R3Rfk+y0nZOTf71y+k8U8ztd712ZODZvVL\\u002fKJ1q4aO39j2127SkxLyijIswQy8f6nl8Rza\\u002f4pjOoUKVcS217Pmv7Lv+L4U3r7KsqQKAgef39zz2IQDUP\\u002fz5\\u002fmf2GuoLLSsrBJbz7O1sf\\u002fBtLpRYaDBdopRLFdywwrFpHmlJvC3PBmMN33km2JzFmACK8nGGG5M3TLEQu++FDG8mAYDRgMaigt0uH3QnTNpo97Cq2H5yPSwAIPIduN0c3j\\u002fhKSFNGwlC43YfBQCfrycSSQzma9S2gsLV4u9E4TiNIKjYmUpJSuOBwX1VVZfpdLlDQwe83i7R0mqtPnT4MY5jACAa9Y67mAhNmzQa57y54\\u002fPr1Gqr1Nz09X0EAPF4IBIZpShDODwy2a2yh2TSZQDS1EvSJpPScrJQNJ4cfzoPkv8khN6+Hfl5y5uan7NZa\\u002f3+frG+KbOdjpMyngJcJB4fCR7\\u002f2Svx0ZC+Lq\\u002f8G+eH2l2ePZ2idvfmBzGaWP7yVyeUUcS+oS7v2mUdf3jL39BvXFxcfOvamDuxeIBxcUnZVze2\\u002f\\u002f7N4PEhVYG5\\u002fOvnIRgqNhYKKgAovWtd19+29fxrh642r+zeDdEhn\\u002fvNDE88FRwqVxkAqr5\\u002fyfA7TX3\\u002f3UMY1cn3m6X3rB94dt+RrzxB2vSV\\u002f3NhwQ0ruv62TVQpJCpdKdu62twrFx\\u002f5yr8jfR7nRfNLvnTO\\u002fpsfZv3ji0+kA8FQVV05plMLk372QWch199ZxkS5V37VIlMlEwwJej2KY8jmS9TPvTC+asXkdwmzarCyXsBPAACC0NTVXb9n74Ph8DBJalev+l+5VRLpjMfGWnfv\\u002fp3VWlNaujEW8zc0PAUAcOKN7YwIArfzo1+mvGhZVnoXRDjx03sp3Cp4UCThJ129JpPSMqVQZHL8CsaTGRw8UFR0No6rcnIW9Q\\u002fsEYVpsp2akzKeAvGxUNff3xc\\u002fRwc8uZcv0pQ7kq\\u002fekx0hyrmkfuS9JtcbRwEg0jtmWlRC5xpFVeGNKwZfPDD8bhMARPo9Q68edl68QGxEFFQA4D3QNfTqYdGhYV5+zqX1GRssBYcZq+w71DP44gEAiPSOSUIACLW6ev75IQCEu0dH3m3S1054oJYuUelK6Wpzg8eHxF0Mv9NY9pUN6iKL\\u002f6j8bafJCBzPuka5MR9uN8maiGiI2\\u002f1MX8kik3LLEQjwjz4eCoV42ctI4ruEXGS8HcyqwRIYNt4zGO+R9wyjUS\\u002fDhu32uW73UZ0uT6WyAACOkQBCPB4AgLzcCTMhODZK06ZkSTpjnS4vGBxyu4+GQu7Fi74sCkfHWooK1zY1P8fzLEXpGSbM8\\u002fJ7ZgCIRj2RyGhh4Vnd3dsAQKvNCYeHU1qKTHabvYeUGYD09YJJSUhpmVKYjpMy5nlmaOhAQf4KjcYxMtIkClNmOx0nZTwFMBWZe8Vi84oyyqFHUBTTUNjuDrnRyaDKNw2\\u002fO35nEO4akRosdYlNNycv\\u002f7rlkhYAEBwVWF5BBQDh7vGudKjdbVmV+bVqBYcZqxxoTH1XFTg+fkmywSimoZKUaUlXKtI9al1bRdn1MbffsrKCj7GRngntowJcKIKb9ZFj7bJmyVakLpxniPiZuRsdR7a6klXJZP8uYVYNFm7SY0Z9rEN+TyQIfEPDU9VVl5WVne8ZaxsdbQGASNTT17972dJ7WS42NHggEhmvc1\\u002f\\u002f7ro5165c+W2WCe\\u002fZ+6CCcW7OYpttjiBwLBdrbn5eFLa2vlJevmn5sq8jCMqw4YMHH+Z5tqbmSq3GqVJZamqujMcDrW2v+f29R44+XlF+4cqV30YRNBQePnLkX1IMk5nslmHYLD2kzACkrxdMSkJKy5TCdKQzrptznUptoShdXd318XigpeWlYHAIAPr6di1b+tWBgd1S\\u002fzFltlMmNp3xNFLxrU3qImvbb7cGW4f4GLvgzzfLLaZA0kXES6sMIwimInoe+9A1sXMksLySCgAAEDxpPhCCKPQdEig6zFhlPp7iyxIA+Ih8eYNsSFdq6NXDurq8Rf+6jQvFYsOB5h+9wPjG786UYfrdTL978tId3qHoWH8kGmQL5xlkqmSCIaGvnzMaUKMBHfOMt1isPyzEWVV5jn934srKqsHiY3FVSR6eY40cPs4HJ9TB5+vevef3yRIAaGt7ra3tNfFzd892SR4OD4vtVDIpjY+3vHi85cVxIwAAYNno5CukqelZmQQAIpGxI0cflwlZNvrue+O3S+J4syif7Dalh5SkzACkqRekSkJKy8nCdPFDKmMAONbwpGSQDM\\u002fHMQwfGBx\\u002f8y5ltlMmFtIYTyOmJaVdf3\\u002fff6wPAFACo3OUTvRsiAx4NWU2aVNdlOgFgyCE2ofVRdb4cEDSZlYBAIC68IQTAE2ZXTaQnwJFh9Ne5Smjq3I2fPtp32F51yQjRK6NKs4l8myeZ95Olod9icax54gvWS7DYUODQV6tRjZfopZ++RkAMA3Nx1l2bFySVYOF6TQIjqMqRLNsXuCdxG38LJ9MkIKCNWNjrcq9to+R6KDXuKh49IMWTE0W3rx6Ql8GAE70bhBMLk\\u002fH0MuHSu9Z7zvSF2ga0M\\u002fNN9YXxccSz857\\u002frWj+oeXFfSMjH7YCgiiKbYiGOp+u0FZBQCG+qKcS+q9B7t1tXnWs6vbf\\u002f+WtDsAQDExQnGENIGCw4xVnhonmyjKoadzTPHR8dYhezhfMHygGevslyuyo6eX83h5loPJwcaHPMyJn8yBLBssdsTDh8ICx3+Cfkh1lsk4HPMryi+MRr1Hj\\u002f1brjtjaP3162X3blz0+O2MN9z\\u002fzJ540rdr0efX5F6xGKVwAKj+4WUCy4d7Rg596Z\\u002fjhVPheuMonWMovv1sjMZHd7R1\\u002fOnd\\u002fGsTI31jH7U1\\u002fWBLwQ0r8q9bLrB8pG+s76nEwl4KKgAY3LJfP6+g+Pa1XJTt\\u002f+8e95tHRXnp3escm+ahJA4Adb++VmB5f2P\\u002fsW88pexQocpTY2qJYsZC4e6Rhf\\u002f4IgAIvBAd8HY\\u002fsn30Q6WnexIoTWJGXay9TyZXHmuXMBrRRfVkOCL84P4JHTHWGxp9bf9UWnBMp0GTFqueZZbPLAsfvTX\\u002f+glj558CEByr\\u002f9stRbeeReeaSJuOzjXmX7d8xStfQwn5sFRKEJLQrVuqXb1AJjc66YK5me9wVSpk7hzi9i9oZW\\u002fwUPkW49o6541nS5Ksmi7MqFMtqNauXQzKbwTNMstnA+RTdyFoSm3qElvfvz+KDnjiw4HogNezuwOlcFyvkpumQogz4b0N4QPNMnnIyxTXGzMu4BePC65h\\u002foVXIrLumLi8jOe9RAcWsmyw+HAUoUghxmTVvZtxaJt247Z7S65fLFecoPbr527cdq9ceoYx\\u002f8cXbtx2r\\u002fhnXVokV58aM5OB01qFWU4r0SEfH2NzNi8izRrCqDbMKyj9yvpgqyvLIS3MqFMtqNKdvUjWp1EbcGeFNhpklRfwIwiktgq\\u002f7RaNbMyJLrSpK\\u002fM0cwolt1mNYWFadbyjb\\u002fK0hlmmkYZfvN329532s8orvrhSrjsZSq5fPPBGY2ws2wfS08h0VWGWmYf1R5r+3\\u002fOFN6\\u002fKv3YZSuLx0YBnb2fPP3fI7dIgxBlURfExBtWokicShDyMpz+i0uPpZrGKqFVIjhPr6uZk0xq4YAS36IOHO09upjsXDKsW1xF59uAH++W6WaYJNhRjQ7Fwr1euOBlwDVl+64rhjzo\\u002flgZrWqpw5nPgC4\\u002fIRZ8KvPu7vPu75NLswAxaBEUBFbQr5vrfGn86wcb57f\\u002fs5lil1goAzCbUZETjDMimNUR7R6B3JMkwuwYL1aiAYTGDLttB\\u002f1k+JiyLCrN\\u002fjD3LLNMFO+zhghHgOdlEAoODqllrUxmIbY90KXSyFKY1yMiqwRKiMURNAYpqls0L7Tos0yIYmnt+Tc66Kk2xhdTTsbGQe0dH6992cBEGAHTltuV\\u002fuXb3nf+d\\u002f6MLURI79rM3MZqovW8dG4odvf8NX7Mro4far5+rK7cd+\\u002fmb1fesNc7N5WOst2Hw+J8+CPd5JwYyTvE1CyvvWNP68M7Of+8VJQIvaIrM1XefldKDcgAi8398IQjCsZ+9VXnHasfaClxNhvu9h77\\u002fyrI\\u002fX9v11H5xR5VfWl183aJjP3tzYGsTAMz97nmUVbvva89l4\\u002f8Uqbh9lWNNmSrPCAAr\\u002f3GjJH9r3YMCx0OmDAAASmAlNyzJ3VhN23UxT9j1Xkvbox9x0QlzrE3z80quW2yodeJqMu6P+ltczQ9siwz5k20USLcL2qZd898vdD9zsOXPHyTbL33oasqi+eC6f4hT1dMVl+zTHSOxmnO+uV5TaGr8zbvVX1lrnJPDRpih91pa\\u002f\\u002fph9h4IPV3+hRX21WWEgY66An2vHuv+74Hk61CVo6+4bZVpfh5l1kg\\u002fRhEbCb5\\u002fZaJTpuxf+TxRvpR4llfQihcanHIO0yGwXPCDAwiGiiebRCzE6e0UiiELNjkUfp0wzggvvx5Rq1G3e+Ki7pPIqsHio3H\\u002fq9vl0hMIHJ9\\u002f8dzokL\\u002frP\\u002fuYQNS0IL9w83wEQZoeeE80QHC06u6zOp\\u002fcV3RVfc3XzmFD8bZHdhZft7jqrrP23PNMNh60JZbFv7187GBf8++30XZd0TULF\\u002f780h23PJ5yNcXCKxZU3rGm7ZGPpNYKAASOX\\u002fyby8cO9qb0kDEAEcqqXfCTi9hgrO3vOxEctSwujLoCgbZhXWli3rOh1smG4oYap9hg6cqsI3t7svd\\u002fKri2tY7u6XasLS\\u002fYPL\\u002fhF29FBhONiHDi1SzlDAAC8390gXlhYc+WQ6HuMW2xpfCKBbpK+\\u002f6vb5EuyNyN1XP+Z2NkyN\\u002f9zMGoy0879eYF+bHRCQsYKZF+F9HhoOdQX866qta\\u002ffijtTpWjN87J6Xh8T+LFmvTFk5uMlMdI0mpLrQt\\u002feenQe60DbzYb5+QUbp5PWTSHf\\u002fCqZADpPWAqYumDV1E2bc+zhyKDPkNtTuXtq3Wl1qM\\u002f2SoWREls0a828yx\\u002f7OdvMf5o7sbqwisWtD68s\\u002feFCd\\u002fx6fxDFueJwqXU9PttClrxQpuWHE4GwVDNsrmCIJD5dtlMd1KFjfVH1Abi0OtpXyQEAKcD27SR7uxiZQ2WXocGJ74RnVWDle5dQondX35K+jywtUnl0NlXlyVfja5trX0vHUUwtObes4\\u002f8+PWhd1soi6b4mkWSgbIHTEX0v9rQ\\u002fMf3xU02FK+6+yxjbY7nyPjMWjHjBZfMrb5nbfs\\u002fdnU8nliKQAQlMNe2VgUPygGIGOfkdP5nX+vfEiORvS8cAQB\\u002fi9u6pBAAEAzVVzkG3mwy1DoBAMFRdYHJ\\u002f0Si0czG\\u002f6ngb3EDgK7cBgC+ZlewU75uv3IGHGvKbStLD\\u002f\\u002fgVdf2NtEgOhKsvmetbUWJe0cHAOBqsvres8P93l23PclFEx3Djn9NSLIyyrsY2NpU952NpgX5YwcSp1nO+moAGHgz8aRcubgogTTHSALXkG2P7OzZchgABt5oFDi+4LJ5ugpboHVYsknnofiaRZoi8957n\\u002fUc7geA\\u002ftcbI4O+ittXDbzZNLq3BwD0lQ51vvHQ918Z3dsNAP4Wl+OcSn2FjQ2NLzYA6f2LZDxPlC8lZe205DAVSKSpk\\u002fP447k2mSISYCg1zkR5hftBAAiGeLMJC4Un2OQ6sR980\\u002fTqm+FX3wpLbVamW0YAOPnfJQx0jFBWTfKDTLE\\u002fGXMHACDYMQoAcW8EUxHpHnZO9tD3yvhcDLF\\u002fq3LqJAkAcOF47vk1NV87t\\u002f2fu9v\\u002fOT7sJ5HRQzKTAxDpfvqATBJodWsKzQiO6sqsCAJDbx\\u002fXlVpREtMWmVECE9uRyaTzf1pRyIBjbTkXZdwftksGo\\u002ft6AMBcXyBumhcW4Bqq++kDUmt1sijvwrW9jYsyOeurJG3O+ipf01C41yNuKhdPZvIxSsb9wbiHwbeaAcCyMCsP9jVloe4xsbUS6X3xKAA4z64QN3EtCQB8\\u002fEQfQQBBetF6Iin9p2TyeaJ8KSlrpyuHMgSOA5633HKJ7uzxLggAoBhSt94R8sT19gzLSKhVaI4TraslkoVjHr67lzUa0ZPuYWX8XUJ9laPg0rmGGidlVmM0Ib6aAAgCJ16TF2+SxVY2ccaLLe4Jm4wekgdKeIYDANmK9\\u002fpqR+7GmnC\\u002ftyNVawWZPGQMAADYcDzujUibIv4WN4KjmnyTcU5OoGPE3+ICFNFX2FW5BjYUD\\u002fd7RbNs\\u002fJ9uFDKgyjNiNLHh3a9IBiK4PvF6gzrPAACh7kTzMQWUd8FFGPcH7Y615U0PvMfHOV2FTVNkTu5ZKBeXSHmMxhEg+R424goAAG3TjRuk96DONYwd7kuWsKEY44+qTixW4zncH\\u002feEy25ZxvgicX80d0M1bdcd\\u002f9MHyUUgvX+RjOdJ2ktJWYsgAML05DAVfCQWeG8vXV2c3EQgCHTsHfO5YvZSzURzOYEg\\u002f89\\u002fh1Yso5IbmNwc\\u002fLW3wsWFOIaB9HuFWTVYfCDMjnhQ9fjKyslYlxXX\\u002f\\u002fRif+tw53\\u002f2hbrHmGCs9IbFeRfWJdsoL6SdjQfZ6O9kcjZUD77dnHtebeUda44\\u002ftF2uVvSQTQAAqX+AJNzn5SKMptBkqHX6mlxclA12juprHJRZE2gbFk+zLP2fbhQygKBI3Btp+t14AyESdY23cQDjI2JTIOMuBt5sytlQbVte4trelrO+mme4oXfHX2TLWFwk5TEaB5lwKor9DmHid4aChxMrPiaLxiVchNl\\u002f3\\u002fOLf3fF0oeu5hk+3Oc59rM3Xdtak6wBFP1nc54oX0rK2unJYSqEOBPvHox3j6+0BQAcK\\u002fhcMVqLD3dlmGQTiQhHG5im40xy+N29zE3X6GLxCb+umlWDBQD+rR9OXv9UpOiqeoHl9399CxtOGGD0hK5dRk7dAwB0\\u002fGtPx+N7Iq5A2c3LAm3D4rB3lpxKAAIvBNqH1flGXblNHOb3Nw\\u002fpK+yElvIfTww0nor\\u002fk0J27WVPuN+nK7MO7+wQe16TEUfxNQUm77EJJ2X2ZNzF2P7e2EjIub7Ktb3NeXbFyO4uxh+VtBmLZwlt00XdiSFk2q4DgNhwcIJFGsL9XlWuIVmCaylCR0UGvJLEeW5l3Bv58IbHmEBs3C5rTvd5Ml05zB6Dg9p4d3nje8ON24bTDWPhOFx2sZrnoaYK\\u002f8kvx5tOjoNnXwqp1RO+JLIawwJBUNWV6zaknr6M4CgTikspJvS0eVHhRJMMnLoHABCfp7Y\\u002ftsv9YXvtN9YZapxyi\\u002fScYgD+lmFNkVlTaPI2DgGAt9GlK7ep8ozSANYp+s8exhcFAMqSoQc+Gde2VgRDCy+fL1ecOFtGD\\u002fRyEabwynqUxCYYZE3GXQi8MPh2s21ZsWl+Hu3Qyb5yMhbPEsdZ5dLnnA1VADC6PzHMr8zQe62aQpN5Qb4kKbh0HgC4to8PCZkXFkRdAYFLfWVm5HSfJ9OVw5SQhTlUuXwsLBbi\\u002fO6Y8kx3BJAdH8W2vBh+7sUJ96E5DuzayzVzqshkYVY9LITAMYMu3jU+3JjM6N4e84L86q+cPbKrk3boiq9eGB8Lkcas3pkUOXUP4whw9Cdbl\\u002f3pmgX3X7TrS09m+dD9FAPwt7ir7lzDBGKRAR8A+JuHNAVngyD4jycarIz+UQKjLBpcQ2oKTQCgKbbERkNsKB4bC40P4maB50g\\u002fH2Or7l7b\\u002ffQBPs4SOrrn+cNyo1S4tre63m+t\\u002fPIabYnVc7QfQRB1ntG+unTf17dEh4MAwAZjzX\\u002fcPue+dcv\\u002fdv3gm03R4SBl1VgWFjY98J44TpexChl3AQADW5uKr11Ucdsqxh8d2dV1IjrIsnhG+BhbcuMSlVPvbxs21jrzL5nr2t4WaBt\\u002fRKhA97MHnWdXLPjpxT3PHgoP+Iy1zvyL57q2tY7s7pJs+l45Nueb68997Q4AEHghNhpyvdfS+vDOLHs0Gc+TU2RacpiSdL9LyES5\\u002fka\\u002fwTlhjEyGAMKqFdSJHtb4I51gSMhx4LJHh9k1WCqKLM7nvIGUg+5d\\u002f91P6Kic9VX5F9dFh\\u002fxdzxwMdo4uffAqmZkCp+4hGS7CHPzuy8v\\u002fcu2C+y\\u002fae++z2ZwrpxiAv8VN6OnhjzrFzWDnqMDzIIA04p7Rv31N2bwfbJI2q+5cI3449vO3Bt4YX488I1FX4NAPXi2\\u002fdUX1V84GQQh2jWbZYIEAR370esHmgbwL5jjPreQZLuoOuHd2MoHxm7L+V49F3f7iaxeV3LAEJTHGF\\u002fU2DkoGmauQxS6CnaOBtmFjXU7vi0fkBy6L4hkRBGH\\u002fN7ZU3bM2\\u002f+I6Lsr0Pn+45a8fyo3SwMfYvV99rvwLy\\u002fMunEMaVBGXv\\u002fWRnV1P7pcM8i6cU3Xnmo7H9wQ7RwVOEJ8UF1+\\u002fmA3H2x9L\\u002fSBIRsbz5FSZjhymY8q\\u002fSyj2sAaHuIryCc2RTovkOrGDR2Ky3\\u002f7KDILjhkvO1Z61WK6YDghaV7PqVrk0O\\u002fKr1y3c9B1aa5UrToHieRdPr0MFTDm1BbUbZcKTCuATmgFSZShdeIVcmh5aa5GLTp4531w\\u002f+QHZdIHg6Lo37qr88mqZfNmfr1n828tlwk8fmEmvW7dUVVcmVwDQWjzj9B27Dfv1T40\\u002f\\u002fv6EIUK9Dv3u142fu0ZrNo2PXGUxhoWh6iV1rHsUt5nkqo+bvuZ3gmNZDUBkT9eRl6PBEbl0BjmpAD6hGYhHfB0HnpNL00DQupzyRH\\u002ftjAUlMIzCpeEnEVxLqfOMJztF4BMHcuJ3CTGjTqYyOKiLv11Ve7ZNuc0SpzX09XNJD13BYcMCQUGjRq+6VCsJM98SIoBEmzs4j5\\u002fIscl1p0bZoqsxgmJjiWGmwroLaI0Zw8nuo6+F\\u002fUMyCa212grrOY6h1MbOg8+H\\u002fYkHcMlM9OCqWHItguEEpe04uCXidwFAzapbg55eWmPxj3TEowF70WKeZym1qbdxq8\\u002fdBgC5lWudpSuadz4W9g+ZcmonGAy3ly++BkEQo6NqbKCxff\\u002fTsr2X1l\\u002fOMhGVzh6P+AlK3bL73wCILAZb0SJrwQKeY71Dza7O3QCgt5ZULL1eikEpAHcbyOs4JIthkoE8CckZcHXunryL5AAAQG4wMQmewcbJB2XiLvaU1m\\u002fGSTWKEVI7WFC7gVKbaY352Pt\\u002fnhTwkCxFGkNufs16tcFZvuRaz0DDaP\\u002fRkgWbCUqD4mR\\u002f0zuBse6Jtf\\u002fY4CLMyN7u4msW8XEu0D6Ckpgm35h3UR1GE93PHJRbf7oQOD74wQG5FABBAEGRkCduyqUVBt0BIBoVjjYwRxsmzEnu7mXHvBzHAnrSj3nEdi+59TtldJbiskVXAYDBVl6z6ladpbhkwWYAoLXW6pWfFw2SJebcuoql1wGA1pRfsfR6yU\\u002flshvF+5fJHkTMeXX5NevFz\\u002fXnfUu62THl1FatuBkA1Hpn5bIbJfvyJdeq9c7JBpTaWL3qCwBQULvBkj\\u002fpOQtA2cIr1Iac6pWfpzUW2U2uGANBaeaec09yGlPGkC4ASFNHKQPpDCApCckZgFS7gKQAJhvIkpDyoCTvwpxbVzjnfACgNebkeDCcqlt7B0wKeHKKAEBnLiqt33xiC1mw8T6CGv\\u002fKzZ7TeksIALiGqvzy6tX\\u002fvnn91rvWv3X3mic\\u002fX\\u002fe\\u002f52lLT+\\u002fN9RkCXVmkmlOmO2fCosQohszf5FzzucINd5Up97DycrFFCyY8DZQgiAkFM\\u002fewAAC3mVGaxG3m8MGmkxz+SgutsUSDwwAQCQ4DgEpn11tLxGtG7A1NlsRCHgCIBEcotSnJUwKZPUbQpfWb2XiEVOkj\\u002fsTTOp5jkm92Iv4hAGCZCIanfnUg2SAW9gHPly26mqA0Q+0fyU0BAICNh3mOYeOJaXKyGCiNJewfkj21UI5Bpp2cExkZkyDLAEzaxWQUkqCzFE8+KMm7UOls4YALAKKhMVpjTnhMQhZwyhRNRGjf\\u002f2zZ4qu5eLjz8Its\\u002fCTuthp+9XbDr96WS6cPNhRr+cuHLX\\u002f5UK74DCD+kGq0aXylPQDgOaHxveGFF+dEg1HlHpbPz195mbp+Afn3x4KSsKqcqJ9LVVUQP\\u002fqlRxJm1WCxIx7duuV8ODpdrRUAxMJjelspAIjncSTgDnn72\\u002fb9VzKQScy5deL3tkprjYXGJDMJmb2tcGE0ONrb+KazbCVJ60WhbB6w8rRgkBsICIZ3Hnqe57J9mc6cU5scQyw0ptY7ABBImt6pHINMOzlLMjImYfLuJktkKCdh8kFJto\\u002f4XVpLEQDQGnM0i6NGUNrJKeJ5FsXGv34Do13NOx51lq10lCzrP75Nkp8sT\\u002f7F+dCjvg\\u002f3pG7y1q5Uvb8ztSojp89zMhefp6mtJH\\u002fx4PjF\\u002fHEiCJhOQ1cXy1ZrYKLc7mf6kiUpYVk4fDS+agWV\\u002fEDQ5eZefSt8uGHCDWFWDRZm0JIFOZH07xJOAf9Ip714aeXyz8VCY4LAB0a7jI7KquU3AYBnqMndtVcmYeMRgtZWLL2OpPUdB58HAILW5Vev05oLCuec73Udd3ftTbb3uducZSsptZHnWKnLowxOqgtqN+otxVjtRq\\u002freDyamA8tQtJ6AKF88TUoiof9Qz0NbyRrU+If6UyOgYkF3V17albfyrMxn7ttqEPeTVMOAABkOfEMNcsyIDM42STIAhBH2ZKRJSHo6ZMdFBljg01GZ1Xl8s+hKN599BW5elKN3F17J6co4neRKkPV8pvc3fuCY93lS67lmBhGUF2HX5a7mz5+\\u002fG3L2kszX2lTYLo8v7w19PLWrKYZzgCn+LuEGAZ2O9bZxUmtFY4j569T87xQU0Um97CyIjGtYfVCuWIGMefWTZ4BMJMU1G402MoBAEHQuefcLVd\\u002fNpAlYcoHhaB1Nau\\u002fKJfOCD\\u002f4hnnHKwVPP5yz7YX81UtVAPDnX9rfeTb\\u002fo9cKfvQtCwDUVZNPPOQMdpa\\u002f\\u002fHjuy4\\u002fniitoymxSMl2ev3Ov+Z1n89\\u002fdkv\\u002f33zpEydqVqveez3\\u002f7mbydrxZoNSgA3Pl54+43Cn723fEBsttuNLzzbP57z+eLfpYvol94LPfZR3K2v5T\\u002fxENOcWRpsh9ZqSmDWwxUWb5cegoQBJLrxACgqnxKLyehNIUZ5M8sZ5IpXxvThcaYW7PqC+WLr6leeYslb65c\\u002fdlAloQpHBSjo7Jy+efqzr7L6KiS604\\u002fVWXk7jcKUBQwDBo\\u002fLBKbFZJAAADDoPtAiXhh4zjSsbckueBkGxnT6Lnxw6L6OgogsdowhkHH3pI8p\\u002fxm6IYrdFKDVVZMvLslXyz+1tN5SxbQyxfRHXtLKBIBgG0v5M+pIif7mVxKUp0s6X6XMEuWLSHXrqZuul7+qzkAgOMT0i3PQkowo169sIZxjXI++U3KjDE2cGxs4JhcOoOEvANNOx6VSz9jTE7CyR4Ur6vF62qRS2eKshLiWFNcvO9oPB4HAJpCHvg\\u002fm1aNRmOCUY9iGMJO+sWEbGym0fMVnx+8705TSSHx6z97Xns7lOvARz1c\\u002fxArK5tMTSVZXkK8+d88cVOrRSMR\\u002ftCxaCwuAMDwCKfTopP9TC4lqU4W8XcJ063\\u002flRGvT8h1ou9\\u002fGEu+JbzyYs3kW8IsGiwMVdWVo1o1Fp0wKW6WWT5xdHYzdTWk+DVeWUYCwDmr1WYjdvVtg2Yjds1liXsInhdUNCINAKe0kTGNntu7mFu\\u002f5jIbsWPbi3LndQwNc1Yz5rRjQ24OIPUwclNLvKePPf+6fo4DgkA4TlhaTyevygIAk\\u002f1MLjWhwMmAGXWqeRWYVuV7fWeK+DLh8fC33aJJ\\u002fql6BIHtH0WCIeFo08S5uMkbqeF4xjXKjvlwmzl1tmaZ5RNCU2v8rW3hD18u6OphOroYANh7MPq\\u002f95pfeSJ30MUdaYyJZjwPz7wU2PV6YXcvc9UXB1PayJguzygK7zyXH48LCAp\\u002f+ocXABhGuP0brqf\\u002fnhOPCTiBbL55IBASHn3AUV1B6rVoYR7+49+MHW+P\\u002f+1x31tP53OcgKLIxZ9LMfg92U97FyMrFY5M8epO97uEWRII8s88H169gpYaGIYRAOCXPzS\\u002f+mb4eBtzctMTiDw7XVcxY6\\u002fmPPWM+U9\\u002fNcqlZzwvv2b5whdPel2XTwFn+PFSa5DOXueVV6nkis8qyOSBolOGyLEaNq3Sb1iu37BMrssCpwP7\\u002fOc0Z6+ZMBOQIpHvfNV449UTJglnFTrT744ea2WHT\\u002fLhYiZMJrSqOosu3meVMy0\\u002fZ1o8nzBQlLBYEILEdHoAwLQ6TKtDKRrXGwAAJSmEIEhnDl1UguC4KEQIEjcYERzHTSbJA6pSETa7ZINSFK7XiypAEEkuQtod4w5P2GjrF+F6vWQzLYi\\u002fS8iHI\\u002fyUBo7EH6Gw2ydMuVo4n9q1L0bgExrYj\\u002fP8u+xyurwc\\u002f+53\\u002fHLFJ5OLLxiVi06NMy0\\u002fZ1o8nyz0i5bG+nv1S2r4WCzc3KSpm0tYrAiCxoddwYP7NXPq2EAAU6u5cMh41jm4yTz6yovaBQtjA310cYnAsqzHI3rggkEqL187d75oY1i1mguFEQyNdnWCIEhl+VgUADCDQRLGBweiXR0gCLjBoK6pCx7az8dS395OgXS\\u002fS5glwaDwmz\\u002fIzyuvj8t14u99GEm+H8yqh3WaWHNW6ndBZhE50\\u002fJzpsWTLVMclplmBI7FTWaB4zG1WuBYLhBgRkYQkkBVaoHjAEVVpWWMZ4wwWVifN9zUwMdjQjwW6+1hht2kM0fygBuMpN3B+v2iDevxMKMjAICbzIAgUllxp+zoyLjDaCRh4\\u002fEwoyMImfrdvSmAYKh25XzNinnGy8+V606BphZmz4FYJDp9x++ZLeYv36n5yle1ew7Ym1odj\\u002fzD5HQmOnUVFXhnr\\u002fPc9RNO8Uf\\u002faXpmixkA\\u002fvKw8cARe2evM\\u002fkPO9Hbe+oZ8x8eMt59j\\u002fajvbbGFscLL1sWLxlP7uo15PMvWZrbHPsP2e\\u002f\\u002fqV6jHZ+m8dQz5rvv0d55t+ajPSkKKkQLAEcaHatWk1ddrdr2oa2lw7HtA1tBwbg23U5JEmnrHK\\u002fC5KGc6hr8X\\u002f82NbY4jjQ6fvcHg8k84RtCpUK+\\u002fR3d+ztsLR2Og0ftTz9nzsnFIFN+AGDlKvKZLeYjjY6GZsfWt6233Z7V2JlCBk7f8YL02VM+XpA+P5Dep8j5m+h337ceb3e8\\u002fJpl+Qqyo2fCGJbyQTmNiPc2SfO4tPMXjm+KH5L\\u002fS0ibyXdHMhtJlbKs+P80jF4BAIJhmEkPAMSk3yXMHrUaEaekSeQ4sNtu0p27ZvoGH5\\u002fZYj541P6nvxpXrSbP30R\\u002f+JFty4vj82Wf2WL+69+N0qbJhLZ2Oq+\\u002fUQ0AOblYfj727vvWBx405udj4p9k+dQz5iONjudfspy7nhKvzANH7FotAgArV5FtXc6f\\u002f9KwfAV5wUX0tg9sTz9nxk4UfeoZ84Ej9pQFIVO0RxodDz9qevw\\u002f5nPXU0uWknfePT6HTXmnAEDTiMWKbnnRImuwCguxo02Ovz9qWrWa3LCRemeb9ennzJIWw+C\\u002fz5oPN9hvvU2zeAl57nrq29\\u002fRiTtVzo\\u002fNhja3OX74Y\\u002f3CRcTKVeRtX9JcdXVWB1U5A6fjeIFi9pSPl0J+FHwCQHUN3t7tfOBB4\\u002fIV5OVXqrbvtLV3jzdYygdllqmBGbSWWy4xX3++XJEdOU7s8zdqvnp34viK6LTo\\u002f9wrH3Q\\u002fJZ7ZYt5\\u002fyE6SiTNs7dlUZ69T+pK8\\u002fEpVW6fTak2EcOPn1MfbHXr9eERb37H+5GcpBv+eesbc1OqQvvdq5xCdvc6Vq0gAeGaLOfn0qqrGO3udmy5MzNBVKAiZoj3S6Hj3fWtyL0ZCeacSkx+W\\u002ffyXho\\u002f22qQ9Ll5CdvY6V61J7HHjeXRnr\\u002fOcc9PeZ6XLj+hnCuPfyhk4HccLFLOnXFAhPwo+AeCXvzHs3G2TTv2LL6E7k54SKh+U0wGCJF2F0weCoNKfXDfjICRBFuXoz1sh799lh06H3nun7r579VdcppaEVeXEtZu1\\u002f+9bpiTDUx7Damxk4\\u002fHETeauj+IAUFOTuJBeeyUaDPGbr0icKJdupt95K+b3ZzUmd+wo4xlLWPb3cQBgs6EEgdQvJLe9Nz5SeLyZHRrkVp04xSFNQUmrEC0AvL8tzk2aTpzNTtOxfCW5a2dc2uORw4wgwJw5iXejlq8gAwHhvXdPeuDzyGGms4N9\\u002fD\\u002fmO+7S2O0ndwQVMjDtxwuyyF66gpA+Pxl91tbiu3clJp0DwL59E1bXUD4op4McYx1N6DCUxFAcQRAUwVSkAcdoDWUBABwlKUKHIhhN6EQVAKS00dJWo6ZAtAQACtc4DbXifwAQjVEE01BmFMFEM7EggiBq0iS6FctODRRL2xyhPBPvHvRv\\u002fWhq8zQDAf73fwo88JD\\u002fuRfCklBcreHJ54JJhqfcYPm84yd0LCZEo4LlxFd0NCq8sCV6zbUqAMjNwxYtJp97LttVNUZHx92KGUBQRKtDMAw8ngkZGRvjzUljECkLShKFaGFiWYlsdpoOkwm57HJV54lBn+PtDgQBhyNR0GRC3K6pvMoQjwuXXDj65L\\u002fDX\\u002fiiZudu+28fOIlRGIUMTPvxgiyyl64gpM9PRp8WK+r1jmtlba7yQTkd0ITOpq\\u002fIMdYa1QUkpnEYqnW0EwRer8oBgELrUru+stSxpsyxNsdYp6OdAJDSRk2aMQQvsa0oc6zFMSrKBAAE8T8AiMZO4xyrrkIAQTQrtq2w6ysLzIsxjAQAqWxyeFlCq5ANF6hz83GLFQOA0gpiwWKSViHi5gWXqe1OTNwkSSQnDwMAkkTsScPE6cBxuHKz+vJL1d\\u002f+uj5Z7vXzgSDf0T2hE3HStxUydPrx5oCiEJpGhofHz48n\\u002fxO++fPq+oXEkqWkZ4xP\\u002flZUJuXE1oCf51gwmyc08mYzevDA+FdoyoISytGmJJudpsPnEz54P\\u002fqnhyasATJ24hL1BwRrUu\\u002fvpAgGhd\\u002f9Jvjg74MXXaL67vd1f\\u002fwTdsO1Y3KjVChnYHqPF2SRvXQFIX1+MvocG+UNhnGtyTjBifJBOU3gGM2wEZO2KBgdDsZG7PrKUGxEQ1sRBI0yvhgTRBHUHx6IMn6bvsLtP57ShuVjOtoRYfyBqJvj4hrKoqFtWtqmoW0IglKETkNbw7ExQeAEgRfNcIyKMUENZVWTxmDELZWVx5cFF1ymVqmQ\\u002fEJs3fmqn37fa3diAi8UleBXXKf56fe9dgd21jq6pYm5aLP6wN54LCYM9kdu\\u002fpIutwD79Y99oaBSesVfzQkE+YHB8buWU3iXUJG58wiSRMQO9oqVJAA0NY5fyceb2YMHmIsvUS1cRLz0YlR2wxUJCypVmi5mKlgW9uyJn30O9dCDibOtqhp35mDirU02KEebklPZ6c4d8QULiOam1C8W7Nkdv+lm9arV5I4PU7vKmB+WhRe2RMxm9JvfznZgUjkD03u84NSyly4\\u002fGX02NbLLV5Doiff16hdOuN1TPiingw73DgQQAQTxf4wNBiNuAYS2oW0AMOA5CgCjwU5RG4i4ACAQcU22AQB\\u002feFDyE4qNilrxv7iZa5oHAASmGvAcEc0SzhFEACFZeLJwHOj06NyFlDjPoLeLXbaKKq1ApGkHegM6t56MRIXONubsDar3tkaGBtnW40wknCHRDCsIAly1Wd3ZNX7CIQhs\\u002fygyMMRVlZ\\u002fsu4SKUCTy578ZH30kpNWgP\\u002fihbt\\u002fe+IH9E5qAJ\\u002f8d\\u002fsrXtLm52Pf\\u002f158sB4BDB5nNV9DnnU8PDHB6A7Ljg8wn8W9+FXjqGcvPf2V4YUvEZEa\\u002f\\u002fT+6I4eZ11+Pyu3SkDHalEx5p3\\u002f8ffDl1y1\\u002fedj0nyfCfj+fm4udu466\\u002f0cBj4cHgK2vR48cZh78k\\u002fF3vw42NjJaLbp0GfnPf4Tc7sQBTpefjefRixYTe\\u002fbER4Z5pxO79nrV7l2ZUyeSMQPTe7zgFLKnkB9ln48+Et58heo3vzM89WTE6UTvvleb\\u002fBqw8kE5TYhthNRSpGwypmAzmQHPEelzspm0DKxCWWVefDqEoiAIiTv3\\u002fl72hadZafORhwLJ2tZmBgBefjYsfW0oI850T\\u002f7NVIYRWA5+\\u002f1NLOCJ85\\u002f7xu4dTbbBefy06OMj9\\u002fg9GjRbZ8UH8u9\\u002fxyQxeeTn6\\u002fR\\u002fq29vZo0flTcMDvw1aregvfq1HUaSjnd3xQeaZ4vv3MTdeN\\u002fat\\u002f9H98wlTKCi8uTX2s58EJo+UpyNjtCmZ8k77+rjNl4x+81u6Bx40qFSIy8Xv+CAWPfGNxLJww7Vj3\\u002fim7o67NHY75vfzR48yTFKS0uXH5eLmL1BfdbVKp0dHhrlt78V++YsJA5MKZMzA9B4vOIXsKeRH2WdjA3PPXd5vfkt34cX08Wb2f77p+9VvDJJb5YMyiwKypkdhU\\u002fqcTWsFaWa6B4P8o\\u002f8OnLVy\\u002fI3oU+WZLeY\\u002fPGSUSydCEMjhBvsdd2nkihknm2hPhaeeMf\\u002fpL0a59EwimwzMwPGaf8F9+XM3yqVJoBhRf8l39fZSueLkwQh6yZX\\u002ft\\u002fy6Xy+\\u002f7tc6W4lcPbNMY71mkozH6zRxWqY1pHvMKXHBhZRKhTz7dObnTQiCAmRwl42NAhmjPRWsVjTjEP7HTsYMZH+8Tjc8n+IR4cnCMdG9z37v4Es\\u002fkSs+PqalXqcJnFSheOb5OjNDymkNp3pLmA6tFikrx51O7H+\\u002fr3\\u002fiX5HJVzKCoKTWxEQCGEkzYT+Kk8aC2qC7GwQ+Hk7cpyjboDiJU+p4yJd4rPtxcOlldH8\\u002fz\\u002fPCpgvp0jL8B9+Td2s\\u002fKWQ8XjMJzzHT28QIwsdZHYlpr9e0U7xo81jvkbG+Y3LFx4EvwAsChCaO2Z+uBquwCH\\u002f8P2ZBEF5\\u002fLfaLnwXkagBLxZLwSJ8hv4ZnY97eJlNhHYoT9pqVOKXp3fMSx0Qz2pjLFoZH++Ihr9z1DHLTLZrqGhxFobODu\\u002fdu784dmcehtagRR8gg76UQVYj3kYgKAFghTiJUVAijgFGoKsZHSIRiIE4gVJQP4QhJIaoIH0y2ifBByZuXc4s2jBAHgLgQQQETjWV7T0fG4zXLpx8EMTgrxnrHh+0\\u002fXkqKCJ0GKS7EX3kzLD02OaUG66rLx0fvZTQ2MPNqXXJpEgLHUjqzIPAYqRZ4VhB4jFTFw\\u002f6gu5tjE9N\\u002flG14JhYa7pnoVQmFaKfMFZdlNfCcDIWqAQQAQY9ZQrzPQRSpUR0KGIpgx6N7bHg+J3C5hIlGtUHO6+XcUQiJxk6imEa1ko3YYJ3wBqINjpBqVDfAtNvxAtGYFcbHzhUykO54mQvmWYvqOTZmKZjXc\\u002fg1jKBza8\\u002fxDjS17ngCAGidNb9uo95ehtMaJux3t+\\u002fqb3xXKqvS2wrmbdI7yjGcikf8Qy0fDja\\u002fL6pQjChfcb0pb47Ac97B5s59W8SvKABYfMX9OEkDIMe3P+rpb5S8zb\\u002fgvoHm9w2OclNe3eRS1qL6vDnrKJ01HvK623cNNm\\u002fPpleVrpRCvXBStfiK+w+8+H8Fc88zF8wFQIZaPug98gZkinBq9cqbs95etoxU6REUAwA2Hmne9nBwVOm0n3\\u002fhtwea3jXmVJny5nBMzNW2s+\\u002foWwCCxpQ39\\u002fyvHXn9t2HvgGipNubO2\\u002fT1o1sfCI31zVl\\u002fl9qUi+FU5ZpbRG1\\u002fw9tivUDxeDmr1jgrV1NqYyzkGWh6z92+W5Qr1ysbunuZm67RsZyQ\\u002fJD3lBqsU2G0fT+CoILAA4KAIIy07hE\\u002fJP5nYTPavn+iy08GYT5gwXKiSFiDGhFAY3wYAChE5WdHOYEN8j47XhjhgwHOgyOEjxsGAApRa1BjhA8EOI9k42Z7JG8Ag6JNgB8DHjDAInxINJbtfQoY82o69zwb8bsK518w3LW\\u002f+b2Ha9ffqTHlhjwDHBOLR3ytO59gogGdraR06VUhz4B3sBkASJV+zvq7Q96Blg\\u002f+GY\\u002f41AYnExufq+msXD3YtO3YW3+g1MbyFdfn163vPviKqNr33PdRnFx61U8lY4mSRZsHm9+fXMqYU1Wy5MrOvc8Gx3pVenvp0qsQFOtveEdefiIKpRTqJVK56nMj3QcGmt4jaK2Q9CQsXYQwpXpZixflVK9teOvBSGDYUb6iqP7iQ6\\u002f8jI1l7jUXL7y0+9ArfUe3aq3FJUuuiIU8wx17Q57+4Ei3o3x5574topmtdEnENxQa6wOApm0Poxi++PIft+58wtvfBAA8P37ypDtejopVBXPP69z3fGisR2spKl60GUExV+tOsVS6emVJeQkRiQhVFROm0X1sDRZIIwvSE0vxw8QHmNnYfLKI8IF+PiiA0BY7AABiuwMAiXmD3FiQ8wgnJgeKqhDvE42TbZK9JduIeLnhKU8RlCFw7HDnPlJtLJx\\u002fobvto5BnIB72UhpzyDPARAM9h14VzaKBEWflGo05X7yw7eUrBBBatj8m9pejgZFkn8HR3t6jWwEg4nONdB\\u002fUWouTtZCmcxQc60tZKq9uw1DrjpHugwAQDYy42nY5yldkbLAUSinUS8Tnahtq2QEAEb9bEkL6CBOcZL101qLQWK+4i5GuAyWLL1fpHYHhzqSiqfENtbrbdgFAxD+st5U6K1YOd+wFgKHWnSWLL+859CrHxhAEtRbVDzZvE4vwbFwMT+BY6RZHIt3xyq9bP9D03kjXfgCI+IcprTm\\u002fboPUYKWrV5aIg+4Hjkx4uefjbLA+s6RsRyShwuRAmc3kz8mkk58s4le6+Nv0TDQEADzHIRgOABhO5VSfZcqrJTUmBEExgvYOJG52NKa80Gjv5FNfJDTWK31m42GcoJOUaUlXSm3I0VmL82rPlbQAgKCYoPg8TqGUQr1EgqPdyZsS6SJUJl2psM9lLpxHqY2xsNeUN4fnmKh\\u002fWLJUIOIfv7sPewfMBXPFz6M9h4rqL7YULXC37zbm1uCUerhr\\u002fEtOgZQREpSWoHXB0XFVcLQ3v24jqdLHI\\u002f50pbKHYYVwRGhpn9DKzzZYs2RgQuM4sY9QtvxalcHRseeZ0FgfzzFzz\\u002f9aslaaXT2ZdA2ZMqlLIQiGk71H3hju3JssVm6tlEsp1wtONN+TSR1hJtKVcrd9pLMVL7jkf7l4NBb2tnzwTyYWlBulAkGSeyXI+DR3nnO373aUr3C377aVLPINtTCRrJ5rp4wQTbkYU1JyUpbKEoJAvn+f6Vhz3D3Mvfne+CSb1LucZZZsMOZW9xx6VbxJQVGc1lokVcQ3ZCtdgmJEumt72hCEkHdAbXBKs2GyQrGUQr1mGK25oOndv\\u002frd7XKFIiqDXfqsNuVGg+P34662nbm15+hsJca82vaPnpLkkPiCESDr1bViYR8TDWothb6hFlGitRTGw142Pg2T+BhGePBhv0aN+Ce+OJ1tcMmsXqeSPtfOJ3VJa7zJMJrRm+80qDVpDdKh7DYb1Bpk7sK0y2gQExdjTUldPWWcuGxLNqUkTr0KKTn1ek0jseCowVlJqvQqva1sxXXikywRV+tOFCMqV9+ksxbTOqvBWWnOr0sqqoToJ\\u002ft16fqOvmkunJdXt0FlcKqNOdaiemvxomSDlA4VSinU61RIGYYClMZE6yzi7dVJYXBUOCpWqfQ2W+kSS9ECaVAJAOJhn6e\\u002fsXjhpTzLePqPJRUCgeeigVFbySJaZ6N1VkKlT9amQuhveDu35mxr8SKV3mYtXpRTdVbf0TflVlNFq0EWzqO+dPOEMFL0sCw2TG9EMQw6WhkMReYsIIf6uaEBtqAY1xuxpiOx+Yup7nYGRRH3EKtSobGYAABWO6ZSIyiKdHcwAFA1h\\u002fSMce5BLh4TVGokHAJJ6BnhJZ9qDUKr0LxCvOFwzGxJeEjndu5CShCgu50hKUSjQ+NRQeahag7pHuRGhzmNFi2pILweLjkSABCrMNTPfu5L+rdfDR87GAOA8hoyHhN6OiZ0BOrqqbkLKZ+HCwUEMdpYTLj5jkQpghhPS7IHKUUUjUhVkAKQpUgyrqhJGFhsmFgvv4+TKsVzUDNv2uo1vbTv+m\\u002fJ0isXXPK\\u002fbDQ40LQt+f4iFvY2vP1QwbxN1Wd\\u002fEcWIeNg3cGJ8V4GCeefnVK9FMQIAKtfcIvBcxO868vpv5XYT8fQ3HN\\u002f+j\\u002fw56\\u002fNq1wk8Fw24+xvfE1XFizbby5aJNy+16+4QeC4w0tX4zp+VSynUa2pMrV7xaCDicy246NsAIAh8LDjac\\u002fi1sd6jcrtJDB7frreXFtVfxLPxwcb3hjv2JWuHWj6sPffLrraP+EmvdLbvfqp40eXzNn2DjYd6D78+3Dmh4GSGWj4UBD5\\u002f7kZxWkPP4dfcHXvkRlMl5aB7ii\\u002fk+35sxlAY6GU7WpjW5nhBMXHJNdqXnw7WzCObj8b37Yze+S1j87H4irWqh37hve5W3fP\\u002fCQ72sXd809jSGF+xVvXA\\u002fZ4161U8D\\u002fVLqb\\u002f8xrtps\\u002fbNl0Kjw9ymzRpR+OwTQYMRveQa7f\\u002f76khdPXXhFZp3Xgvv\\u002fyj65fsSHlK6PXYw5hnjz96o+vl3x75wj6HxSHzZavqhX3hLKgjRQ2Ep4RpgF6+kH3vIF4sKJRXE6nXqvi5GiqS8mhSr0NPJ3v41w3\\u002f\\u002fEWhpjC87S1VSjrc2Mfs\\u002fGp8hcum1Wq+HP3eT+u8PeGMxQczAQ7\\u002fwfOnrRrGUPQcThf\\u002fvqyOSBwQBKUUEgXzxq4bn\\u002fxNcsISSArjuVr2Uouq5iWBsDozjxg3Eer33RvjcTWoxLZuv17kGp6des3yCQFBs7nlf9Q40uTv28ByDorilcH5e3YZ9z34\\u002fecLBZOZf+O2Rrv39DW\\u002fLFSfQWgrrNn6l4a0HAyOpHx2cIaxYQtMUUlyI\\u002f\\u002fOpgDR1JEXvdGyY6+lkd38Q1ejQmrlURQ2h06M188jXngvt3REVBEAQ5N3Xwo1H4rQKGTmxJiSGJYQ6A1pVR5qtWH8PS5xYORsAJGHtXFL0Kcr3fBjdtzMqCOMeUroddnH1S6iWRiYWFTAM2fFOpPlo3JGLSR7yCvAd70aO7o8VlhDRiNB+nEneKUEiUhVcA6xnlG9pjAPAwV1RBJHfZBWWEu9vDR\\u002fZHwMAKQPuQU4qJQmTPSSnKB4XxCokB5CcIsm4cs4EA7FeZismpSWvcNrq9akBRTAVrteSFhOdBwAYQpCYWtokUEpDmGU2ohABRE0YJQ8TnJ5hqI25amNOX8Pb0cBIPOyLBkc9A80oRuCUWm56kliK6iM+1xneWgGA18ehKJzc7xLmFeIYhgDAzvcit9xluOE2PY4jAImJUPlF+LzF1MZLNBotKgkB4P03IwYTCggYjOi8RdT5l2lUakQS6gyo6FOET3qUpOAWxxGjGWMZgSQRnheu\\u002fYJu3mKqt5OVPOzdGf383YaFy2nxihWRdjo6zCVXAcdh8\\u002fVaACirJgRByC2YcGu8b2f0jvuMi1fQkJQBAJBKJQslD8n+i8sIsQp7PohKAUBSiiTjD98Zj1Cql2uQldIyjfX61ODQVOgpO4VpUQQDAA1pKjetlDYFEPSUQ2YjCvP0dThKSh4mej2ziIVGeY7JqVxN0DqC1urtZSWLLw+N9U1hSEsExUlKazHn1znKlyv0v84cmluZd7ZHunqUupMpkJ5dIghkP\\u002fiIYil+A00SpnkeqsQ93zGRFHLptdrqOvKubxtTrocvuaVVSFEpccNtepgYSXIVpPFpip7kaGKEyZ+lUslCyUPKFKVMBSQZSwYzUK9PB3rKXm5aoSIM+fq5AFBkWFhlWSttaghzhXm1gXIm24jCPF2dQ1OBACJ6kLk90zA4K+s23LPkyp8su+YX9Zf8b8mSKwhaKzeaxPwLv503Z71cCqCzlSy56ieLLv9hft0Gue6MJD8XX1L\\u002fib1FyMnDL79Bt3ytCgDmL85QjfmLqUuu1qrUn7Ar9tNar9MBAoj0XyaUbaYUTpbPcqahViG33aS77orMbfQss8wyy8eM3Yb9\\u002fqeWn33fnCxMda8yyyyzfFpAk8aLPy7EGLKJBMMRyUxcIrm3n508SDKj5M7bMPeyb8ulZyoYQS+89idLbvrNkpt+o7WXyNVTBcWI+Vd8T+colStOJ2ds5mcyGzO5rxlGpcVMDpLWYBiO4CSaW64uX6hfudlutJMAQNKowUbSGsxoJ0VLACBVqDmHIlWowUYCAE4gjmKVWo+bcyhKhemtBADorYT0BwA4iZocpFhQakpIFZpsI26K+wKApRdaSRW6+gqH0U6KKmnXlBpTaTFKhYlyk4NcdrEt4TQVJz\\u002f6PbPgpIrnOZ7NvDDeaYJjogee+i6pMc2\\u002f4ntyXSaUgkcQOPHm2pmJUvDTznRnQyn4Ke1LyeEZw9nXOsNBDgTwj8QbdnqNDlLgwewkF6wz73ppeOVmeyzMOYtVo4MxnYnwjzG7XhxecZmtuyG4YJ05FuaObPPMXWvSGnAmLnQdC2iN+FlXO574UceiDRZbIc3GBZxEPnpxeP65Zmse1d8SbjvoHxtMvC3oLFaddbWjvyVsK6Q\\u002fenEYQeCsqx1edzzoZXe9NEypsKUX2Ix2YsE6c9\\u002fx8PKLrU\\u002f8qGPlZfbuhuDi8y0sIwy2hUM+VtydkDxvYBJn+i1h4dLLDTmVcunMk2ZhEGUUgufZ+OHn\\u002fi843C1XnDEoBD\\u002ftTHs2FIKf2r4UHJ45YCSq0eOdRwL2IlU8wru7o7Z8arQ\\u002f5u6OUiqMYwWNAR8RN9WoRo9zLB8LcZ1HgqKKZXieFVhGiIa4ziPBisX6eIQHAO8w4+6JRgKsuydK0OjYYOzwu2NBL9t5JCjtWjQWLQkaFTeTd82xgtfNuLuj1csSbsVdq3Q4gkBPU0gsklOqyitXZ3PzOHPkzl2f7Y0Jgiy4+oemgmzfQTt9kGrDSd8SnjHBS3wSMz8Vpj34aXd4elh2kQ1BoXaVMb8yMblU9tqitClaTlatvMx+zvU5WiMOiZ5oaia\\u002fDSkzViqbRjVZnnLQfZLVaQHJm7\\u002fRVrUSw0lvf1PMP2Iqmnv0hV8AAK235s47T+csIyhNPOIfbt01ePQdsUzN+XerzbkoPv6kf+Do2\\u002f0HX1cupaCqu+SbQw3b9DkVxoI6gWd9\\u002fce79zzHxaPKpURItWH+lT9oeuOPQXenKFGb8+dc9LWGl38T9gwkJKbcORd\\u002fo\\u002fHV34VG+xSCB4D6a\\u002f9PXC239d1HvH0TFlqi9fb8+k06ZzlGUEzE72r6YKjxfVHlqF5tr15FacwcGwuP9XfveT7qcyeXTcXMZR4UI1Sol0I2zCX1uXPX0zprLOQdbt3lanxfXN9G4VAqBA+K+0oXvLLDUwdBEUGYrrXLPlWoVUhFKXHWSvqPf\\u002fdLM65nYgzLWrY4p+7crt3PBYe7DLlV+QsvjIc8okpci7Zj+xPxiF9nLyleeXV4rN\\u002fX3wwAx9\\u002f+G4oR9df8uH37E+K5JZx4hUqhlIIKAIqWXT7U+H7Ta78nNcbSNTfkzt3Qu\\u002f\\u002fljKVSEh7rCw532ypXdO9+TpRYy5dEvEOh0T5QDB4ADj71PRQnF13\\u002fM0kiQqj1NZvuDo8NtL3\\u002fGBP2qYw5TDTR69Y5ygoWXdz2\\u002fr8iviGC1umd5UyqdVFkzGTmFSJUqBekz4Yht6p4+VXdu54NjfbQenvxyqsRFJXax3SHUiF4SL8vheCVHZ4sCIpQTkN8NIRryPhYCKUI84qyUJsLECTSO4apSUxFMr4I7dTHXH6eObmBtk8ZBXl4TSVpNmHJ66rNRINlr1o12nVwpG0PAER9bn1OFa23iComEujb\\u002f4r4ORYYcdSs0ZjzxQsgac1Whp+4EphCKQUVAIRG+\\u002foPvQEAEZ9rtOOA1l4sypVLpcN9fEfRsit697\\u002fCszEEQc0lC4catokqheATpBoUs1euAEFofe8fYpGof0RSYQQpADARfywwGguMBoe7JJUCM5l5hQgV6pUgVTZy5290N3842nkAAKL+keGWj+yVK6UGK92hVAg+Qap9KQSf2eHJYD9vbrBlyHF+KReJe3Z3mFeVYxQR5EFX7Yj0juVctpD1RwEElCIGXzggL\\u002fwZI+VqDTPRYNF6m3jaiUR8Q9Jlg+KUs3atsaCW0pgAQTGSFhfAV0ahlIIKAEJJPzfCxSPYiTVblUulY6zrUMHiSywl9cOtuwz5NTilHu3YLzc6GdTmvNBob8qrwtvfPNK2u+aCr4RGekba9ox27J+8NshkZjLzChEq1EsBlTFHayvOmbsuWSgtfJzuUE4NheCnF4HhaKdB4HhcT\\u002fMsJ3ACpqVIk1pVaEFwNObyM56QKt8sMFzyb1t8NvH6eQAITFzAbyYaLACA5GV2k06F0tXXqQyOzo+eDo\\u002f28Rwz56KvSyoFFEopqACAZ1I\\u002fllYulQ6B50Zad9sqVwy37rKWLvYPZLvgbHrGV7OVIwjdu7cMHnvXWrYkd\\u002f55OXXnNr3+RyYakJulYIYyrxhh+nqlA0EwnOw\\u002f9IbYPZSQpiOkO5RTRCn46cT9dgOCIgKf+OUn99aj4gd\\u002fQz8ADL\\u002fTCACkRYupSFynYv0RefnPEoX5+II6cm4t+bMHvErLy0w70cCI2pQrbaqMTumzIa\\u002fafXxH0N3JcwyC4dTEtWgTa7ZOenVYoZSCSoGplQIA9\\u002fEdanOu1l5izK8daZ+4Onia4BWIeIc0lgJxmbeUxEPegSNvHX3h5whGWMoWydWTmMnMi6SMMGO9UiAIYc+AyuiIh33Jf3KzVKQLPiMpg4dTcJiSxDwjqQWf1JS732oYfOngeGuFoikeoQEAAIJhyDRFNY1MV1ReH6\\u002fXo69sDZ\\u002fE8jLTwnDLTkvJQmvZElpvt1Us1zsrJFUsMKrPrSLUelpvL111nayeAs9F\\u002faPW0sW03kbrx9dsVSiloFIgY6nE4raT5PGwz9vbULjkMp5jvL3HklXpghdJuVqu+\\u002fhOFCPK1t6stRVTOqs+p9JUOFdUmYrmWcuXqs15lM5izKvBSVWKkaBJzGTmFSJUqJdIymz0H95qKpqfO2+DyuhUmXLMJfWW0sxtNKQPXiTlvhSCh0wOTysIQepq5+F6I643AACC47jegFK0uIlptNq6BaIQIUhMqxOL4AYjStG4Tg8AKK0irXaUonCdHsEw0mJD8MR9FYLjhNGU5JYSi5A2h6qwRCyIaXUJt6lsxJ1KQnFTjAoAUIpCMAylaMJoEr0l7zQjkajg8\\u002fHnrFHV1ZCSMHXLPc0gSP6CTbbK5ShGeHqP+QdacuaeKz5c11gLipdfqTI4mWhwqHEbpbVwbCz5mbHWXlK0dDNtcLCxUP\\u002fB18VejEIpBVXdJd\\u002f0dB\\u002fpP7xV9Jw3\\u002fzxT0bxjL\\u002f1KuVTR0s3WiuXSD4QIPBcc7mre+idxEwD0zvKqjXcMt3zUtetZSSiSMvi8+k3O2sRquQAg8FzE52p4+TfipsqUk19\\u002fgc5RimJEPOwbanjPfXwnABjz5+TVn09pLQiKxYNj7padrqYPTuwnPTOYeeUI09VLORvG\\u002fJqcuRvU5jyB56J+9+Cxdz3dR0DxUIqkDF5hX8rBp3M4AxgWLUdJEtPqMY1m+PUXjcvXECYz6\\u002fWwoUDg8H4+HtfNrSfMVsJk9h\\u002fYo5u30P3Kc4YlK2ODfeqySi4cDhzZDwCaqjmEycyFwwACSpDeXR+IA2S6ufUCywabjprXbiBMZtbvYwP+wJH9dH4RCEK0v0dTNQejacJk9R\\u002feJzqR2XDhsGHxcjbgE\\u002fdFmKyGxcvdrzynm\\u002fv\\u002f2zvz6DiuKuHfV2tXdVdXb2q1Vmv3IkuWJXnNQhwIgYQQCAkMGDKQYckEcgKBzLBNBggDBCZM+AIhH2E4hLCEL3EgZELiZLI7TuJEXmXLki3J2nf1vtX2vj9eu7rV3dpsecvR7\\u002fj41Lvv3vvuLXW\\u002fevXqva714UP77E0bjEScsghGMhHr6bKurA8f3Gs2mp1qDpKNuvYqce8BpaiQfv6V1Hgz3WEhmgaMFzjVhyhqgZomc5gsqum8LNzDHGGcGlZP+Zqrbut4+r4FPrlbOIiiATA2DPMgW+N8wjyxCznDF0RG5wP29RtZh1OPx7SAP9J52L6u1UjEeV8x1nX\\u002f7pdYp9u+rkX1T+uxKONwsrJjYueT9nUtoQNt9nUtWiSsjI1QFsG+rkWZmtTCQc5dAAgF9rxG7kN5X4ltVf3US8+mehbeokVCytgIYlmxqi7e12Nf15IYGaKttuToEOf25uoglmVlR3J0mLRlW9vEyo5g25v2dS1TL+5kPV5r7apY9zHbqvpw+377upapl57lCnyk0exUFw4ZyDF2WWpsBgBE05yngLII5jCPkR2UIHAFXs5bKJRXAoB9\\u002fQZGss8YLp4c5qWFZIxKUazLDQgRE8oicAVeAEiNURmGscvppmcf3GYb0jTnKUAMkxl8hpBlJDsxB4SILQmehGHGmRn5qVG+4dq11\\u002f5LtnR2KI5nbHaK5RirBAC8p1AoraQ4HjEsIIpiOdbuILWMJNvrmwGAHJgmxAOiac5VQAtW05CxSkSIaAbRDCPJFG9hJBkA0m5tdkAU53QDIKKDaIaVnQBADmiLwLm9pAkgHwZXAXltKvHDWCXyLyse+5r1FMshipYbNpgJknYBEMVyFG+hRRsxMVM7VyBEL\\u002fztNYTF6i8ZZALLnMZCSGpozp7VQihbkg97U6tj40W0aE2LMtymhblFQq5OriQDsbqOLyzKlWcXZyHvSncGADhPgdy6efzJHaTflRqbKUEEbBiJRLSrw7amMTkyqEyM8UWlejRCdBi7bF21FrEsY5fD+9\\u002fmCgqxpkUCfgCwrWlgXZ7w\\u002frcBIbl1c3J4KDE8ABgTk+jRdr6oVJkYd2y+RI\\u002fFGLvMSPaJp58gbp0Xb2MdrtDePdK65vEnd9ibWpMjg2JTqx6LZRkCYMRywTde5QoLzeBJ5ME3XpU3bDWUJG21xU90a8EAYMMMnoQRPthG4tSjEXVygkS+KCiGYwVJdBYX1G3p3f3n7OrZcW24RI\\u002fHEuMjcn3z6M4djCQDxlLdWi0aTo6PSCsbEqODtGB1NG0e3Zn6i2jhIGDMuQqIkHgAjBHL6fGYFgkmx0cYm93RtDk+3E8Lov\\u002ftV91b3s06XGrQr0fDwfY2uaE1MTpoq1trKEnaIsb6jgNg9+ZtrMMVH+jVE3E16JdWNmBNi57osvhKuVWNejwWbG+TVjYShyR4EkNyYoRzeuLD\\u002fWJ5dToeRNnXrA8ceJO1y1LdWpJgcmIkMTqohgKO5i1Y17GuW7zFozt3kIxmnJelg6F5muJULc6yYlIJ0RSHAVOIYmhLQgnRFEPTPEKUU6qYDHTSFJdUwxRiWFZkaJ6lhUCkn6Y4hBBCNIVoTU+wjJhQQoXO+onAUQMbGKeeVJ4lyInKmKQPH9qbUZ0SZkvyEdr\\u002fdrZotrn\\u002fvA7n1ZkpiXV35ZVnF2eB\\u002fLzMJVssCKUtKAAQVlQZisIVeDmvLzWe13Ws6bQoYl0zlGRisJ+RZK6gUA34WacbANSAX52eNOIxdWoSsawyOc75iohHPRwmQuLW0DXW6QKEiAnrdHMFhYimSVGPRSKdhxlZJk1rwUCk8zBfUmooCgCQpvMaAqJA1zHGmcEDxkSIDZ0WRSORSAz2A0Bm8MQcsRyJUwuHzMgXhegqWXvNVys2Xz9y6IXp3n3Z1bOjBv2Kf9K6opps\\u002fVf8k6zDDRQlllcDgKEk48P9YlmVoSmc28sX+BBFkQOxPGVCPABFYV1HCBFDYgLYwLqODayGApFjhwGAsojY0Ilb0HVaELGqsA4XIER0EuPDvLcIAJSpcd5bxEgy7ylUQ0HFP0mxnOmQBE9a0SJhxT8pFK\\u002fIjAchhHWdYrnMBFPtAtC8gADRFoGYmKkRt0tLWeGmAueqyuJLq4u3MTTvda522MpKvRt41gaARYu7qvhdSSUEGBNNhuYrii6qLt4m8m6KYgCg1Nta5G6qLr7MLdeUejcSQ5pmfa6Gs91bnccgammeBuaFYdAH32ddWcO6XTNWup8cbWbI7E2tiOMj7fvJZdyUp5ipnCZXbkooCuaYrcgyJMPFvE1kkDfItDAWzXZLWLjwjIPAXCFFApgRRkZtmhlCuaGV4vjQkf16gpwBBIDTwngUELKvWR86si\\u002f79GIMiAKy4Dur6ZxTMcMhwMwY8gZpkrc2r3CJKXKvS6phm+CNJwOTgc4iT5PAOxU1MjC+BwDKCjcJnDw0sdfnbownpxNKKBIf98g1qpaIxMdd9sqhibbqkm2KFiNvr9B1ZXDibQAo8jQBxuP+I7pxBl\\u002f1eGpQDEdxPNY1RpSS\\u002fnEitLgKaV6MjvTSvMCIkp6MA4CejDMWqxoNIpphRUmNhUmRYjjaIhpqkhElJTSdqaPFoxTHa7EwxfE0y+vJBCmyVtlWUh08cRhrGsWwNC8oYT9pSwlNs6KkhP0zolwMLIsK3NTwqL6yhu08nj7hC7qZXGaZCxEEiOwqNg9S4nydJtGZqZlleP4ieEpc9ZtHXv8fuaLe35W6YZTK6jDGkcFjFMfLFfUUZ+FlD2IYimaHdz0hrViNdc3i9nGSa3jXE4665vjEYMI\\u002fJlfUc7KbCImOEpp21W8eenlHYet7tEQsMTXiqGseenkHADhq11M0oyfjNC\\u002foSiLYc4i0hTHGuhbsmf9R4GI5UyO6ZZY555h9zcxOJ38HRHSyuqcLorcCAGtxFdYU1irzzkKy0AwAksFJzu4GACLX4pFkcFJPxEK9h3U1mfSPW9xFajhAioaajI31E001GsrUIc4BQAn7leCkraSaFHmn1+LyxSaGOIcnPjlscReZbSnBSVI8HfJOui9zwXPOnl4tM\\u002fsa9IWA6FleAHcqzBJG3vBMITmYXydLYUZRKqtL9U1ZfvK6XQyigK7\\u002foPXuf3dlelqq87XM2YOlBcnipSmGZ2wAUCTXW1gpW2mZMwziWGtzA+N20nYJANiiQr66AnEsKVIWHtE0bZdYnxcxDONyAgDiecSylIVP6Ug2a+s6ShRYn5eyWZkCD3FL2yXiDQBILWJZWrYTt+Qgh1lGgnknZ00hOZhfJ0thRjE80JWYGgHI8ZPX7WKw2ajWJv54r5rp6cx2WHkfIizVVqMs5vI5y5XwDEVypsHYkMWSEmeTR6riGNHCSgVSDU0tZqfeMqeNdWMzZbczHrd89XsAgHbIiGXZwgJSFNc3CA2rAYArLxGb1nLlJQAgNtXzNRVcRTnR0QNBMDAYBldeAhiL69YAAPFAvAEAqbVdtFFYU0dLVmnbxeK6esrCp+N4R9PTp42Nz3gsu2RfV7K\\u002fieweQgxDVmlK61pOrj5lGclO1nyaW41OYZloZlukFtE0X1QyW1vErVSf2o1lhkeaTkeSMrEwdplUmfHk7enOLZqRNAwVY52lBQPrAMDQFvJTnKdJ1Q9uLP\\u002f69dnSC5CzkYhhUKKFryzHigoA2sQk43HxNZWkqI5O0E6ZEiysz6tOTLIlRQCAKMpSW2WasD4vW1xIOx2szys2rdWmA0BRxAPxBgC0bGd9XsCYsopY07Vpvzoxibj03rozyopv3FD8hfdlS88WFh6NjmkNa7jMQcWS\\u002fbyMvHGrkYgDBi0ajh3vIushzVWa9qYNhpJkPV4t4A8fbCPDxVNYJprZVvhAm21No56Ig2FgVZ2tLalhPWI5x6aLaNGaGBrQI+FYd6dj67tYh8tcsCo3bzKUJOt0a+EgY5cZSZ54+gmpsTk5MqgFAxlZnhfIQrGB9eHpdvIMq2di92IfZtGSwLqkRF\\u002fq+feFyzlMJLL7rdTFDGMA0CanI6\\u002ftMYvJ3r5kbx8ABP62EwCU\\u002fiEAiLz+dqaJOjpOasn\\u002fhPBLu0kt8aaOTaRqEQKMo2\\u002fmLBk9w+Bz96unY+O6hUdn6tcaEE1TgpgY6udcHqwqZKmnuUqTrOTU\\u002fNPq9CTvKz7lZaKZbWFdTwwNcC6PMj46W1uI5bBhUBZBCwcjnYeTY8OM7DAUhTRtLlglJkBRlCCqAX+k87ChJEk8M5I8PwjGh0eDHQCzPQWbH+dlDe6rN2RLL0DOcSIYz5ipySpmkjklNJsOIVMzr\\u002fws0vfDR0d+81y29GyRVPAzL8QPdSjZFUuC1NgMCKV3DwFk30zlvbdCOduR8mFvapUz9kCRtmDhm5VIMa8wo2i6za56x1Fx58dLbrk6W3p27qSWlHdMIsvkUuyjH7jHc82VYuYt4Tv8m\\u002flOpfruT4f2dCGWcb+\\u002fhbJaogd6h+5\\u002fSp0KAwBfVlD3i5tP3PVI+K1jpn7FnR+nrXz3v\\u002f52xTdusK5dQUtC2hdA+4f\\u002fA+sGAFT94EbVH0n2jbve30rbLIm+idHfPBs9MkDUbE1VhZ+8TKgo1ONKcHfH6G\\u002f\\u002f14inrn5VP7gxsr8HG9h9VSstCVmGc3BOEoHZc5k7kTmiJax55F\\u002f6f\\u002fgoWyB7P3ox67GrE8HeO\\u002f+gjAXmaJEgtdYUbr\\u002fMUlaAuNQsTfTQiZ5vPTy3T0a2Flx\\u002fkdRawxbIRjQRbe8b+e\\u002fn1OkwAEjN1YXbLwu8dKjwU5eH9nSO\\u002f3lXxb99DDF0\\u002f4930CI\\u002fW1Xs6CBpfeWvvsT5nAAQfPVw\\u002f08eJ0KY7\\u002fzAnIksFp5Dt98iD4\\u002fqDz2SPsNLdku4zFmm4LqtlgrvwE\\u002f\\u002fOnDPXywrvOVfv4HIkwMTsY4B1xXrTU1aEmzrq\\u002fwvHgSA4Qd3Hv\\u002fKr5NDU4GX2zs\\u002fex\\u002f5R77kBKmlRtpYN3T\\u002fU313PQK6vuJbH6NEHgBsjRUV3\\u002flE4sR473f\\u002fOPzA01JTZcWdH0dU+oLnuXazffPKoV\\u002f+PctwXs5yIjBfLnMnMlu0Ju5rNjourR9+cGfvv\\u002f1++rn9yngQ5muRL3Gv+OZHQ7uPdnzm3t47\\u002f4AVbfR3L2R+yfP6BAAjqbJuaeLR13q\\u002f\\u002ffDoQ8\\u002fbmqtLvpgeb\\u002fIrvKzXMXT\\u002fU45L15bdfu3w\\u002f30mOTTl\\u002fYdL564idH7h50c+8ZP48RFTYjLH+Zk3kUVRUc709mkV5TPm2Zds0n2Zsww28MA9fyFzojipVnznE+LqsljHAABM79xbcus1jMOqBaIA4Lh4DRg4+OoRAFAnQwCAdcOIK8p4INMhATF03\\u002fce0UIxANAiz9Te+zmxpihy8ETh9stiHQNDP\\u002f8fopYcnKy97wv2LauCr3WkDHk2r2HK7+yc5UQAYO5c5k5kjmgJfIn72JceIF1n9HBqDnTuFqXmaqzq44\\u002ftAgyR\\u002fT3hvd3W+vKJx1476TK\\u002fTwAwEkr\\u002fj3eQ49jRQa7Y7flAekaP4pjJv7yuTod9n9oW6xoOtx3nvLLnuq1zV6XAoEcSWM3zJo45zs+8iSyKvG\\u002fNWR5hXagkekfNJziR9j4AECoLSTG464gRVxzbGklRfldDaE+XHk2Q4tzEj4+QzyIAqOMBAGCcNsTQwsrScNtxUy3RN65OhmyNlaYkr6FZOwdnMxEAmDeX2QwJc0SbEu7tzhzowQJapAQOa7r54ATr6WNCrs+8KKN+SuQRnf5Sq\\u002f4IAOiRhDoRBAA9rlAn79TmqJqbOc7PvIksimDYCEeMru4ZW80X3WFxkgsAnDXN2RUnYa0Ob9O2bOm5JitgksUFjR5Jf2+xohmKxsiphxKGogVeOuS6ogkA2ALZuros8OJBU3lu9CD5VQYAgNSnDSFa5BGF9HA8XQWgh2K0XUwX8xmmJbNzNhMBgHlzmc2QMEe0BPPLbDJvi+G2btpmcb2\\u002fBbG0UFssNdeE9nRmKuf6JCCacl+9oeqH\\u002f7jqN7etfewbpbd+ILMWG+knklg5OVZCaO6qeZnj\\u002fMybyKIoKWI2rM+eVVhQn2oiFpQWrL1k7MBLvKPAs2ZLfHrU0BSbrzI2OaTFI\\u002fayVdGxE7GJAZKG4CkhVYzFGjzR7qhsSIaniQRRFG\\u002f3JPxjnOSkOUt8egRRNJEAYIurKD45hBBlcfkMTVVjQVKlJWNSSU18csji9NEWUY0GKZolBwn\\u002fWJbn6NgJErPVVyG4illR4h1eYo4NnWSBDZ1IomN9GVleGGROrCCOoThGDURMyfTOve4PbBBXlljry7VQLPPyPjd538elRxNYN5iM7gkAaLuodw6ZxbyGC+FsJgILyGU2Q8Lc0eZl3hbj3SPDD+4s+eerij93pToVHn901\\u002fTOBa23KvrslY7L1g7\\u002famf0cJ\\u002fmjzgvX5c5h3WGmOP8nHIieZn26x++WqytZv\\u002f4WPoML26EFZ8ajk8NJaZHABuTR163esuc1et1JS4WlDmqGibaX41NpG\\u002fmzSqKZqyFKxBFmxLO5oiMdEfHTnA25+SR121FVabEWlgx1fGGVFLLO72GrurJmFlFcxY1GrIWVSGaMZQExXDmQa5nMwxbUdXkkd2GrprmZhamxFTOwyzbepaQU9seJNYWIzZ1e29rqACARO+YWZvoG491DsmXrrVvXRN8pT3rhsJIqBS\\u002fiGsV1o3YkX6ptcaUWFZ4WY+d3BOdJmczETjtXOaONi8LadF5+brR373Qft0POj9338Rjry3wTsq+qS7wyuHAiwfV8SBWdUtV+jVu54pTSyQvDpmqX8WFw0bm92NxXxVsGIxgtzi8hpokkvjUMMXy0bETCf+4t\\u002fFdorfc4vIJ7iLBU2JWBU+0+1qvDJ5oNyUAQDxQnMW9aqMWj5gSNRZ21bUq0aCuJDibU4kGzCqbr5LmBTAMwDjVzZ88yPVsosUjrpUbKJo1zc0s0g5nAXGctbGRcTppSQIAtrDQUlmJOI4UaUmiJYkSBNbrpXiettsBIKuIaJotSG0qIuYAgBiGlmWgKNbtBoSsLS1EeVEgll7xjRts6yrtW1aV3HJVrGPAfCZNmN65176pTqwtIo\\u002fVMol3DUkb6+xbVgk1RbZ1qZmUuRl9+EWhrqT01g9YG1bIF61e8c0b4seGQ7tTM+6nw1lOBE4vl3mjzcvcLSKOsVT51MnQYlcZJYenbY0V4soSS0Wh94aL5S2rsjVOFURTjF1ELIN4lpaEzHmxOTjlRPIyNW30DWiyTGV+QRd3dQKA4T1PAcaJwDgAjB98BQAQoshGNvOg74U\\u002fAgC5rSOS7qd+BQD+43uJJDbeT7xp8chU51uZq3j9x\\u002fcCQoCxr+WKYN8ReUX92L7nSdX4wZdJlamcSZZnk6mje9JWJw\\u002fSWczuEABszc2IY1m3W2xsmNrxOCPLgDFbUCBt3jS143FrQwPjcccOHmJcLqaxUY\\u002fFom1tYBh8aalZFBsbaVEIvboLAIg5AMjbtjEupzI8nOjpBYwZWRbXro22tRnJGV3t3AR3d6gTobKvfZgS+Mj+nuH7\\u002f56t8Orhos++Nzk4mftweuxPLzMOa+mt1wCFkoNTkQP\\u002fnaWQS+zoYO+\\u002f\\u002fd534+WV39mux5OhNzpHf\\u002fu\\u002fC5kJnpeznAicXi7zRpuXuVvEqh5++1jZ7R8qu\\u002f1DAKCH4+F93UP3\\u002f92IzfN5GL7\\u002fqeJbrq78\\u002fqewpofe7Or99sO1P785W2nxeK7dVPRP7yXHAhSt+cPXAGDoF0\\u002fNe393yonkpdBLHz6qkL2EZp+1FD3hacAINjK8yoWiGU72JAPj5\\u002fBlUNLGjbTTAbpBCcL0k08yLpdQV4tYlnE4p598UmxYS0t2Ixbjinzq5JQeDCojI5Qg2FqazaJQV0sJQui13YAxMQ+\\u002f8aZtwwYjHqcsFiOZjLW325qb9XBYGRnRw+kFcnNTffenlcnQQMaKvlwQQ69++PaJHbtP+bnyWeDCSmQh0S4aBJXf3W4o2uRfXtfjCkKIcdpKvnh14KVDow+lLtUXBkudCM+ha98vdh5XDxxOr7Bd9AhraZmttwIAQ9cS06PZ0rNLeM+e1AQWxgCgTU+H39xjFmOH2oladH9KHwD0cNj\\u002f9DPpMqIAAyWKRjRqmkfeeis1sqMowDjS1pbWXzDzXmrki1ZTPOt\\u002f\\u002fkB2xXnGhZXIvNEuFr7YbWuqOvblBxM96U97cnCS9Sx6luDcsuSJkL2EkeiM8co57rAuALJuGGe\\u002ff8xL5O23Z5RNc3JwBgaPlMhbSt2M21500xVTT7dp\\u002flkvCec575hE5kadDBlxpeDDWyafeMOIJWnZKm9ZZWus7L\\u002f7sWzV85slT6TYR995h\\u002fOpZ2NPPZf+wYblDuudBudzVnzvk4BxaHfHqQ3FzxPeMYnMjZFUe\\u002f\\u002f9D4XbL6v87nbKajGiiXjvWN+PHg29fjRb9fxmyROZmjYSCby+kX9yZ\\u002f5laMsss8wy5wveAvpHd7o+d6OUKVzQ08olZPWm9A1tTZPttp\\u002fXZFSeEW69t2Zl64ycT5\\u002fMLAjN73Z+8AtFmZL12xx3PV7\\u002fjYdWrdqQaj1XJ5d5dd73ad8P\\u002frb2Q7cUZwrntYJ8MWeR6zlXAgtr63yDpvNPPVE0mm2NHcOg2awWyALN54hhmdyfSD7b3Pmn1ebxhdthZWYxG7fdV1PXsqDNdIvl3R\\u002f3ZnUiC2EhMed6zpWc54g2yu1jBSvFMIjlUHktv6ZFfPdHHK5CBgA4C+XyMoKVchUyvEBd+gHZWcCwHMo0IUW3j73sgzLRN92SKgDgBaqgiDU7msxGq9ZY1rSIAEAaNT2QRikaFZVzvJASkhhKKrnSat7UYVhUUsmx3Bnpxha6ShlRC3zAkNfhEr4UmmVnhLE0c1grW6WrbvJpCvaUcIdeCz127+Cl13kKyvgdPxsCgOu\\u002fXDoxkOw+FLn25uLKtdavPVgHAPd8oQsAZDd72301jgJuciR5\\u002f+3dGMOHbiluuFgGgL0vBJ769UhNk+3am4t0HWQ3OzmcvP+r3RjD6k32628r0TXMi9QPb+xMxPQsKwC47taSdZfK06OK7GFJkJf\\u002fg3fL1S6KRh17wo\\u002fdO3gy9hncdFdFUYWFF+mDrwaJztcerDvyeqiuRXIUsD\\u002f6TKenhMvKAhtwxScLL73Oc\\u002fj10CM\\u002fGQCAwnL++q+UrmyVZA8bi+j3f7U7FtKzdADyZJGrkxtPLllWuWespFbIjXkhZyOX3Ag\\u002f8a9lBaV8QSlvczIPfbdv34uBLM+58eT9C55aPLlctd0VDesYQ2BS27cr6i5ksYE9Pnbze+wv\\u002fjXwno844jGjpJKfGFZpBigKAcBHPu8pLGWPHUr4J9R9u6IfusldWMo++P1RA8OVH3XEY8ZbL0SuuMERDevuQtZdyDz4\\u002fdHLrnUcb49PjKT25WY2auigJAwAII1aBBQK6G+9EHnfx53hgE7TcPjt2HsvS7nd8l6JFyhsQG2DZbA7+cFPu8MBHWPMW6gnH5rOzOsUoHgLxfFGMoE1DRBiXW7aInIuT7SnUwuHEMPSFsFQkhTPa5EI63Cq\\u002fmnEMLRFMJIJa92aeF+3Ho\\u002fTolULB01vWjhIcTzWNM7ro1guPtBrb2iJ9nTq8ThtEbRIiOJ4iucBkLiiOtxxkJhTLEdxvKEkKUHUQkGK4yieN1SVsUlaKEjxvBYOIZpmHS414Md6am\\u002fjyhp2fQO\\u002fspb97o\\u002f9ZlJL02EBgG+F5evXHAKA7z1Wv\\u002ftvk7ufnLrzkTWP3zeEDWi42P797UfVpPHAHT0\\u002ffb7xPz\\u002fXZVq5i7gf\\u002fuNRVcF3\\u002fml1SY0g2um6Fun72zsA4I5fr+x8KwwA5avEr733oKkz3JO4+e7K73yswz+WWp1R12LLsoqGtPXbHHdefxgh9OOnGwCgsJzfeo37Pz7ZgTF886FVVY3WnoMZezhP8rvv9Wkqpmj0s5fW7fjZIHmUpyaNe7+Y+g25wa54bhbP\\u002fX4sHtZK60RSHOtP\\u002fuIr3bf\\u002fsvav9w\\u002f3HEq1kqVD0Sgri1wdmCWeLHKtss5YbswLPBu5ZLXFsGj95c47rjxolZlvPbxq34uBXM+QE0\\u002fuXzDXaoHx5MKwyGan216JNG21vvFceLhPadpqHR9S\\u002fROqRaQ0DUsyPTaojPYrK1ZarBIFABMj6onORHBKr2mwJGIGKXqK2BW1\\u002fPSYJsm0pmLidnxIPd4ej8eMeNToOpDezJzZ6Gs7w01brQBR0mh1vUA8kGJZNV9Yxuk6EKGuYaudcniYshqeYRDRKankNRUbRr4\\u002f9mJwtGw1kidfs9DTxUoyxpixy7a6taFDbfK6DYaSZN1eLehHFBUb6AXAjvWbSLdCnmK7tm5jHa7xZ58wkgniLXSwTVrdqCfigA1DVQGAOKQ4To9FI8c6HC2b9VgsdKgNY2yas063o3lzcmwkMTqohQLOTZfosViks93iK2VXNxJ9aXUjJYiBPa+a8ef9eZkl67CGe+PkvS2Dx+KF5ZbhnsTe5\\u002f2NF8vRoH7kjbCazP\\u002f8\\u002fsSRmKpgAAhOqRYrXVIj9LZHydeytz1atkoY6Ixn6Ti9bCSgZX7Pc60CY+pAVwwbgAEPHosTHd8K\\u002fhu\\u002fTe1dEKwzzgKB5akbv11usdJq0hDtNEUhXccA0Nm29A\\u002fUc7PIZbZ45iXrjGVXL+xsLARNxUfeCH35F7UA8MxvRyGf52TcWMhfcEniAYCRPuWVp4JNW217X40CwNiA8uyjivlGoaf\\u002f6EcUkOL+16Lk+PkdAXLQsTcGkC4+\\u002fNNxIAvpjJRbbKSKL\\u002f41kPIIADMbJS0CpHTMVswiRSNDx0T43GOpto60xUwTdyFrESmbgw77T2v6BtE0ZRGj3UetlbWRznZlelKsrFMDfi0apjgOGzoliFpgWglM8W4v63Alx4aJEGsabbUBgBYKJMdHDCVpesOGnhgesNasCnccFCvrAI4RhxZfCSWIWNdIkfcV816f6p8m5mJ5laEqhpJMDPUDANEh721QpyfVcJDiOGwYWNdxRje9eiVn4VFFOXO8V136ZQ0lNQJFI4xxWZ3wtwcSAPD8n8a3f708HNCeeSi1kMzAmLNQ5icGALIuIwOd8Y1Xpl70Wt1o3f9SIFcnMKFKTtZRwAYmVABAKI9VLKSX1YnkjchFlRYAGDoenxxWfnRTp6FjmkF5L1\\u002f1W+w2B\\u002fOzW4\\u002fbZGbL1W5TnqWcm8UpkJtF7uhptnjmJTe7rJgXcjYWiN3N\\u002fPk\\u002fB0Z6E6SY67m60TbvXzDXKlN\\u002fUbz8ZBAA9u1KX2Oy\\u002fkyZRfN4Xh3iNqvKJKvRObwBgKHjTGGuw+cfD2SLTgnVPxU6vM9aWRvt7gQANTAd3P+m+TkLtL1ufuxiPV2AKMA4LUQIMA4eOLnC+aQ3wJiR7NHuzpQ3gNChtpMeEGBMigAQ7+8FSH2y\\u002fXt2QcY26LTOQK8pJJq0IOrx1OA6ENSLfcyLu+KntZdwNqIB\\u002fUv\\u002fVe0u5va\\u002fHCQf37BfCwc0hGBqOHUtxQa88ffpu3bUTwwlf\\u002falPL8Tcnx\\u002fpGNP+Nt\\u002fWI0Q7H85eGxfpKYpe95a1\\u002fCD3+q97b5aVTEYFt1z87FcKwA4tCv4nf+3ZmIgOd6fAICx\\u002fuTzj4x\\u002f86GVhg6Igp98vkuJZ39Sug9Erv3n4jserAtMqP2dsy79yMqCptHn764qqbYINtpdzD3+f4bMb69JXp2sLBIRPUsnNx6LSN90V0VZnUCzqKRG+PM9g\\u002f5RJcsqq2lCVsy5Z4NCKMtzxK\\u002fN25Z\\u002fXKUQ+qe7KgwdeJH65R09oycSWZ6zQ8n3F8yNJ\\u002fevs8xiCbXvBYBoT8afIOuqmFlM96B4RtXJA+INMh3O4c0kJcxXNZPQwZlLrAE6utSOrhm\\u002f3rdkrGyVbr23JlsK8KX\\u002fql7yJ3TLnD+8\\u002fzO+K7Z7yfHHvlp6yXWemfXLLLPELNkIK4tLPux5z3Zv51vhzrcXuqF3mQuO\\u002fS8FbvpeReOlDppG4YD2xAPZv6awzDLLLLPMMssss8wyy5zf\\u002fH+utxFPEGy6YAAAAABJRU5ErkJggg==\",\"type\":\"image\",\"xaxis\":\"x\",\"yaxis\":\"y\",\"hovertemplate\":\"x: %{x}\\u003cbr\\u003ey: %{y}\\u003cbr\\u003ecolor: [%{z[0]}, %{z[1]}, %{z[2]}]\\u003cextra\\u003e\\u003c\\u002fextra\\u003e\"}],                        {\"template\":{\"data\":{\"histogram2dcontour\":[{\"type\":\"histogram2dcontour\",\"colorbar\":{\"outlinewidth\":0,\"ticks\":\"\"},\"colorscale\":[[0.0,\"#0d0887\"],[0.1111111111111111,\"#46039f\"],[0.2222222222222222,\"#7201a8\"],[0.3333333333333333,\"#9c179e\"],[0.4444444444444444,\"#bd3786\"],[0.5555555555555556,\"#d8576b\"],[0.6666666666666666,\"#ed7953\"],[0.7777777777777778,\"#fb9f3a\"],[0.8888888888888888,\"#fdca26\"],[1.0,\"#f0f921\"]]}],\"choropleth\":[{\"type\":\"choropleth\",\"colorbar\":{\"outlinewidth\":0,\"ticks\":\"\"}}],\"histogram2d\":[{\"type\":\"histogram2d\",\"colorbar\":{\"outlinewidth\":0,\"ticks\":\"\"},\"colorscale\":[[0.0,\"#0d0887\"],[0.1111111111111111,\"#46039f\"],[0.2222222222222222,\"#7201a8\"],[0.3333333333333333,\"#9c179e\"],[0.4444444444444444,\"#bd3786\"],[0.5555555555555556,\"#d8576b\"],[0.6666666666666666,\"#ed7953\"],[0.7777777777777778,\"#fb9f3a\"],[0.8888888888888888,\"#fdca26\"],[1.0,\"#f0f921\"]]}],\"heatmap\":[{\"type\":\"heatmap\",\"colorbar\":{\"outlinewidth\":0,\"ticks\":\"\"},\"colorscale\":[[0.0,\"#0d0887\"],[0.1111111111111111,\"#46039f\"],[0.2222222222222222,\"#7201a8\"],[0.3333333333333333,\"#9c179e\"],[0.4444444444444444,\"#bd3786\"],[0.5555555555555556,\"#d8576b\"],[0.6666666666666666,\"#ed7953\"],[0.7777777777777778,\"#fb9f3a\"],[0.8888888888888888,\"#fdca26\"],[1.0,\"#f0f921\"]]}],\"heatmapgl\":[{\"type\":\"heatmapgl\",\"colorbar\":{\"outlinewidth\":0,\"ticks\":\"\"},\"colorscale\":[[0.0,\"#0d0887\"],[0.1111111111111111,\"#46039f\"],[0.2222222222222222,\"#7201a8\"],[0.3333333333333333,\"#9c179e\"],[0.4444444444444444,\"#bd3786\"],[0.5555555555555556,\"#d8576b\"],[0.6666666666666666,\"#ed7953\"],[0.7777777777777778,\"#fb9f3a\"],[0.8888888888888888,\"#fdca26\"],[1.0,\"#f0f921\"]]}],\"contourcarpet\":[{\"type\":\"contourcarpet\",\"colorbar\":{\"outlinewidth\":0,\"ticks\":\"\"}}],\"contour\":[{\"type\":\"contour\",\"colorbar\":{\"outlinewidth\":0,\"ticks\":\"\"},\"colorscale\":[[0.0,\"#0d0887\"],[0.1111111111111111,\"#46039f\"],[0.2222222222222222,\"#7201a8\"],[0.3333333333333333,\"#9c179e\"],[0.4444444444444444,\"#bd3786\"],[0.5555555555555556,\"#d8576b\"],[0.6666666666666666,\"#ed7953\"],[0.7777777777777778,\"#fb9f3a\"],[0.8888888888888888,\"#fdca26\"],[1.0,\"#f0f921\"]]}],\"surface\":[{\"type\":\"surface\",\"colorbar\":{\"outlinewidth\":0,\"ticks\":\"\"},\"colorscale\":[[0.0,\"#0d0887\"],[0.1111111111111111,\"#46039f\"],[0.2222222222222222,\"#7201a8\"],[0.3333333333333333,\"#9c179e\"],[0.4444444444444444,\"#bd3786\"],[0.5555555555555556,\"#d8576b\"],[0.6666666666666666,\"#ed7953\"],[0.7777777777777778,\"#fb9f3a\"],[0.8888888888888888,\"#fdca26\"],[1.0,\"#f0f921\"]]}],\"mesh3d\":[{\"type\":\"mesh3d\",\"colorbar\":{\"outlinewidth\":0,\"ticks\":\"\"}}],\"scatter\":[{\"fillpattern\":{\"fillmode\":\"overlay\",\"size\":10,\"solidity\":0.2},\"type\":\"scatter\"}],\"parcoords\":[{\"type\":\"parcoords\",\"line\":{\"colorbar\":{\"outlinewidth\":0,\"ticks\":\"\"}}}],\"scatterpolargl\":[{\"type\":\"scatterpolargl\",\"marker\":{\"colorbar\":{\"outlinewidth\":0,\"ticks\":\"\"}}}],\"bar\":[{\"error_x\":{\"color\":\"#2a3f5f\"},\"error_y\":{\"color\":\"#2a3f5f\"},\"marker\":{\"line\":{\"color\":\"white\",\"width\":0.5},\"pattern\":{\"fillmode\":\"overlay\",\"size\":10,\"solidity\":0.2}},\"type\":\"bar\"}],\"scattergeo\":[{\"type\":\"scattergeo\",\"marker\":{\"colorbar\":{\"outlinewidth\":0,\"ticks\":\"\"}}}],\"scatterpolar\":[{\"type\":\"scatterpolar\",\"marker\":{\"colorbar\":{\"outlinewidth\":0,\"ticks\":\"\"}}}],\"histogram\":[{\"marker\":{\"pattern\":{\"fillmode\":\"overlay\",\"size\":10,\"solidity\":0.2}},\"type\":\"histogram\"}],\"scattergl\":[{\"type\":\"scattergl\",\"marker\":{\"colorbar\":{\"outlinewidth\":0,\"ticks\":\"\"}}}],\"scatter3d\":[{\"type\":\"scatter3d\",\"line\":{\"colorbar\":{\"outlinewidth\":0,\"ticks\":\"\"}},\"marker\":{\"colorbar\":{\"outlinewidth\":0,\"ticks\":\"\"}}}],\"scattermapbox\":[{\"type\":\"scattermapbox\",\"marker\":{\"colorbar\":{\"outlinewidth\":0,\"ticks\":\"\"}}}],\"scatterternary\":[{\"type\":\"scatterternary\",\"marker\":{\"colorbar\":{\"outlinewidth\":0,\"ticks\":\"\"}}}],\"scattercarpet\":[{\"type\":\"scattercarpet\",\"marker\":{\"colorbar\":{\"outlinewidth\":0,\"ticks\":\"\"}}}],\"carpet\":[{\"aaxis\":{\"endlinecolor\":\"#2a3f5f\",\"gridcolor\":\"#C8D4E3\",\"linecolor\":\"#C8D4E3\",\"minorgridcolor\":\"#C8D4E3\",\"startlinecolor\":\"#2a3f5f\"},\"baxis\":{\"endlinecolor\":\"#2a3f5f\",\"gridcolor\":\"#C8D4E3\",\"linecolor\":\"#C8D4E3\",\"minorgridcolor\":\"#C8D4E3\",\"startlinecolor\":\"#2a3f5f\"},\"type\":\"carpet\"}],\"table\":[{\"cells\":{\"fill\":{\"color\":\"#EBF0F8\"},\"line\":{\"color\":\"white\"}},\"header\":{\"fill\":{\"color\":\"#C8D4E3\"},\"line\":{\"color\":\"white\"}},\"type\":\"table\"}],\"barpolar\":[{\"marker\":{\"line\":{\"color\":\"white\",\"width\":0.5},\"pattern\":{\"fillmode\":\"overlay\",\"size\":10,\"solidity\":0.2}},\"type\":\"barpolar\"}],\"pie\":[{\"automargin\":true,\"type\":\"pie\"}]},\"layout\":{\"autotypenumbers\":\"strict\",\"colorway\":[\"#636efa\",\"#EF553B\",\"#00cc96\",\"#ab63fa\",\"#FFA15A\",\"#19d3f3\",\"#FF6692\",\"#B6E880\",\"#FF97FF\",\"#FECB52\"],\"font\":{\"color\":\"#2a3f5f\"},\"hovermode\":\"closest\",\"hoverlabel\":{\"align\":\"left\"},\"paper_bgcolor\":\"white\",\"plot_bgcolor\":\"white\",\"polar\":{\"bgcolor\":\"white\",\"angularaxis\":{\"gridcolor\":\"#EBF0F8\",\"linecolor\":\"#EBF0F8\",\"ticks\":\"\"},\"radialaxis\":{\"gridcolor\":\"#EBF0F8\",\"linecolor\":\"#EBF0F8\",\"ticks\":\"\"}},\"ternary\":{\"bgcolor\":\"white\",\"aaxis\":{\"gridcolor\":\"#DFE8F3\",\"linecolor\":\"#A2B1C6\",\"ticks\":\"\"},\"baxis\":{\"gridcolor\":\"#DFE8F3\",\"linecolor\":\"#A2B1C6\",\"ticks\":\"\"},\"caxis\":{\"gridcolor\":\"#DFE8F3\",\"linecolor\":\"#A2B1C6\",\"ticks\":\"\"}},\"coloraxis\":{\"colorbar\":{\"outlinewidth\":0,\"ticks\":\"\"}},\"colorscale\":{\"sequential\":[[0.0,\"#0d0887\"],[0.1111111111111111,\"#46039f\"],[0.2222222222222222,\"#7201a8\"],[0.3333333333333333,\"#9c179e\"],[0.4444444444444444,\"#bd3786\"],[0.5555555555555556,\"#d8576b\"],[0.6666666666666666,\"#ed7953\"],[0.7777777777777778,\"#fb9f3a\"],[0.8888888888888888,\"#fdca26\"],[1.0,\"#f0f921\"]],\"sequentialminus\":[[0.0,\"#0d0887\"],[0.1111111111111111,\"#46039f\"],[0.2222222222222222,\"#7201a8\"],[0.3333333333333333,\"#9c179e\"],[0.4444444444444444,\"#bd3786\"],[0.5555555555555556,\"#d8576b\"],[0.6666666666666666,\"#ed7953\"],[0.7777777777777778,\"#fb9f3a\"],[0.8888888888888888,\"#fdca26\"],[1.0,\"#f0f921\"]],\"diverging\":[[0,\"#8e0152\"],[0.1,\"#c51b7d\"],[0.2,\"#de77ae\"],[0.3,\"#f1b6da\"],[0.4,\"#fde0ef\"],[0.5,\"#f7f7f7\"],[0.6,\"#e6f5d0\"],[0.7,\"#b8e186\"],[0.8,\"#7fbc41\"],[0.9,\"#4d9221\"],[1,\"#276419\"]]},\"xaxis\":{\"gridcolor\":\"#EBF0F8\",\"linecolor\":\"#EBF0F8\",\"ticks\":\"\",\"title\":{\"standoff\":15},\"zerolinecolor\":\"#EBF0F8\",\"automargin\":true,\"zerolinewidth\":2},\"yaxis\":{\"gridcolor\":\"#EBF0F8\",\"linecolor\":\"#EBF0F8\",\"ticks\":\"\",\"title\":{\"standoff\":15},\"zerolinecolor\":\"#EBF0F8\",\"automargin\":true,\"zerolinewidth\":2},\"scene\":{\"xaxis\":{\"backgroundcolor\":\"white\",\"gridcolor\":\"#DFE8F3\",\"linecolor\":\"#EBF0F8\",\"showbackground\":true,\"ticks\":\"\",\"zerolinecolor\":\"#EBF0F8\",\"gridwidth\":2},\"yaxis\":{\"backgroundcolor\":\"white\",\"gridcolor\":\"#DFE8F3\",\"linecolor\":\"#EBF0F8\",\"showbackground\":true,\"ticks\":\"\",\"zerolinecolor\":\"#EBF0F8\",\"gridwidth\":2},\"zaxis\":{\"backgroundcolor\":\"white\",\"gridcolor\":\"#DFE8F3\",\"linecolor\":\"#EBF0F8\",\"showbackground\":true,\"ticks\":\"\",\"zerolinecolor\":\"#EBF0F8\",\"gridwidth\":2}},\"shapedefaults\":{\"line\":{\"color\":\"#2a3f5f\"}},\"annotationdefaults\":{\"arrowcolor\":\"#2a3f5f\",\"arrowhead\":0,\"arrowwidth\":1},\"geo\":{\"bgcolor\":\"white\",\"landcolor\":\"white\",\"subunitcolor\":\"#C8D4E3\",\"showland\":true,\"showlakes\":true,\"lakecolor\":\"white\"},\"title\":{\"x\":0.05},\"mapbox\":{\"style\":\"light\"}}},\"xaxis\":{\"anchor\":\"y\",\"domain\":[0.0,1.0]},\"yaxis\":{\"anchor\":\"x\",\"domain\":[0.0,1.0]},\"title\":{\"text\":\"Hashtags Word Cloud\"}},                        {\"responsive\": true}                    ).then(function(){\n",
              "                            \n",
              "var gd = document.getElementById('a95d6256-0f9e-4c87-a99b-baee775377a3');\n",
              "var x = new MutationObserver(function (mutations, observer) {{\n",
              "        var display = window.getComputedStyle(gd).display;\n",
              "        if (!display || display === 'none') {{\n",
              "            console.log([gd, 'removed!']);\n",
              "            Plotly.purge(gd);\n",
              "            observer.disconnect();\n",
              "        }}\n",
              "}});\n",
              "\n",
              "// Listen for the removal of the full notebook cells\n",
              "var notebookContainer = gd.closest('#notebook-container');\n",
              "if (notebookContainer) {{\n",
              "    x.observe(notebookContainer, {childList: true});\n",
              "}}\n",
              "\n",
              "// Listen for the clearing of the current output cell\n",
              "var outputEl = gd.closest('.output');\n",
              "if (outputEl) {{\n",
              "    x.observe(outputEl, {childList: true});\n",
              "}}\n",
              "\n",
              "                        })                };                            </script>        </div>\n",
              "</body>\n",
              "</html>"
            ]
          },
          "metadata": {}
        }
      ],
      "source": [
        "#hashtags used in the posts using WordCloud\n",
        "\n",
        "from wordcloud import WordCloud\n",
        "\n",
        "hashtags = ' '.join(data['Hashtags'].astype(str))\n",
        "wordcloud = WordCloud().generate(hashtags)\n",
        "\n",
        "fig = px.imshow(wordcloud, title='Hashtags Word Cloud')\n",
        "fig.show()"
      ]
    },
    {
      "cell_type": "code",
      "execution_count": 20,
      "id": "361e6707",
      "metadata": {
        "execution": {
          "iopub.execute_input": "2023-07-18T16:39:34.095265Z",
          "iopub.status.busy": "2023-07-18T16:39:34.094875Z",
          "iopub.status.idle": "2023-07-18T16:39:34.123998Z",
          "shell.execute_reply": "2023-07-18T16:39:34.122688Z"
        },
        "papermill": {
          "duration": 0.043528,
          "end_time": "2023-07-18T16:39:34.126657",
          "exception": false,
          "start_time": "2023-07-18T16:39:34.083129",
          "status": "completed"
        },
        "tags": [],
        "colab": {
          "base_uri": "https://localhost:8080/",
          "height": 542
        },
        "id": "361e6707",
        "outputId": "33275623-33b4-4b06-b8f1-4fa59879b472"
      },
      "outputs": [
        {
          "output_type": "display_data",
          "data": {
            "text/html": [
              "<html>\n",
              "<head><meta charset=\"utf-8\" /></head>\n",
              "<body>\n",
              "    <div>            <script src=\"https://cdnjs.cloudflare.com/ajax/libs/mathjax/2.7.5/MathJax.js?config=TeX-AMS-MML_SVG\"></script><script type=\"text/javascript\">if (window.MathJax && window.MathJax.Hub && window.MathJax.Hub.Config) {window.MathJax.Hub.Config({SVG: {font: \"STIX-Web\"}});}</script>                <script type=\"text/javascript\">window.PlotlyConfig = {MathJaxConfig: 'local'};</script>\n",
              "        <script charset=\"utf-8\" src=\"https://cdn.plot.ly/plotly-2.35.2.min.js\"></script>                <div id=\"35efe4eb-2ac5-4249-aca0-432cfecd08cc\" class=\"plotly-graph-div\" style=\"height:525px; width:100%;\"></div>            <script type=\"text/javascript\">                                    window.PLOTLYENV=window.PLOTLYENV || {};                                    if (document.getElementById(\"35efe4eb-2ac5-4249-aca0-432cfecd08cc\")) {                    Plotly.newPlot(                        \"35efe4eb-2ac5-4249-aca0-432cfecd08cc\",                        [{\"colorscale\":[[0.0,\"rgb(103,0,31)\"],[0.1,\"rgb(178,24,43)\"],[0.2,\"rgb(214,96,77)\"],[0.3,\"rgb(244,165,130)\"],[0.4,\"rgb(253,219,199)\"],[0.5,\"rgb(247,247,247)\"],[0.6,\"rgb(209,229,240)\"],[0.7,\"rgb(146,197,222)\"],[0.8,\"rgb(67,147,195)\"],[0.9,\"rgb(33,102,172)\"],[1.0,\"rgb(5,48,97)\"]],\"x\":[\"Impressions\",\"From Home\",\"From Hashtags\",\"From Explore\",\"From Other\",\"Saves\",\"Comments\",\"Shares\",\"Likes\",\"Profile Visits\",\"Follows\"],\"y\":[\"Impressions\",\"From Home\",\"From Hashtags\",\"From Explore\",\"From Other\",\"Saves\",\"Comments\",\"Shares\",\"Likes\",\"Profile Visits\",\"Follows\"],\"z\":[[1.0,0.751716575227713,0.5283614326637862,0.906280512909407,0.6652471355030193,0.6780739195819052,-0.044276733148465704,0.6146358140588691,0.8678500649545852,0.7190880703780972,0.906589899176656],[0.751716575227713,1.0,0.17597388225783914,0.7414120483966637,0.4968244754297847,0.7687153168520168,0.01368212537897785,0.6686678302016504,0.6484581533083463,0.5273331369849138,0.6118603131777354],[0.5283614326637862,0.17597388225783914,1.0,0.1970760561225221,0.23123547422597016,0.302065424756625,0.15872540085447134,0.22366766840369628,0.6399439498617321,0.692447543836858,0.5327488820379198],[0.906280512909407,0.7414120483966637,0.1970760561225221,1.0,0.56752912160005,0.6799772182308966,-0.1634287816367994,0.6102630924834498,0.6951486999168617,0.524855143307541,0.8230611318936046],[0.6652471355030193,0.4968244754297847,0.23123547422597016,0.56752912160005,1.0,0.2794963701216994,-0.1166707293651518,0.18543465563639644,0.4776001010548404,0.6084273902940196,0.6183833475996449],[0.6780739195819052,0.7687153168520168,0.302065424756625,0.6799772182308966,0.2794963701216994,1.0,-0.02449806233353941,0.8485290226081809,0.775053686950064,0.3544649991706957,0.5580963798098604],[-0.044276733148465704,0.01368212537897785,0.15872540085447134,-0.1634287816367994,-0.1166707293651518,-0.02449806233353941,1.0,0.01230173282289337,0.1013903226329755,0.0928156201837299,-0.07245854350631616],[0.6146358140588691,0.6686678302016504,0.22366766840369628,0.6102630924834498,0.18543465563639644,0.8485290226081809,0.01230173282289337,1.0,0.6975077684050585,0.2517324655951574,0.49302206552265443],[0.8678500649545852,0.6484581533083463,0.6399439498617321,0.6951486999168617,0.4776001010548404,0.775053686950064,0.1013903226329755,0.6975077684050585,1.0,0.6142868385971575,0.7788378966791448],[0.7190880703780972,0.5273331369849138,0.692447543836858,0.524855143307541,0.6084273902940196,0.3544649991706957,0.0928156201837299,0.2517324655951574,0.6142868385971575,1.0,0.8160292438110855],[0.906589899176656,0.6118603131777354,0.5327488820379198,0.8230611318936046,0.6183833475996449,0.5580963798098604,-0.07245854350631616,0.49302206552265443,0.7788378966791448,0.8160292438110855,1.0]],\"zmax\":1,\"zmin\":-1,\"type\":\"heatmap\"}],                        {\"template\":{\"data\":{\"histogram2dcontour\":[{\"type\":\"histogram2dcontour\",\"colorbar\":{\"outlinewidth\":0,\"ticks\":\"\"},\"colorscale\":[[0.0,\"#0d0887\"],[0.1111111111111111,\"#46039f\"],[0.2222222222222222,\"#7201a8\"],[0.3333333333333333,\"#9c179e\"],[0.4444444444444444,\"#bd3786\"],[0.5555555555555556,\"#d8576b\"],[0.6666666666666666,\"#ed7953\"],[0.7777777777777778,\"#fb9f3a\"],[0.8888888888888888,\"#fdca26\"],[1.0,\"#f0f921\"]]}],\"choropleth\":[{\"type\":\"choropleth\",\"colorbar\":{\"outlinewidth\":0,\"ticks\":\"\"}}],\"histogram2d\":[{\"type\":\"histogram2d\",\"colorbar\":{\"outlinewidth\":0,\"ticks\":\"\"},\"colorscale\":[[0.0,\"#0d0887\"],[0.1111111111111111,\"#46039f\"],[0.2222222222222222,\"#7201a8\"],[0.3333333333333333,\"#9c179e\"],[0.4444444444444444,\"#bd3786\"],[0.5555555555555556,\"#d8576b\"],[0.6666666666666666,\"#ed7953\"],[0.7777777777777778,\"#fb9f3a\"],[0.8888888888888888,\"#fdca26\"],[1.0,\"#f0f921\"]]}],\"heatmap\":[{\"type\":\"heatmap\",\"colorbar\":{\"outlinewidth\":0,\"ticks\":\"\"},\"colorscale\":[[0.0,\"#0d0887\"],[0.1111111111111111,\"#46039f\"],[0.2222222222222222,\"#7201a8\"],[0.3333333333333333,\"#9c179e\"],[0.4444444444444444,\"#bd3786\"],[0.5555555555555556,\"#d8576b\"],[0.6666666666666666,\"#ed7953\"],[0.7777777777777778,\"#fb9f3a\"],[0.8888888888888888,\"#fdca26\"],[1.0,\"#f0f921\"]]}],\"heatmapgl\":[{\"type\":\"heatmapgl\",\"colorbar\":{\"outlinewidth\":0,\"ticks\":\"\"},\"colorscale\":[[0.0,\"#0d0887\"],[0.1111111111111111,\"#46039f\"],[0.2222222222222222,\"#7201a8\"],[0.3333333333333333,\"#9c179e\"],[0.4444444444444444,\"#bd3786\"],[0.5555555555555556,\"#d8576b\"],[0.6666666666666666,\"#ed7953\"],[0.7777777777777778,\"#fb9f3a\"],[0.8888888888888888,\"#fdca26\"],[1.0,\"#f0f921\"]]}],\"contourcarpet\":[{\"type\":\"contourcarpet\",\"colorbar\":{\"outlinewidth\":0,\"ticks\":\"\"}}],\"contour\":[{\"type\":\"contour\",\"colorbar\":{\"outlinewidth\":0,\"ticks\":\"\"},\"colorscale\":[[0.0,\"#0d0887\"],[0.1111111111111111,\"#46039f\"],[0.2222222222222222,\"#7201a8\"],[0.3333333333333333,\"#9c179e\"],[0.4444444444444444,\"#bd3786\"],[0.5555555555555556,\"#d8576b\"],[0.6666666666666666,\"#ed7953\"],[0.7777777777777778,\"#fb9f3a\"],[0.8888888888888888,\"#fdca26\"],[1.0,\"#f0f921\"]]}],\"surface\":[{\"type\":\"surface\",\"colorbar\":{\"outlinewidth\":0,\"ticks\":\"\"},\"colorscale\":[[0.0,\"#0d0887\"],[0.1111111111111111,\"#46039f\"],[0.2222222222222222,\"#7201a8\"],[0.3333333333333333,\"#9c179e\"],[0.4444444444444444,\"#bd3786\"],[0.5555555555555556,\"#d8576b\"],[0.6666666666666666,\"#ed7953\"],[0.7777777777777778,\"#fb9f3a\"],[0.8888888888888888,\"#fdca26\"],[1.0,\"#f0f921\"]]}],\"mesh3d\":[{\"type\":\"mesh3d\",\"colorbar\":{\"outlinewidth\":0,\"ticks\":\"\"}}],\"scatter\":[{\"fillpattern\":{\"fillmode\":\"overlay\",\"size\":10,\"solidity\":0.2},\"type\":\"scatter\"}],\"parcoords\":[{\"type\":\"parcoords\",\"line\":{\"colorbar\":{\"outlinewidth\":0,\"ticks\":\"\"}}}],\"scatterpolargl\":[{\"type\":\"scatterpolargl\",\"marker\":{\"colorbar\":{\"outlinewidth\":0,\"ticks\":\"\"}}}],\"bar\":[{\"error_x\":{\"color\":\"#2a3f5f\"},\"error_y\":{\"color\":\"#2a3f5f\"},\"marker\":{\"line\":{\"color\":\"white\",\"width\":0.5},\"pattern\":{\"fillmode\":\"overlay\",\"size\":10,\"solidity\":0.2}},\"type\":\"bar\"}],\"scattergeo\":[{\"type\":\"scattergeo\",\"marker\":{\"colorbar\":{\"outlinewidth\":0,\"ticks\":\"\"}}}],\"scatterpolar\":[{\"type\":\"scatterpolar\",\"marker\":{\"colorbar\":{\"outlinewidth\":0,\"ticks\":\"\"}}}],\"histogram\":[{\"marker\":{\"pattern\":{\"fillmode\":\"overlay\",\"size\":10,\"solidity\":0.2}},\"type\":\"histogram\"}],\"scattergl\":[{\"type\":\"scattergl\",\"marker\":{\"colorbar\":{\"outlinewidth\":0,\"ticks\":\"\"}}}],\"scatter3d\":[{\"type\":\"scatter3d\",\"line\":{\"colorbar\":{\"outlinewidth\":0,\"ticks\":\"\"}},\"marker\":{\"colorbar\":{\"outlinewidth\":0,\"ticks\":\"\"}}}],\"scattermapbox\":[{\"type\":\"scattermapbox\",\"marker\":{\"colorbar\":{\"outlinewidth\":0,\"ticks\":\"\"}}}],\"scatterternary\":[{\"type\":\"scatterternary\",\"marker\":{\"colorbar\":{\"outlinewidth\":0,\"ticks\":\"\"}}}],\"scattercarpet\":[{\"type\":\"scattercarpet\",\"marker\":{\"colorbar\":{\"outlinewidth\":0,\"ticks\":\"\"}}}],\"carpet\":[{\"aaxis\":{\"endlinecolor\":\"#2a3f5f\",\"gridcolor\":\"#C8D4E3\",\"linecolor\":\"#C8D4E3\",\"minorgridcolor\":\"#C8D4E3\",\"startlinecolor\":\"#2a3f5f\"},\"baxis\":{\"endlinecolor\":\"#2a3f5f\",\"gridcolor\":\"#C8D4E3\",\"linecolor\":\"#C8D4E3\",\"minorgridcolor\":\"#C8D4E3\",\"startlinecolor\":\"#2a3f5f\"},\"type\":\"carpet\"}],\"table\":[{\"cells\":{\"fill\":{\"color\":\"#EBF0F8\"},\"line\":{\"color\":\"white\"}},\"header\":{\"fill\":{\"color\":\"#C8D4E3\"},\"line\":{\"color\":\"white\"}},\"type\":\"table\"}],\"barpolar\":[{\"marker\":{\"line\":{\"color\":\"white\",\"width\":0.5},\"pattern\":{\"fillmode\":\"overlay\",\"size\":10,\"solidity\":0.2}},\"type\":\"barpolar\"}],\"pie\":[{\"automargin\":true,\"type\":\"pie\"}]},\"layout\":{\"autotypenumbers\":\"strict\",\"colorway\":[\"#636efa\",\"#EF553B\",\"#00cc96\",\"#ab63fa\",\"#FFA15A\",\"#19d3f3\",\"#FF6692\",\"#B6E880\",\"#FF97FF\",\"#FECB52\"],\"font\":{\"color\":\"#2a3f5f\"},\"hovermode\":\"closest\",\"hoverlabel\":{\"align\":\"left\"},\"paper_bgcolor\":\"white\",\"plot_bgcolor\":\"white\",\"polar\":{\"bgcolor\":\"white\",\"angularaxis\":{\"gridcolor\":\"#EBF0F8\",\"linecolor\":\"#EBF0F8\",\"ticks\":\"\"},\"radialaxis\":{\"gridcolor\":\"#EBF0F8\",\"linecolor\":\"#EBF0F8\",\"ticks\":\"\"}},\"ternary\":{\"bgcolor\":\"white\",\"aaxis\":{\"gridcolor\":\"#DFE8F3\",\"linecolor\":\"#A2B1C6\",\"ticks\":\"\"},\"baxis\":{\"gridcolor\":\"#DFE8F3\",\"linecolor\":\"#A2B1C6\",\"ticks\":\"\"},\"caxis\":{\"gridcolor\":\"#DFE8F3\",\"linecolor\":\"#A2B1C6\",\"ticks\":\"\"}},\"coloraxis\":{\"colorbar\":{\"outlinewidth\":0,\"ticks\":\"\"}},\"colorscale\":{\"sequential\":[[0.0,\"#0d0887\"],[0.1111111111111111,\"#46039f\"],[0.2222222222222222,\"#7201a8\"],[0.3333333333333333,\"#9c179e\"],[0.4444444444444444,\"#bd3786\"],[0.5555555555555556,\"#d8576b\"],[0.6666666666666666,\"#ed7953\"],[0.7777777777777778,\"#fb9f3a\"],[0.8888888888888888,\"#fdca26\"],[1.0,\"#f0f921\"]],\"sequentialminus\":[[0.0,\"#0d0887\"],[0.1111111111111111,\"#46039f\"],[0.2222222222222222,\"#7201a8\"],[0.3333333333333333,\"#9c179e\"],[0.4444444444444444,\"#bd3786\"],[0.5555555555555556,\"#d8576b\"],[0.6666666666666666,\"#ed7953\"],[0.7777777777777778,\"#fb9f3a\"],[0.8888888888888888,\"#fdca26\"],[1.0,\"#f0f921\"]],\"diverging\":[[0,\"#8e0152\"],[0.1,\"#c51b7d\"],[0.2,\"#de77ae\"],[0.3,\"#f1b6da\"],[0.4,\"#fde0ef\"],[0.5,\"#f7f7f7\"],[0.6,\"#e6f5d0\"],[0.7,\"#b8e186\"],[0.8,\"#7fbc41\"],[0.9,\"#4d9221\"],[1,\"#276419\"]]},\"xaxis\":{\"gridcolor\":\"#EBF0F8\",\"linecolor\":\"#EBF0F8\",\"ticks\":\"\",\"title\":{\"standoff\":15},\"zerolinecolor\":\"#EBF0F8\",\"automargin\":true,\"zerolinewidth\":2},\"yaxis\":{\"gridcolor\":\"#EBF0F8\",\"linecolor\":\"#EBF0F8\",\"ticks\":\"\",\"title\":{\"standoff\":15},\"zerolinecolor\":\"#EBF0F8\",\"automargin\":true,\"zerolinewidth\":2},\"scene\":{\"xaxis\":{\"backgroundcolor\":\"white\",\"gridcolor\":\"#DFE8F3\",\"linecolor\":\"#EBF0F8\",\"showbackground\":true,\"ticks\":\"\",\"zerolinecolor\":\"#EBF0F8\",\"gridwidth\":2},\"yaxis\":{\"backgroundcolor\":\"white\",\"gridcolor\":\"#DFE8F3\",\"linecolor\":\"#EBF0F8\",\"showbackground\":true,\"ticks\":\"\",\"zerolinecolor\":\"#EBF0F8\",\"gridwidth\":2},\"zaxis\":{\"backgroundcolor\":\"white\",\"gridcolor\":\"#DFE8F3\",\"linecolor\":\"#EBF0F8\",\"showbackground\":true,\"ticks\":\"\",\"zerolinecolor\":\"#EBF0F8\",\"gridwidth\":2}},\"shapedefaults\":{\"line\":{\"color\":\"#2a3f5f\"}},\"annotationdefaults\":{\"arrowcolor\":\"#2a3f5f\",\"arrowhead\":0,\"arrowwidth\":1},\"geo\":{\"bgcolor\":\"white\",\"landcolor\":\"white\",\"subunitcolor\":\"#C8D4E3\",\"showland\":true,\"showlakes\":true,\"lakecolor\":\"white\"},\"title\":{\"x\":0.05},\"mapbox\":{\"style\":\"light\"}}},\"title\":{\"text\":\"Correlation Matrix\"},\"xaxis\":{\"title\":{\"text\":\"Features\"}},\"yaxis\":{\"title\":{\"text\":\"Features\"}}},                        {\"responsive\": true}                    ).then(function(){\n",
              "                            \n",
              "var gd = document.getElementById('35efe4eb-2ac5-4249-aca0-432cfecd08cc');\n",
              "var x = new MutationObserver(function (mutations, observer) {{\n",
              "        var display = window.getComputedStyle(gd).display;\n",
              "        if (!display || display === 'none') {{\n",
              "            console.log([gd, 'removed!']);\n",
              "            Plotly.purge(gd);\n",
              "            observer.disconnect();\n",
              "        }}\n",
              "}});\n",
              "\n",
              "// Listen for the removal of the full notebook cells\n",
              "var notebookContainer = gd.closest('#notebook-container');\n",
              "if (notebookContainer) {{\n",
              "    x.observe(notebookContainer, {childList: true});\n",
              "}}\n",
              "\n",
              "// Listen for the clearing of the current output cell\n",
              "var outputEl = gd.closest('.output');\n",
              "if (outputEl) {{\n",
              "    x.observe(outputEl, {childList: true});\n",
              "}}\n",
              "\n",
              "                        })                };                            </script>        </div>\n",
              "</body>\n",
              "</html>"
            ]
          },
          "metadata": {}
        }
      ],
      "source": [
        "#correlation between features\n",
        "\n",
        "# Select only numerical columns for correlation calculation\n",
        "numerical_data = data.select_dtypes(include=['number'])\n",
        "\n",
        "corr_matrix = numerical_data.corr()\n",
        "\n",
        "fig = go.Figure(data=go.Heatmap(z=corr_matrix.values,\n",
        "                               x=corr_matrix.columns,\n",
        "                               y=corr_matrix.index,\n",
        "                               colorscale='RdBu',\n",
        "                               zmin=-1,\n",
        "                               zmax=1))\n",
        "\n",
        "fig.update_layout(title='Correlation Matrix',\n",
        "                  xaxis_title='Features',\n",
        "                  yaxis_title='Features')\n",
        "\n",
        "fig.show()"
      ]
    },
    {
      "cell_type": "code",
      "execution_count": 21,
      "id": "644c0531",
      "metadata": {
        "execution": {
          "iopub.execute_input": "2023-07-18T16:39:34.150550Z",
          "iopub.status.busy": "2023-07-18T16:39:34.150126Z",
          "iopub.status.idle": "2023-07-18T16:39:34.250280Z",
          "shell.execute_reply": "2023-07-18T16:39:34.249367Z"
        },
        "papermill": {
          "duration": 0.114605,
          "end_time": "2023-07-18T16:39:34.252565",
          "exception": false,
          "start_time": "2023-07-18T16:39:34.137960",
          "status": "completed"
        },
        "tags": [],
        "colab": {
          "base_uri": "https://localhost:8080/",
          "height": 542
        },
        "id": "644c0531",
        "outputId": "28911687-5767-435e-9965-0567ecb5a9dd"
      },
      "outputs": [
        {
          "output_type": "display_data",
          "data": {
            "text/html": [
              "<html>\n",
              "<head><meta charset=\"utf-8\" /></head>\n",
              "<body>\n",
              "    <div>            <script src=\"https://cdnjs.cloudflare.com/ajax/libs/mathjax/2.7.5/MathJax.js?config=TeX-AMS-MML_SVG\"></script><script type=\"text/javascript\">if (window.MathJax && window.MathJax.Hub && window.MathJax.Hub.Config) {window.MathJax.Hub.Config({SVG: {font: \"STIX-Web\"}});}</script>                <script type=\"text/javascript\">window.PlotlyConfig = {MathJaxConfig: 'local'};</script>\n",
              "        <script charset=\"utf-8\" src=\"https://cdn.plot.ly/plotly-2.35.2.min.js\"></script>                <div id=\"b52d0561-6914-4629-9bab-eb1851aa08d4\" class=\"plotly-graph-div\" style=\"height:525px; width:100%;\"></div>            <script type=\"text/javascript\">                                    window.PLOTLYENV=window.PLOTLYENV || {};                                    if (document.getElementById(\"b52d0561-6914-4629-9bab-eb1851aa08d4\")) {                    Plotly.newPlot(                        \"b52d0561-6914-4629-9bab-eb1851aa08d4\",                        [{\"alignmentgroup\":\"True\",\"hovertemplate\":\"Hashtag=%{x}\\u003cbr\\u003eCount=%{y}\\u003cextra\\u003e\\u003c\\u002fextra\\u003e\",\"legendgroup\":\"\",\"marker\":{\"color\":\"#636efa\",\"pattern\":{\"shape\":\"\"}},\"name\":\"\",\"offsetgroup\":\"\",\"orientation\":\"v\",\"showlegend\":false,\"textposition\":\"auto\",\"x\":[\"#amankharwal\",\"#thecleverprogrammer\",\"#python\",\"#machinelearning\",\"#datascience\",\"#pythonprogramming\",\"#ai\",\"#pythonprojects\",\"#artificialintelligence\",\"#data\",\"#dataanalytics\",\"#datascientist\",\"#pythoncode\",\"#dataanalysis\",\"#deeplearning\",\"#machinelearningprojects\",\"#datascienceprojects\",\"#programming\",\"#technology\",\"#coding\",\"#tech\",\"#computerscience\",\"#bigdata\",\"#pythonlearning\",\"#datavisualization\",\"#pythonprogrammer\",\"#pythondeveloper\",\"#pythoncoding\",\"#analytics\",\"#business\",\"#statistics\",\"#machinelearningalgorithms\",\"#dataanalyst\",\"#webdevelopment\",\"#algorithms\",\"#nlp\",\"#naturallanguageprocessing\",\"#software\",\"#algorithm\",\"#neuralnetwork\",\"#ml\",\"#database\",\"#css\",\"#sentimentanalysis\",\"#developer\",\"#java\",\"#machinelearningmodels\",\"#coder\",\"#html\",\"#softwaredeveloper\",\"#codinglife\",\"#webdeveloper\",\"#code\",\"#javascript\",\"#programmer\",\"#sentiment\",\"#datasciencetraining\",\"#datascienceeducation\",\"#iot\",\"#timeseriesmalaysia\",\"#time\",\"#datamining\",\"#datasciencecourse\",\"#datasciencejobs\",\"#timeseries\",\"#analysis\",\"#businessintelligence\",\"#timeseriesanalysis\",\"#neuralnetworks\",\"#webdesign\",\"#programmers\",\"#linux\",\"#programmingmemes\",\"#php\",\"#hacking\",\"#programminglife\",\"#dataviz\",\"#finance\",\"#casestudy\",\"#powerbi\",\"#tensorflow\",\"#zomato\",\"#money\",\"#investing\",\"#job\",\"#artificialintelligenceai\",\"#interview\",\"#businessmodel\",\"#stockmarket\",\"#trading\",\"#covid\",\"#investment\",\"#health\",\"#healthcare\",\"#dataanalysisprojects\",\"#businessanalytics\",\"#bitcoin\",\"#cryptocurrency\",\"#motivation\",\"#careerdevelopment\",\"#clustering\",\"#cloud\",\"#network\",\"#internet\",\"#stressdetection\",\"#stress\",\"#socialmedia\",\"#IT\",\"#goals\",\"#careers\",\"#students\",\"#resume\",\"#media\",\"#digitalmarketing\",\"#careeradvice\",\"#marketing\",\"#jobsearch\",\"#jobs\",\"#success\",\"#education\",\"#career\",\"#work\",\"#careergoals\",\"#tableau\",\"#candlestick\",\"#stocks\",\"#forex\",\"#candlestickcharts\",\"#cybersecurity\",\"#casestudies\",\"#amazonfinds\",\"#projects\",\"#codinginterview\",\"#pythonprogramminglanguage\",\"#roadmap\",\"#python3\",\"#security\",\"#innovation\",\"#otpverification\",\"#otp\",\"#recommendation\",\"#recommendationsystem\",\"#recommendations\",\"#recommended\",\"#softskills\",\"#bookstagram\",\"#pythonbooks\",\"#alexnet\",\"#boxplots\",\"#news\",\"#bigdataanalytics\",\"#flipkart\",\"#facebook\",\"#google\",\"#datascienceinterview\",\"#qrcodes\",\"#instagramreach\",\"#instagram\",\"#ukraine\",\"#whatsapp\",\"#pythonprogram\",\"@codergallery\",\"#sql\",\"#mysql\"],\"xaxis\":\"x\",\"y\":[118,118,109,98,95,95,92,90,90,89,88,84,78,78,76,44,44,26,25,24,23,21,20,19,19,19,19,19,16,16,14,13,12,10,9,9,9,9,9,8,8,7,7,7,7,7,7,7,7,7,7,7,7,7,7,7,6,6,6,6,6,6,6,6,6,6,6,6,5,5,5,5,5,5,5,5,5,4,4,4,4,4,4,4,4,4,4,4,3,3,3,3,3,3,3,3,3,3,2,2,2,2,2,2,2,2,2,2,2,2,2,2,2,2,2,2,2,2,2,2,2,2,2,2,2,2,2,2,2,2,2,2,2,2,2,2,2,2,2,2,2,2,2,2,1,1,1,1,1,1,1,1,1,1,1,1,1,1,1,1,1,1,1,1],\"yaxis\":\"y\",\"type\":\"bar\"}],                        {\"template\":{\"data\":{\"histogram2dcontour\":[{\"type\":\"histogram2dcontour\",\"colorbar\":{\"outlinewidth\":0,\"ticks\":\"\"},\"colorscale\":[[0.0,\"#0d0887\"],[0.1111111111111111,\"#46039f\"],[0.2222222222222222,\"#7201a8\"],[0.3333333333333333,\"#9c179e\"],[0.4444444444444444,\"#bd3786\"],[0.5555555555555556,\"#d8576b\"],[0.6666666666666666,\"#ed7953\"],[0.7777777777777778,\"#fb9f3a\"],[0.8888888888888888,\"#fdca26\"],[1.0,\"#f0f921\"]]}],\"choropleth\":[{\"type\":\"choropleth\",\"colorbar\":{\"outlinewidth\":0,\"ticks\":\"\"}}],\"histogram2d\":[{\"type\":\"histogram2d\",\"colorbar\":{\"outlinewidth\":0,\"ticks\":\"\"},\"colorscale\":[[0.0,\"#0d0887\"],[0.1111111111111111,\"#46039f\"],[0.2222222222222222,\"#7201a8\"],[0.3333333333333333,\"#9c179e\"],[0.4444444444444444,\"#bd3786\"],[0.5555555555555556,\"#d8576b\"],[0.6666666666666666,\"#ed7953\"],[0.7777777777777778,\"#fb9f3a\"],[0.8888888888888888,\"#fdca26\"],[1.0,\"#f0f921\"]]}],\"heatmap\":[{\"type\":\"heatmap\",\"colorbar\":{\"outlinewidth\":0,\"ticks\":\"\"},\"colorscale\":[[0.0,\"#0d0887\"],[0.1111111111111111,\"#46039f\"],[0.2222222222222222,\"#7201a8\"],[0.3333333333333333,\"#9c179e\"],[0.4444444444444444,\"#bd3786\"],[0.5555555555555556,\"#d8576b\"],[0.6666666666666666,\"#ed7953\"],[0.7777777777777778,\"#fb9f3a\"],[0.8888888888888888,\"#fdca26\"],[1.0,\"#f0f921\"]]}],\"heatmapgl\":[{\"type\":\"heatmapgl\",\"colorbar\":{\"outlinewidth\":0,\"ticks\":\"\"},\"colorscale\":[[0.0,\"#0d0887\"],[0.1111111111111111,\"#46039f\"],[0.2222222222222222,\"#7201a8\"],[0.3333333333333333,\"#9c179e\"],[0.4444444444444444,\"#bd3786\"],[0.5555555555555556,\"#d8576b\"],[0.6666666666666666,\"#ed7953\"],[0.7777777777777778,\"#fb9f3a\"],[0.8888888888888888,\"#fdca26\"],[1.0,\"#f0f921\"]]}],\"contourcarpet\":[{\"type\":\"contourcarpet\",\"colorbar\":{\"outlinewidth\":0,\"ticks\":\"\"}}],\"contour\":[{\"type\":\"contour\",\"colorbar\":{\"outlinewidth\":0,\"ticks\":\"\"},\"colorscale\":[[0.0,\"#0d0887\"],[0.1111111111111111,\"#46039f\"],[0.2222222222222222,\"#7201a8\"],[0.3333333333333333,\"#9c179e\"],[0.4444444444444444,\"#bd3786\"],[0.5555555555555556,\"#d8576b\"],[0.6666666666666666,\"#ed7953\"],[0.7777777777777778,\"#fb9f3a\"],[0.8888888888888888,\"#fdca26\"],[1.0,\"#f0f921\"]]}],\"surface\":[{\"type\":\"surface\",\"colorbar\":{\"outlinewidth\":0,\"ticks\":\"\"},\"colorscale\":[[0.0,\"#0d0887\"],[0.1111111111111111,\"#46039f\"],[0.2222222222222222,\"#7201a8\"],[0.3333333333333333,\"#9c179e\"],[0.4444444444444444,\"#bd3786\"],[0.5555555555555556,\"#d8576b\"],[0.6666666666666666,\"#ed7953\"],[0.7777777777777778,\"#fb9f3a\"],[0.8888888888888888,\"#fdca26\"],[1.0,\"#f0f921\"]]}],\"mesh3d\":[{\"type\":\"mesh3d\",\"colorbar\":{\"outlinewidth\":0,\"ticks\":\"\"}}],\"scatter\":[{\"fillpattern\":{\"fillmode\":\"overlay\",\"size\":10,\"solidity\":0.2},\"type\":\"scatter\"}],\"parcoords\":[{\"type\":\"parcoords\",\"line\":{\"colorbar\":{\"outlinewidth\":0,\"ticks\":\"\"}}}],\"scatterpolargl\":[{\"type\":\"scatterpolargl\",\"marker\":{\"colorbar\":{\"outlinewidth\":0,\"ticks\":\"\"}}}],\"bar\":[{\"error_x\":{\"color\":\"#2a3f5f\"},\"error_y\":{\"color\":\"#2a3f5f\"},\"marker\":{\"line\":{\"color\":\"white\",\"width\":0.5},\"pattern\":{\"fillmode\":\"overlay\",\"size\":10,\"solidity\":0.2}},\"type\":\"bar\"}],\"scattergeo\":[{\"type\":\"scattergeo\",\"marker\":{\"colorbar\":{\"outlinewidth\":0,\"ticks\":\"\"}}}],\"scatterpolar\":[{\"type\":\"scatterpolar\",\"marker\":{\"colorbar\":{\"outlinewidth\":0,\"ticks\":\"\"}}}],\"histogram\":[{\"marker\":{\"pattern\":{\"fillmode\":\"overlay\",\"size\":10,\"solidity\":0.2}},\"type\":\"histogram\"}],\"scattergl\":[{\"type\":\"scattergl\",\"marker\":{\"colorbar\":{\"outlinewidth\":0,\"ticks\":\"\"}}}],\"scatter3d\":[{\"type\":\"scatter3d\",\"line\":{\"colorbar\":{\"outlinewidth\":0,\"ticks\":\"\"}},\"marker\":{\"colorbar\":{\"outlinewidth\":0,\"ticks\":\"\"}}}],\"scattermapbox\":[{\"type\":\"scattermapbox\",\"marker\":{\"colorbar\":{\"outlinewidth\":0,\"ticks\":\"\"}}}],\"scatterternary\":[{\"type\":\"scatterternary\",\"marker\":{\"colorbar\":{\"outlinewidth\":0,\"ticks\":\"\"}}}],\"scattercarpet\":[{\"type\":\"scattercarpet\",\"marker\":{\"colorbar\":{\"outlinewidth\":0,\"ticks\":\"\"}}}],\"carpet\":[{\"aaxis\":{\"endlinecolor\":\"#2a3f5f\",\"gridcolor\":\"#C8D4E3\",\"linecolor\":\"#C8D4E3\",\"minorgridcolor\":\"#C8D4E3\",\"startlinecolor\":\"#2a3f5f\"},\"baxis\":{\"endlinecolor\":\"#2a3f5f\",\"gridcolor\":\"#C8D4E3\",\"linecolor\":\"#C8D4E3\",\"minorgridcolor\":\"#C8D4E3\",\"startlinecolor\":\"#2a3f5f\"},\"type\":\"carpet\"}],\"table\":[{\"cells\":{\"fill\":{\"color\":\"#EBF0F8\"},\"line\":{\"color\":\"white\"}},\"header\":{\"fill\":{\"color\":\"#C8D4E3\"},\"line\":{\"color\":\"white\"}},\"type\":\"table\"}],\"barpolar\":[{\"marker\":{\"line\":{\"color\":\"white\",\"width\":0.5},\"pattern\":{\"fillmode\":\"overlay\",\"size\":10,\"solidity\":0.2}},\"type\":\"barpolar\"}],\"pie\":[{\"automargin\":true,\"type\":\"pie\"}]},\"layout\":{\"autotypenumbers\":\"strict\",\"colorway\":[\"#636efa\",\"#EF553B\",\"#00cc96\",\"#ab63fa\",\"#FFA15A\",\"#19d3f3\",\"#FF6692\",\"#B6E880\",\"#FF97FF\",\"#FECB52\"],\"font\":{\"color\":\"#2a3f5f\"},\"hovermode\":\"closest\",\"hoverlabel\":{\"align\":\"left\"},\"paper_bgcolor\":\"white\",\"plot_bgcolor\":\"white\",\"polar\":{\"bgcolor\":\"white\",\"angularaxis\":{\"gridcolor\":\"#EBF0F8\",\"linecolor\":\"#EBF0F8\",\"ticks\":\"\"},\"radialaxis\":{\"gridcolor\":\"#EBF0F8\",\"linecolor\":\"#EBF0F8\",\"ticks\":\"\"}},\"ternary\":{\"bgcolor\":\"white\",\"aaxis\":{\"gridcolor\":\"#DFE8F3\",\"linecolor\":\"#A2B1C6\",\"ticks\":\"\"},\"baxis\":{\"gridcolor\":\"#DFE8F3\",\"linecolor\":\"#A2B1C6\",\"ticks\":\"\"},\"caxis\":{\"gridcolor\":\"#DFE8F3\",\"linecolor\":\"#A2B1C6\",\"ticks\":\"\"}},\"coloraxis\":{\"colorbar\":{\"outlinewidth\":0,\"ticks\":\"\"}},\"colorscale\":{\"sequential\":[[0.0,\"#0d0887\"],[0.1111111111111111,\"#46039f\"],[0.2222222222222222,\"#7201a8\"],[0.3333333333333333,\"#9c179e\"],[0.4444444444444444,\"#bd3786\"],[0.5555555555555556,\"#d8576b\"],[0.6666666666666666,\"#ed7953\"],[0.7777777777777778,\"#fb9f3a\"],[0.8888888888888888,\"#fdca26\"],[1.0,\"#f0f921\"]],\"sequentialminus\":[[0.0,\"#0d0887\"],[0.1111111111111111,\"#46039f\"],[0.2222222222222222,\"#7201a8\"],[0.3333333333333333,\"#9c179e\"],[0.4444444444444444,\"#bd3786\"],[0.5555555555555556,\"#d8576b\"],[0.6666666666666666,\"#ed7953\"],[0.7777777777777778,\"#fb9f3a\"],[0.8888888888888888,\"#fdca26\"],[1.0,\"#f0f921\"]],\"diverging\":[[0,\"#8e0152\"],[0.1,\"#c51b7d\"],[0.2,\"#de77ae\"],[0.3,\"#f1b6da\"],[0.4,\"#fde0ef\"],[0.5,\"#f7f7f7\"],[0.6,\"#e6f5d0\"],[0.7,\"#b8e186\"],[0.8,\"#7fbc41\"],[0.9,\"#4d9221\"],[1,\"#276419\"]]},\"xaxis\":{\"gridcolor\":\"#EBF0F8\",\"linecolor\":\"#EBF0F8\",\"ticks\":\"\",\"title\":{\"standoff\":15},\"zerolinecolor\":\"#EBF0F8\",\"automargin\":true,\"zerolinewidth\":2},\"yaxis\":{\"gridcolor\":\"#EBF0F8\",\"linecolor\":\"#EBF0F8\",\"ticks\":\"\",\"title\":{\"standoff\":15},\"zerolinecolor\":\"#EBF0F8\",\"automargin\":true,\"zerolinewidth\":2},\"scene\":{\"xaxis\":{\"backgroundcolor\":\"white\",\"gridcolor\":\"#DFE8F3\",\"linecolor\":\"#EBF0F8\",\"showbackground\":true,\"ticks\":\"\",\"zerolinecolor\":\"#EBF0F8\",\"gridwidth\":2},\"yaxis\":{\"backgroundcolor\":\"white\",\"gridcolor\":\"#DFE8F3\",\"linecolor\":\"#EBF0F8\",\"showbackground\":true,\"ticks\":\"\",\"zerolinecolor\":\"#EBF0F8\",\"gridwidth\":2},\"zaxis\":{\"backgroundcolor\":\"white\",\"gridcolor\":\"#DFE8F3\",\"linecolor\":\"#EBF0F8\",\"showbackground\":true,\"ticks\":\"\",\"zerolinecolor\":\"#EBF0F8\",\"gridwidth\":2}},\"shapedefaults\":{\"line\":{\"color\":\"#2a3f5f\"}},\"annotationdefaults\":{\"arrowcolor\":\"#2a3f5f\",\"arrowhead\":0,\"arrowwidth\":1},\"geo\":{\"bgcolor\":\"white\",\"landcolor\":\"white\",\"subunitcolor\":\"#C8D4E3\",\"showland\":true,\"showlakes\":true,\"lakecolor\":\"white\"},\"title\":{\"x\":0.05},\"mapbox\":{\"style\":\"light\"}}},\"xaxis\":{\"anchor\":\"y\",\"domain\":[0.0,1.0],\"title\":{\"text\":\"Hashtag\"}},\"yaxis\":{\"anchor\":\"x\",\"domain\":[0.0,1.0],\"title\":{\"text\":\"Count\"}},\"legend\":{\"tracegroupgap\":0},\"title\":{\"text\":\"Distribution of Hashtags\"},\"barmode\":\"relative\"},                        {\"responsive\": true}                    ).then(function(){\n",
              "                            \n",
              "var gd = document.getElementById('b52d0561-6914-4629-9bab-eb1851aa08d4');\n",
              "var x = new MutationObserver(function (mutations, observer) {{\n",
              "        var display = window.getComputedStyle(gd).display;\n",
              "        if (!display || display === 'none') {{\n",
              "            console.log([gd, 'removed!']);\n",
              "            Plotly.purge(gd);\n",
              "            observer.disconnect();\n",
              "        }}\n",
              "}});\n",
              "\n",
              "// Listen for the removal of the full notebook cells\n",
              "var notebookContainer = gd.closest('#notebook-container');\n",
              "if (notebookContainer) {{\n",
              "    x.observe(notebookContainer, {childList: true});\n",
              "}}\n",
              "\n",
              "// Listen for the clearing of the current output cell\n",
              "var outputEl = gd.closest('.output');\n",
              "if (outputEl) {{\n",
              "    x.observe(outputEl, {childList: true});\n",
              "}}\n",
              "\n",
              "                        })                };                            </script>        </div>\n",
              "</body>\n",
              "</html>"
            ]
          },
          "metadata": {}
        }
      ],
      "source": [
        "#distribution of hastags\n",
        "\n",
        "#list to store all hashtags\n",
        "all_hashtags = []\n",
        "\n",
        "#iterating through each row in the 'Hashtags' column\n",
        "for row in data['Hashtags']:\n",
        "    hashtags = str(row).split()\n",
        "    hashtags = [tag.strip() for tag in hashtags]\n",
        "    all_hashtags.extend(hashtags)\n",
        "\n",
        "#creating a dataframe to store the hashtag distribution\n",
        "hashtag_distribution = pd.Series(all_hashtags).value_counts().reset_index()\n",
        "hashtag_distribution.columns = ['Hashtag', 'Count']\n",
        "\n",
        "fig = px.bar(hashtag_distribution, x='Hashtag',\n",
        "             y='Count', title='Distribution of Hashtags')\n",
        "fig.show()"
      ]
    },
    {
      "cell_type": "code",
      "execution_count": 22,
      "id": "c288f624",
      "metadata": {
        "execution": {
          "iopub.execute_input": "2023-07-18T16:39:34.276428Z",
          "iopub.status.busy": "2023-07-18T16:39:34.276004Z",
          "iopub.status.idle": "2023-07-18T16:39:34.455645Z",
          "shell.execute_reply": "2023-07-18T16:39:34.454545Z"
        },
        "papermill": {
          "duration": 0.19455,
          "end_time": "2023-07-18T16:39:34.458261",
          "exception": false,
          "start_time": "2023-07-18T16:39:34.263711",
          "status": "completed"
        },
        "tags": [],
        "colab": {
          "base_uri": "https://localhost:8080/",
          "height": 1000
        },
        "id": "c288f624",
        "outputId": "1443a998-de67-44bb-9c65-082667bf8740"
      },
      "outputs": [
        {
          "output_type": "display_data",
          "data": {
            "text/html": [
              "<html>\n",
              "<head><meta charset=\"utf-8\" /></head>\n",
              "<body>\n",
              "    <div>            <script src=\"https://cdnjs.cloudflare.com/ajax/libs/mathjax/2.7.5/MathJax.js?config=TeX-AMS-MML_SVG\"></script><script type=\"text/javascript\">if (window.MathJax && window.MathJax.Hub && window.MathJax.Hub.Config) {window.MathJax.Hub.Config({SVG: {font: \"STIX-Web\"}});}</script>                <script type=\"text/javascript\">window.PlotlyConfig = {MathJaxConfig: 'local'};</script>\n",
              "        <script charset=\"utf-8\" src=\"https://cdn.plot.ly/plotly-2.35.2.min.js\"></script>                <div id=\"c9fb3bc3-06db-4a89-8aed-5beacde13460\" class=\"plotly-graph-div\" style=\"height:525px; width:100%;\"></div>            <script type=\"text/javascript\">                                    window.PLOTLYENV=window.PLOTLYENV || {};                                    if (document.getElementById(\"c9fb3bc3-06db-4a89-8aed-5beacde13460\")) {                    Plotly.newPlot(                        \"c9fb3bc3-06db-4a89-8aed-5beacde13460\",                        [{\"alignmentgroup\":\"True\",\"hovertemplate\":\"Hashtag=%{x}\\u003cbr\\u003eLikes=%{y}\\u003cextra\\u003e\\u003c\\u002fextra\\u003e\",\"legendgroup\":\"\",\"marker\":{\"color\":\"#636efa\",\"pattern\":{\"shape\":\"\"}},\"name\":\"\",\"offsetgroup\":\"\",\"orientation\":\"v\",\"showlegend\":false,\"textposition\":\"auto\",\"x\":[\"#finance\",\"#money\",\"#business\",\"#investing\",\"#investment\",\"#trading\",\"#stockmarket\",\"#data\",\"#datascience\",\"#dataanalysis\",\"#dataanalytics\",\"#datascientist\",\"#machinelearning\",\"#python\",\"#pythonprogramming\",\"#pythonprojects\",\"#pythoncode\",\"#artificialintelligence\",\"#ai\",\"#dataanalyst\",\"#amankharwal\",\"#thecleverprogrammer\",\"#healthcare\",\"#health\",\"#covid\",\"#deeplearning\",\"#machinelearningprojects\",\"#datascienceprojects\",\"#machinelearningmodels\",\"#pythonlearning\",\"#pythondeveloper\",\"#pythoncoding\",\"#pythonprogrammer\",\"#datavisualization\",\"#bigdata\",\"#dataviz\",\"#analytics\",\"#technology\",\"#programming\",\"#statistics\",\"#coding\",\"#businessintelligence\",\"#datamining\",\"#tech\",\"#computerscience\",\"#tableau\",\"#database\",\"#algorithm\",\"#algorithms\",\"#machinelearningalgorithms\",\"#ml\",\"#softskills\",\"#stocks\",\"#forex\",\"#candlestick\",\"#candlestickcharts\",\"#pythonbooks\",\"#bookstagram\",\"#powerbi\",\"#dataanalysisprojects\",\"#businessanalytics\",\"#neuralnetwork\",\"#neuralnetworks\",\"#tensorflow\",\"#artificialintelligenceai\",\"#alexnet\",\"#sentimentanalysis\",\"#sentiment\",\"#nlp\",\"#naturallanguageprocessing\",\"#timeseries\",\"#time\",\"#timeseriesanalysis\",\"#iot\",\"#analysis\",\"#timeseriesmalaysia\",\"#career\",\"#job\",\"#jobs\",\"#jobsearch\",\"#education\",\"#success\",\"#careergoals\",\"#motivation\",\"#work\",\"#careerdevelopment\",\"#careers\",\"#goals\",\"#resume\",\"#students\",\"#careeradvice\",\"#marketing\",\"#digitalmarketing\",\"#media\",\"#socialmedia\",\"#IT\",\"#webdevelopment\",\"#stress\",\"#stressdetection\",\"#zomato\",\"#casestudy\",\"#businessmodel\",\"#boxplots\",\"#programmer\",\"#developer\",\"#javascript\",\"#code\",\"#coder\",\"#java\",\"#html\",\"#css\",\"#webdeveloper\",\"#software\",\"#codinglife\",\"#softwaredeveloper\",\"#linux\",\"#programmingmemes\",\"#webdesign\",\"#programmers\",\"#php\",\"#programminglife\",\"#hacking\",\"#bitcoin\",\"#cryptocurrency\",\"#projects\",\"#casestudies\",\"#amazonfinds\",\"#security\",\"#cybersecurity\",\"#network\",\"#internet\",\"#cloud\",\"#innovation\",\"#google\",\"#facebook\",\"#interview\",\"#datascienceinterview\",\"#otp\",\"#otpverification\",\"#qrcodes\",\"#bigdataanalytics\",\"#recommended\",\"#recommendations\",\"#recommendationsystem\",\"#recommendation\",\"#codinginterview\",\"#flipkart\",\"#news\",\"#pythonprogram\",\"@codergallery\",\"#whatsapp\",\"#roadmap\",\"#ukraine\",\"#instagram\",\"#instagramreach\",\"#datasciencejobs\",\"#datasciencetraining\",\"#datascienceeducation\",\"#datasciencecourse\",\"#sql\",\"#mysql\",\"#python3\",\"#pythonprogramminglanguage\",\"#clustering\"],\"xaxis\":\"x\",\"y\":[529,529,2012,529,380,380,380,15577,16811,14301,15783,15203,17009,18238,16251,16818,14239,16015,16233,1845,20962,20962,729,729,729,13704,8958,8958,761,3659,3659,3659,3659,2382,2671,567,2001,3187,3355,1766,3129,728,728,2961,2818,265,887,1615,1615,2065,1058,144,218,218,218,218,124,124,529,387,387,1120,600,450,450,81,1057,1057,1238,1238,812,812,812,812,812,812,410,680,410,410,410,410,410,410,410,410,410,410,410,410,410,410,410,410,410,410,1456,302,302,328,328,328,76,878,878,878,878,878,878,878,878,878,1113,878,878,608,608,608,608,608,608,608,390,390,302,302,184,235,235,235,235,235,235,150,85,600,180,272,272,167,142,373,373,373,373,270,94,96,118,118,178,525,203,171,171,1814,1814,1814,1814,308,308,296,296,240],\"yaxis\":\"y\",\"type\":\"bar\"}],                        {\"template\":{\"data\":{\"histogram2dcontour\":[{\"type\":\"histogram2dcontour\",\"colorbar\":{\"outlinewidth\":0,\"ticks\":\"\"},\"colorscale\":[[0.0,\"#0d0887\"],[0.1111111111111111,\"#46039f\"],[0.2222222222222222,\"#7201a8\"],[0.3333333333333333,\"#9c179e\"],[0.4444444444444444,\"#bd3786\"],[0.5555555555555556,\"#d8576b\"],[0.6666666666666666,\"#ed7953\"],[0.7777777777777778,\"#fb9f3a\"],[0.8888888888888888,\"#fdca26\"],[1.0,\"#f0f921\"]]}],\"choropleth\":[{\"type\":\"choropleth\",\"colorbar\":{\"outlinewidth\":0,\"ticks\":\"\"}}],\"histogram2d\":[{\"type\":\"histogram2d\",\"colorbar\":{\"outlinewidth\":0,\"ticks\":\"\"},\"colorscale\":[[0.0,\"#0d0887\"],[0.1111111111111111,\"#46039f\"],[0.2222222222222222,\"#7201a8\"],[0.3333333333333333,\"#9c179e\"],[0.4444444444444444,\"#bd3786\"],[0.5555555555555556,\"#d8576b\"],[0.6666666666666666,\"#ed7953\"],[0.7777777777777778,\"#fb9f3a\"],[0.8888888888888888,\"#fdca26\"],[1.0,\"#f0f921\"]]}],\"heatmap\":[{\"type\":\"heatmap\",\"colorbar\":{\"outlinewidth\":0,\"ticks\":\"\"},\"colorscale\":[[0.0,\"#0d0887\"],[0.1111111111111111,\"#46039f\"],[0.2222222222222222,\"#7201a8\"],[0.3333333333333333,\"#9c179e\"],[0.4444444444444444,\"#bd3786\"],[0.5555555555555556,\"#d8576b\"],[0.6666666666666666,\"#ed7953\"],[0.7777777777777778,\"#fb9f3a\"],[0.8888888888888888,\"#fdca26\"],[1.0,\"#f0f921\"]]}],\"heatmapgl\":[{\"type\":\"heatmapgl\",\"colorbar\":{\"outlinewidth\":0,\"ticks\":\"\"},\"colorscale\":[[0.0,\"#0d0887\"],[0.1111111111111111,\"#46039f\"],[0.2222222222222222,\"#7201a8\"],[0.3333333333333333,\"#9c179e\"],[0.4444444444444444,\"#bd3786\"],[0.5555555555555556,\"#d8576b\"],[0.6666666666666666,\"#ed7953\"],[0.7777777777777778,\"#fb9f3a\"],[0.8888888888888888,\"#fdca26\"],[1.0,\"#f0f921\"]]}],\"contourcarpet\":[{\"type\":\"contourcarpet\",\"colorbar\":{\"outlinewidth\":0,\"ticks\":\"\"}}],\"contour\":[{\"type\":\"contour\",\"colorbar\":{\"outlinewidth\":0,\"ticks\":\"\"},\"colorscale\":[[0.0,\"#0d0887\"],[0.1111111111111111,\"#46039f\"],[0.2222222222222222,\"#7201a8\"],[0.3333333333333333,\"#9c179e\"],[0.4444444444444444,\"#bd3786\"],[0.5555555555555556,\"#d8576b\"],[0.6666666666666666,\"#ed7953\"],[0.7777777777777778,\"#fb9f3a\"],[0.8888888888888888,\"#fdca26\"],[1.0,\"#f0f921\"]]}],\"surface\":[{\"type\":\"surface\",\"colorbar\":{\"outlinewidth\":0,\"ticks\":\"\"},\"colorscale\":[[0.0,\"#0d0887\"],[0.1111111111111111,\"#46039f\"],[0.2222222222222222,\"#7201a8\"],[0.3333333333333333,\"#9c179e\"],[0.4444444444444444,\"#bd3786\"],[0.5555555555555556,\"#d8576b\"],[0.6666666666666666,\"#ed7953\"],[0.7777777777777778,\"#fb9f3a\"],[0.8888888888888888,\"#fdca26\"],[1.0,\"#f0f921\"]]}],\"mesh3d\":[{\"type\":\"mesh3d\",\"colorbar\":{\"outlinewidth\":0,\"ticks\":\"\"}}],\"scatter\":[{\"fillpattern\":{\"fillmode\":\"overlay\",\"size\":10,\"solidity\":0.2},\"type\":\"scatter\"}],\"parcoords\":[{\"type\":\"parcoords\",\"line\":{\"colorbar\":{\"outlinewidth\":0,\"ticks\":\"\"}}}],\"scatterpolargl\":[{\"type\":\"scatterpolargl\",\"marker\":{\"colorbar\":{\"outlinewidth\":0,\"ticks\":\"\"}}}],\"bar\":[{\"error_x\":{\"color\":\"#2a3f5f\"},\"error_y\":{\"color\":\"#2a3f5f\"},\"marker\":{\"line\":{\"color\":\"white\",\"width\":0.5},\"pattern\":{\"fillmode\":\"overlay\",\"size\":10,\"solidity\":0.2}},\"type\":\"bar\"}],\"scattergeo\":[{\"type\":\"scattergeo\",\"marker\":{\"colorbar\":{\"outlinewidth\":0,\"ticks\":\"\"}}}],\"scatterpolar\":[{\"type\":\"scatterpolar\",\"marker\":{\"colorbar\":{\"outlinewidth\":0,\"ticks\":\"\"}}}],\"histogram\":[{\"marker\":{\"pattern\":{\"fillmode\":\"overlay\",\"size\":10,\"solidity\":0.2}},\"type\":\"histogram\"}],\"scattergl\":[{\"type\":\"scattergl\",\"marker\":{\"colorbar\":{\"outlinewidth\":0,\"ticks\":\"\"}}}],\"scatter3d\":[{\"type\":\"scatter3d\",\"line\":{\"colorbar\":{\"outlinewidth\":0,\"ticks\":\"\"}},\"marker\":{\"colorbar\":{\"outlinewidth\":0,\"ticks\":\"\"}}}],\"scattermapbox\":[{\"type\":\"scattermapbox\",\"marker\":{\"colorbar\":{\"outlinewidth\":0,\"ticks\":\"\"}}}],\"scatterternary\":[{\"type\":\"scatterternary\",\"marker\":{\"colorbar\":{\"outlinewidth\":0,\"ticks\":\"\"}}}],\"scattercarpet\":[{\"type\":\"scattercarpet\",\"marker\":{\"colorbar\":{\"outlinewidth\":0,\"ticks\":\"\"}}}],\"carpet\":[{\"aaxis\":{\"endlinecolor\":\"#2a3f5f\",\"gridcolor\":\"#C8D4E3\",\"linecolor\":\"#C8D4E3\",\"minorgridcolor\":\"#C8D4E3\",\"startlinecolor\":\"#2a3f5f\"},\"baxis\":{\"endlinecolor\":\"#2a3f5f\",\"gridcolor\":\"#C8D4E3\",\"linecolor\":\"#C8D4E3\",\"minorgridcolor\":\"#C8D4E3\",\"startlinecolor\":\"#2a3f5f\"},\"type\":\"carpet\"}],\"table\":[{\"cells\":{\"fill\":{\"color\":\"#EBF0F8\"},\"line\":{\"color\":\"white\"}},\"header\":{\"fill\":{\"color\":\"#C8D4E3\"},\"line\":{\"color\":\"white\"}},\"type\":\"table\"}],\"barpolar\":[{\"marker\":{\"line\":{\"color\":\"white\",\"width\":0.5},\"pattern\":{\"fillmode\":\"overlay\",\"size\":10,\"solidity\":0.2}},\"type\":\"barpolar\"}],\"pie\":[{\"automargin\":true,\"type\":\"pie\"}]},\"layout\":{\"autotypenumbers\":\"strict\",\"colorway\":[\"#636efa\",\"#EF553B\",\"#00cc96\",\"#ab63fa\",\"#FFA15A\",\"#19d3f3\",\"#FF6692\",\"#B6E880\",\"#FF97FF\",\"#FECB52\"],\"font\":{\"color\":\"#2a3f5f\"},\"hovermode\":\"closest\",\"hoverlabel\":{\"align\":\"left\"},\"paper_bgcolor\":\"white\",\"plot_bgcolor\":\"white\",\"polar\":{\"bgcolor\":\"white\",\"angularaxis\":{\"gridcolor\":\"#EBF0F8\",\"linecolor\":\"#EBF0F8\",\"ticks\":\"\"},\"radialaxis\":{\"gridcolor\":\"#EBF0F8\",\"linecolor\":\"#EBF0F8\",\"ticks\":\"\"}},\"ternary\":{\"bgcolor\":\"white\",\"aaxis\":{\"gridcolor\":\"#DFE8F3\",\"linecolor\":\"#A2B1C6\",\"ticks\":\"\"},\"baxis\":{\"gridcolor\":\"#DFE8F3\",\"linecolor\":\"#A2B1C6\",\"ticks\":\"\"},\"caxis\":{\"gridcolor\":\"#DFE8F3\",\"linecolor\":\"#A2B1C6\",\"ticks\":\"\"}},\"coloraxis\":{\"colorbar\":{\"outlinewidth\":0,\"ticks\":\"\"}},\"colorscale\":{\"sequential\":[[0.0,\"#0d0887\"],[0.1111111111111111,\"#46039f\"],[0.2222222222222222,\"#7201a8\"],[0.3333333333333333,\"#9c179e\"],[0.4444444444444444,\"#bd3786\"],[0.5555555555555556,\"#d8576b\"],[0.6666666666666666,\"#ed7953\"],[0.7777777777777778,\"#fb9f3a\"],[0.8888888888888888,\"#fdca26\"],[1.0,\"#f0f921\"]],\"sequentialminus\":[[0.0,\"#0d0887\"],[0.1111111111111111,\"#46039f\"],[0.2222222222222222,\"#7201a8\"],[0.3333333333333333,\"#9c179e\"],[0.4444444444444444,\"#bd3786\"],[0.5555555555555556,\"#d8576b\"],[0.6666666666666666,\"#ed7953\"],[0.7777777777777778,\"#fb9f3a\"],[0.8888888888888888,\"#fdca26\"],[1.0,\"#f0f921\"]],\"diverging\":[[0,\"#8e0152\"],[0.1,\"#c51b7d\"],[0.2,\"#de77ae\"],[0.3,\"#f1b6da\"],[0.4,\"#fde0ef\"],[0.5,\"#f7f7f7\"],[0.6,\"#e6f5d0\"],[0.7,\"#b8e186\"],[0.8,\"#7fbc41\"],[0.9,\"#4d9221\"],[1,\"#276419\"]]},\"xaxis\":{\"gridcolor\":\"#EBF0F8\",\"linecolor\":\"#EBF0F8\",\"ticks\":\"\",\"title\":{\"standoff\":15},\"zerolinecolor\":\"#EBF0F8\",\"automargin\":true,\"zerolinewidth\":2},\"yaxis\":{\"gridcolor\":\"#EBF0F8\",\"linecolor\":\"#EBF0F8\",\"ticks\":\"\",\"title\":{\"standoff\":15},\"zerolinecolor\":\"#EBF0F8\",\"automargin\":true,\"zerolinewidth\":2},\"scene\":{\"xaxis\":{\"backgroundcolor\":\"white\",\"gridcolor\":\"#DFE8F3\",\"linecolor\":\"#EBF0F8\",\"showbackground\":true,\"ticks\":\"\",\"zerolinecolor\":\"#EBF0F8\",\"gridwidth\":2},\"yaxis\":{\"backgroundcolor\":\"white\",\"gridcolor\":\"#DFE8F3\",\"linecolor\":\"#EBF0F8\",\"showbackground\":true,\"ticks\":\"\",\"zerolinecolor\":\"#EBF0F8\",\"gridwidth\":2},\"zaxis\":{\"backgroundcolor\":\"white\",\"gridcolor\":\"#DFE8F3\",\"linecolor\":\"#EBF0F8\",\"showbackground\":true,\"ticks\":\"\",\"zerolinecolor\":\"#EBF0F8\",\"gridwidth\":2}},\"shapedefaults\":{\"line\":{\"color\":\"#2a3f5f\"}},\"annotationdefaults\":{\"arrowcolor\":\"#2a3f5f\",\"arrowhead\":0,\"arrowwidth\":1},\"geo\":{\"bgcolor\":\"white\",\"landcolor\":\"white\",\"subunitcolor\":\"#C8D4E3\",\"showland\":true,\"showlakes\":true,\"lakecolor\":\"white\"},\"title\":{\"x\":0.05},\"mapbox\":{\"style\":\"light\"}}},\"xaxis\":{\"anchor\":\"y\",\"domain\":[0.0,1.0],\"title\":{\"text\":\"Hashtag\"}},\"yaxis\":{\"anchor\":\"x\",\"domain\":[0.0,1.0],\"title\":{\"text\":\"Likes\"}},\"legend\":{\"tracegroupgap\":0},\"title\":{\"text\":\"Likes Distribution for Each Hashtag\"},\"barmode\":\"relative\"},                        {\"responsive\": true}                    ).then(function(){\n",
              "                            \n",
              "var gd = document.getElementById('c9fb3bc3-06db-4a89-8aed-5beacde13460');\n",
              "var x = new MutationObserver(function (mutations, observer) {{\n",
              "        var display = window.getComputedStyle(gd).display;\n",
              "        if (!display || display === 'none') {{\n",
              "            console.log([gd, 'removed!']);\n",
              "            Plotly.purge(gd);\n",
              "            observer.disconnect();\n",
              "        }}\n",
              "}});\n",
              "\n",
              "// Listen for the removal of the full notebook cells\n",
              "var notebookContainer = gd.closest('#notebook-container');\n",
              "if (notebookContainer) {{\n",
              "    x.observe(notebookContainer, {childList: true});\n",
              "}}\n",
              "\n",
              "// Listen for the clearing of the current output cell\n",
              "var outputEl = gd.closest('.output');\n",
              "if (outputEl) {{\n",
              "    x.observe(outputEl, {childList: true});\n",
              "}}\n",
              "\n",
              "                        })                };                            </script>        </div>\n",
              "</body>\n",
              "</html>"
            ]
          },
          "metadata": {}
        },
        {
          "output_type": "display_data",
          "data": {
            "text/html": [
              "<html>\n",
              "<head><meta charset=\"utf-8\" /></head>\n",
              "<body>\n",
              "    <div>            <script src=\"https://cdnjs.cloudflare.com/ajax/libs/mathjax/2.7.5/MathJax.js?config=TeX-AMS-MML_SVG\"></script><script type=\"text/javascript\">if (window.MathJax && window.MathJax.Hub && window.MathJax.Hub.Config) {window.MathJax.Hub.Config({SVG: {font: \"STIX-Web\"}});}</script>                <script type=\"text/javascript\">window.PlotlyConfig = {MathJaxConfig: 'local'};</script>\n",
              "        <script charset=\"utf-8\" src=\"https://cdn.plot.ly/plotly-2.35.2.min.js\"></script>                <div id=\"3d2093e9-b509-4220-b0d1-50d6cf39280c\" class=\"plotly-graph-div\" style=\"height:525px; width:100%;\"></div>            <script type=\"text/javascript\">                                    window.PLOTLYENV=window.PLOTLYENV || {};                                    if (document.getElementById(\"3d2093e9-b509-4220-b0d1-50d6cf39280c\")) {                    Plotly.newPlot(                        \"3d2093e9-b509-4220-b0d1-50d6cf39280c\",                        [{\"alignmentgroup\":\"True\",\"hovertemplate\":\"Hashtag=%{x}\\u003cbr\\u003eImpressions=%{y}\\u003cextra\\u003e\\u003c\\u002fextra\\u003e\",\"legendgroup\":\"\",\"marker\":{\"color\":\"#636efa\",\"pattern\":{\"shape\":\"\"}},\"name\":\"\",\"offsetgroup\":\"\",\"orientation\":\"v\",\"showlegend\":false,\"textposition\":\"auto\",\"x\":[\"#finance\",\"#money\",\"#business\",\"#investing\",\"#investment\",\"#trading\",\"#stockmarket\",\"#data\",\"#datascience\",\"#dataanalysis\",\"#dataanalytics\",\"#datascientist\",\"#machinelearning\",\"#python\",\"#pythonprogramming\",\"#pythonprojects\",\"#pythoncode\",\"#artificialintelligence\",\"#ai\",\"#dataanalyst\",\"#amankharwal\",\"#thecleverprogrammer\",\"#healthcare\",\"#health\",\"#covid\",\"#deeplearning\",\"#machinelearningprojects\",\"#datascienceprojects\",\"#machinelearningmodels\",\"#pythonlearning\",\"#pythondeveloper\",\"#pythoncoding\",\"#pythonprogrammer\",\"#datavisualization\",\"#bigdata\",\"#dataviz\",\"#analytics\",\"#technology\",\"#programming\",\"#statistics\",\"#coding\",\"#businessintelligence\",\"#datamining\",\"#tech\",\"#computerscience\",\"#tableau\",\"#database\",\"#algorithm\",\"#algorithms\",\"#machinelearningalgorithms\",\"#ml\",\"#softskills\",\"#stocks\",\"#forex\",\"#candlestick\",\"#candlestickcharts\",\"#pythonbooks\",\"#bookstagram\",\"#powerbi\",\"#dataanalysisprojects\",\"#businessanalytics\",\"#neuralnetwork\",\"#neuralnetworks\",\"#tensorflow\",\"#artificialintelligenceai\",\"#alexnet\",\"#sentimentanalysis\",\"#sentiment\",\"#nlp\",\"#naturallanguageprocessing\",\"#timeseries\",\"#time\",\"#timeseriesanalysis\",\"#iot\",\"#analysis\",\"#timeseriesmalaysia\",\"#career\",\"#job\",\"#jobs\",\"#jobsearch\",\"#education\",\"#success\",\"#careergoals\",\"#motivation\",\"#work\",\"#careerdevelopment\",\"#careers\",\"#goals\",\"#resume\",\"#students\",\"#careeradvice\",\"#marketing\",\"#digitalmarketing\",\"#media\",\"#socialmedia\",\"#IT\",\"#webdevelopment\",\"#stress\",\"#stressdetection\",\"#zomato\",\"#casestudy\",\"#businessmodel\",\"#boxplots\",\"#programmer\",\"#developer\",\"#javascript\",\"#code\",\"#coder\",\"#java\",\"#html\",\"#css\",\"#webdeveloper\",\"#software\",\"#codinglife\",\"#softwaredeveloper\",\"#linux\",\"#programmingmemes\",\"#webdesign\",\"#programmers\",\"#php\",\"#programminglife\",\"#hacking\",\"#bitcoin\",\"#cryptocurrency\",\"#projects\",\"#casestudies\",\"#amazonfinds\",\"#security\",\"#cybersecurity\",\"#network\",\"#internet\",\"#cloud\",\"#innovation\",\"#google\",\"#facebook\",\"#interview\",\"#datascienceinterview\",\"#otp\",\"#otpverification\",\"#qrcodes\",\"#bigdataanalytics\",\"#recommended\",\"#recommendations\",\"#recommendationsystem\",\"#recommendation\",\"#codinginterview\",\"#flipkart\",\"#news\",\"#pythonprogram\",\"@codergallery\",\"#whatsapp\",\"#roadmap\",\"#ukraine\",\"#instagram\",\"#instagramreach\",\"#datasciencejobs\",\"#datasciencetraining\",\"#datascienceeducation\",\"#datasciencecourse\",\"#sql\",\"#mysql\",\"#python3\",\"#pythonprogramminglanguage\",\"#clustering\"],\"xaxis\":\"x\",\"y\":[14224,14224,51387,14224,9757,9757,9757,515781,555660,488943,528807,514766,563647,578243,525346,567608,470276,537210,543047,47051,703186,703186,18292,18292,18292,476337,328447,328447,27201,135901,135901,135901,135901,64864,70884,15438,53464,85523,90132,47283,83264,17971,17971,78655,75019,6506,22088,57289,57289,71529,30316,3884,5837,5837,5837,5837,3541,3541,13389,9401,9401,31660,18529,14240,14240,2218,34102,34102,42567,42567,22444,22444,22444,22444,22444,22444,8004,14856,8004,8004,8004,8004,8004,8004,8004,8004,8004,8004,8004,8004,8004,8004,8004,8004,8004,8004,35456,12336,12336,10844,10844,10844,2064,22843,22843,22843,22843,22843,22843,22843,22843,22843,29024,22843,22843,15991,15991,15991,15991,15991,15991,15991,14121,14121,7848,7848,6030,6181,6181,6181,6181,6181,6181,3854,2327,16139,4998,8030,8030,3786,3988,10036,10036,10036,10036,6852,3601,3525,2957,2957,5538,10682,8001,7231,7231,86691,86691,86691,86691,17713,17713,15991,15991,9870],\"yaxis\":\"y\",\"type\":\"bar\"}],                        {\"template\":{\"data\":{\"histogram2dcontour\":[{\"type\":\"histogram2dcontour\",\"colorbar\":{\"outlinewidth\":0,\"ticks\":\"\"},\"colorscale\":[[0.0,\"#0d0887\"],[0.1111111111111111,\"#46039f\"],[0.2222222222222222,\"#7201a8\"],[0.3333333333333333,\"#9c179e\"],[0.4444444444444444,\"#bd3786\"],[0.5555555555555556,\"#d8576b\"],[0.6666666666666666,\"#ed7953\"],[0.7777777777777778,\"#fb9f3a\"],[0.8888888888888888,\"#fdca26\"],[1.0,\"#f0f921\"]]}],\"choropleth\":[{\"type\":\"choropleth\",\"colorbar\":{\"outlinewidth\":0,\"ticks\":\"\"}}],\"histogram2d\":[{\"type\":\"histogram2d\",\"colorbar\":{\"outlinewidth\":0,\"ticks\":\"\"},\"colorscale\":[[0.0,\"#0d0887\"],[0.1111111111111111,\"#46039f\"],[0.2222222222222222,\"#7201a8\"],[0.3333333333333333,\"#9c179e\"],[0.4444444444444444,\"#bd3786\"],[0.5555555555555556,\"#d8576b\"],[0.6666666666666666,\"#ed7953\"],[0.7777777777777778,\"#fb9f3a\"],[0.8888888888888888,\"#fdca26\"],[1.0,\"#f0f921\"]]}],\"heatmap\":[{\"type\":\"heatmap\",\"colorbar\":{\"outlinewidth\":0,\"ticks\":\"\"},\"colorscale\":[[0.0,\"#0d0887\"],[0.1111111111111111,\"#46039f\"],[0.2222222222222222,\"#7201a8\"],[0.3333333333333333,\"#9c179e\"],[0.4444444444444444,\"#bd3786\"],[0.5555555555555556,\"#d8576b\"],[0.6666666666666666,\"#ed7953\"],[0.7777777777777778,\"#fb9f3a\"],[0.8888888888888888,\"#fdca26\"],[1.0,\"#f0f921\"]]}],\"heatmapgl\":[{\"type\":\"heatmapgl\",\"colorbar\":{\"outlinewidth\":0,\"ticks\":\"\"},\"colorscale\":[[0.0,\"#0d0887\"],[0.1111111111111111,\"#46039f\"],[0.2222222222222222,\"#7201a8\"],[0.3333333333333333,\"#9c179e\"],[0.4444444444444444,\"#bd3786\"],[0.5555555555555556,\"#d8576b\"],[0.6666666666666666,\"#ed7953\"],[0.7777777777777778,\"#fb9f3a\"],[0.8888888888888888,\"#fdca26\"],[1.0,\"#f0f921\"]]}],\"contourcarpet\":[{\"type\":\"contourcarpet\",\"colorbar\":{\"outlinewidth\":0,\"ticks\":\"\"}}],\"contour\":[{\"type\":\"contour\",\"colorbar\":{\"outlinewidth\":0,\"ticks\":\"\"},\"colorscale\":[[0.0,\"#0d0887\"],[0.1111111111111111,\"#46039f\"],[0.2222222222222222,\"#7201a8\"],[0.3333333333333333,\"#9c179e\"],[0.4444444444444444,\"#bd3786\"],[0.5555555555555556,\"#d8576b\"],[0.6666666666666666,\"#ed7953\"],[0.7777777777777778,\"#fb9f3a\"],[0.8888888888888888,\"#fdca26\"],[1.0,\"#f0f921\"]]}],\"surface\":[{\"type\":\"surface\",\"colorbar\":{\"outlinewidth\":0,\"ticks\":\"\"},\"colorscale\":[[0.0,\"#0d0887\"],[0.1111111111111111,\"#46039f\"],[0.2222222222222222,\"#7201a8\"],[0.3333333333333333,\"#9c179e\"],[0.4444444444444444,\"#bd3786\"],[0.5555555555555556,\"#d8576b\"],[0.6666666666666666,\"#ed7953\"],[0.7777777777777778,\"#fb9f3a\"],[0.8888888888888888,\"#fdca26\"],[1.0,\"#f0f921\"]]}],\"mesh3d\":[{\"type\":\"mesh3d\",\"colorbar\":{\"outlinewidth\":0,\"ticks\":\"\"}}],\"scatter\":[{\"fillpattern\":{\"fillmode\":\"overlay\",\"size\":10,\"solidity\":0.2},\"type\":\"scatter\"}],\"parcoords\":[{\"type\":\"parcoords\",\"line\":{\"colorbar\":{\"outlinewidth\":0,\"ticks\":\"\"}}}],\"scatterpolargl\":[{\"type\":\"scatterpolargl\",\"marker\":{\"colorbar\":{\"outlinewidth\":0,\"ticks\":\"\"}}}],\"bar\":[{\"error_x\":{\"color\":\"#2a3f5f\"},\"error_y\":{\"color\":\"#2a3f5f\"},\"marker\":{\"line\":{\"color\":\"white\",\"width\":0.5},\"pattern\":{\"fillmode\":\"overlay\",\"size\":10,\"solidity\":0.2}},\"type\":\"bar\"}],\"scattergeo\":[{\"type\":\"scattergeo\",\"marker\":{\"colorbar\":{\"outlinewidth\":0,\"ticks\":\"\"}}}],\"scatterpolar\":[{\"type\":\"scatterpolar\",\"marker\":{\"colorbar\":{\"outlinewidth\":0,\"ticks\":\"\"}}}],\"histogram\":[{\"marker\":{\"pattern\":{\"fillmode\":\"overlay\",\"size\":10,\"solidity\":0.2}},\"type\":\"histogram\"}],\"scattergl\":[{\"type\":\"scattergl\",\"marker\":{\"colorbar\":{\"outlinewidth\":0,\"ticks\":\"\"}}}],\"scatter3d\":[{\"type\":\"scatter3d\",\"line\":{\"colorbar\":{\"outlinewidth\":0,\"ticks\":\"\"}},\"marker\":{\"colorbar\":{\"outlinewidth\":0,\"ticks\":\"\"}}}],\"scattermapbox\":[{\"type\":\"scattermapbox\",\"marker\":{\"colorbar\":{\"outlinewidth\":0,\"ticks\":\"\"}}}],\"scatterternary\":[{\"type\":\"scatterternary\",\"marker\":{\"colorbar\":{\"outlinewidth\":0,\"ticks\":\"\"}}}],\"scattercarpet\":[{\"type\":\"scattercarpet\",\"marker\":{\"colorbar\":{\"outlinewidth\":0,\"ticks\":\"\"}}}],\"carpet\":[{\"aaxis\":{\"endlinecolor\":\"#2a3f5f\",\"gridcolor\":\"#C8D4E3\",\"linecolor\":\"#C8D4E3\",\"minorgridcolor\":\"#C8D4E3\",\"startlinecolor\":\"#2a3f5f\"},\"baxis\":{\"endlinecolor\":\"#2a3f5f\",\"gridcolor\":\"#C8D4E3\",\"linecolor\":\"#C8D4E3\",\"minorgridcolor\":\"#C8D4E3\",\"startlinecolor\":\"#2a3f5f\"},\"type\":\"carpet\"}],\"table\":[{\"cells\":{\"fill\":{\"color\":\"#EBF0F8\"},\"line\":{\"color\":\"white\"}},\"header\":{\"fill\":{\"color\":\"#C8D4E3\"},\"line\":{\"color\":\"white\"}},\"type\":\"table\"}],\"barpolar\":[{\"marker\":{\"line\":{\"color\":\"white\",\"width\":0.5},\"pattern\":{\"fillmode\":\"overlay\",\"size\":10,\"solidity\":0.2}},\"type\":\"barpolar\"}],\"pie\":[{\"automargin\":true,\"type\":\"pie\"}]},\"layout\":{\"autotypenumbers\":\"strict\",\"colorway\":[\"#636efa\",\"#EF553B\",\"#00cc96\",\"#ab63fa\",\"#FFA15A\",\"#19d3f3\",\"#FF6692\",\"#B6E880\",\"#FF97FF\",\"#FECB52\"],\"font\":{\"color\":\"#2a3f5f\"},\"hovermode\":\"closest\",\"hoverlabel\":{\"align\":\"left\"},\"paper_bgcolor\":\"white\",\"plot_bgcolor\":\"white\",\"polar\":{\"bgcolor\":\"white\",\"angularaxis\":{\"gridcolor\":\"#EBF0F8\",\"linecolor\":\"#EBF0F8\",\"ticks\":\"\"},\"radialaxis\":{\"gridcolor\":\"#EBF0F8\",\"linecolor\":\"#EBF0F8\",\"ticks\":\"\"}},\"ternary\":{\"bgcolor\":\"white\",\"aaxis\":{\"gridcolor\":\"#DFE8F3\",\"linecolor\":\"#A2B1C6\",\"ticks\":\"\"},\"baxis\":{\"gridcolor\":\"#DFE8F3\",\"linecolor\":\"#A2B1C6\",\"ticks\":\"\"},\"caxis\":{\"gridcolor\":\"#DFE8F3\",\"linecolor\":\"#A2B1C6\",\"ticks\":\"\"}},\"coloraxis\":{\"colorbar\":{\"outlinewidth\":0,\"ticks\":\"\"}},\"colorscale\":{\"sequential\":[[0.0,\"#0d0887\"],[0.1111111111111111,\"#46039f\"],[0.2222222222222222,\"#7201a8\"],[0.3333333333333333,\"#9c179e\"],[0.4444444444444444,\"#bd3786\"],[0.5555555555555556,\"#d8576b\"],[0.6666666666666666,\"#ed7953\"],[0.7777777777777778,\"#fb9f3a\"],[0.8888888888888888,\"#fdca26\"],[1.0,\"#f0f921\"]],\"sequentialminus\":[[0.0,\"#0d0887\"],[0.1111111111111111,\"#46039f\"],[0.2222222222222222,\"#7201a8\"],[0.3333333333333333,\"#9c179e\"],[0.4444444444444444,\"#bd3786\"],[0.5555555555555556,\"#d8576b\"],[0.6666666666666666,\"#ed7953\"],[0.7777777777777778,\"#fb9f3a\"],[0.8888888888888888,\"#fdca26\"],[1.0,\"#f0f921\"]],\"diverging\":[[0,\"#8e0152\"],[0.1,\"#c51b7d\"],[0.2,\"#de77ae\"],[0.3,\"#f1b6da\"],[0.4,\"#fde0ef\"],[0.5,\"#f7f7f7\"],[0.6,\"#e6f5d0\"],[0.7,\"#b8e186\"],[0.8,\"#7fbc41\"],[0.9,\"#4d9221\"],[1,\"#276419\"]]},\"xaxis\":{\"gridcolor\":\"#EBF0F8\",\"linecolor\":\"#EBF0F8\",\"ticks\":\"\",\"title\":{\"standoff\":15},\"zerolinecolor\":\"#EBF0F8\",\"automargin\":true,\"zerolinewidth\":2},\"yaxis\":{\"gridcolor\":\"#EBF0F8\",\"linecolor\":\"#EBF0F8\",\"ticks\":\"\",\"title\":{\"standoff\":15},\"zerolinecolor\":\"#EBF0F8\",\"automargin\":true,\"zerolinewidth\":2},\"scene\":{\"xaxis\":{\"backgroundcolor\":\"white\",\"gridcolor\":\"#DFE8F3\",\"linecolor\":\"#EBF0F8\",\"showbackground\":true,\"ticks\":\"\",\"zerolinecolor\":\"#EBF0F8\",\"gridwidth\":2},\"yaxis\":{\"backgroundcolor\":\"white\",\"gridcolor\":\"#DFE8F3\",\"linecolor\":\"#EBF0F8\",\"showbackground\":true,\"ticks\":\"\",\"zerolinecolor\":\"#EBF0F8\",\"gridwidth\":2},\"zaxis\":{\"backgroundcolor\":\"white\",\"gridcolor\":\"#DFE8F3\",\"linecolor\":\"#EBF0F8\",\"showbackground\":true,\"ticks\":\"\",\"zerolinecolor\":\"#EBF0F8\",\"gridwidth\":2}},\"shapedefaults\":{\"line\":{\"color\":\"#2a3f5f\"}},\"annotationdefaults\":{\"arrowcolor\":\"#2a3f5f\",\"arrowhead\":0,\"arrowwidth\":1},\"geo\":{\"bgcolor\":\"white\",\"landcolor\":\"white\",\"subunitcolor\":\"#C8D4E3\",\"showland\":true,\"showlakes\":true,\"lakecolor\":\"white\"},\"title\":{\"x\":0.05},\"mapbox\":{\"style\":\"light\"}}},\"xaxis\":{\"anchor\":\"y\",\"domain\":[0.0,1.0],\"title\":{\"text\":\"Hashtag\"}},\"yaxis\":{\"anchor\":\"x\",\"domain\":[0.0,1.0],\"title\":{\"text\":\"Impressions\"}},\"legend\":{\"tracegroupgap\":0},\"title\":{\"text\":\"Impressions Distribution for Each Hashtag\"},\"barmode\":\"relative\"},                        {\"responsive\": true}                    ).then(function(){\n",
              "                            \n",
              "var gd = document.getElementById('3d2093e9-b509-4220-b0d1-50d6cf39280c');\n",
              "var x = new MutationObserver(function (mutations, observer) {{\n",
              "        var display = window.getComputedStyle(gd).display;\n",
              "        if (!display || display === 'none') {{\n",
              "            console.log([gd, 'removed!']);\n",
              "            Plotly.purge(gd);\n",
              "            observer.disconnect();\n",
              "        }}\n",
              "}});\n",
              "\n",
              "// Listen for the removal of the full notebook cells\n",
              "var notebookContainer = gd.closest('#notebook-container');\n",
              "if (notebookContainer) {{\n",
              "    x.observe(notebookContainer, {childList: true});\n",
              "}}\n",
              "\n",
              "// Listen for the clearing of the current output cell\n",
              "var outputEl = gd.closest('.output');\n",
              "if (outputEl) {{\n",
              "    x.observe(outputEl, {childList: true});\n",
              "}}\n",
              "\n",
              "                        })                };                            </script>        </div>\n",
              "</body>\n",
              "</html>"
            ]
          },
          "metadata": {}
        }
      ],
      "source": [
        "#creating a dictionary to store the likes and impressions for each hashtag\n",
        "hashtag_likes = {}\n",
        "hashtag_impressions = {}\n",
        "\n",
        "#iterating it through each row in the dataset\n",
        "for index, row in data.iterrows():\n",
        "    hashtags = str(row['Hashtags']).split()\n",
        "    for hashtag in hashtags:\n",
        "        hashtag = hashtag.strip()\n",
        "        if hashtag not in hashtag_likes:\n",
        "            hashtag_likes[hashtag] = 0\n",
        "            hashtag_impressions[hashtag] = 0\n",
        "        hashtag_likes[hashtag] += row['Likes']\n",
        "        hashtag_impressions[hashtag] += row['Impressions']\n",
        "\n",
        "#creating a dataframe for likes distribution\n",
        "likes_distribution = pd.DataFrame(list(hashtag_likes.items()), columns=['Hashtag', 'Likes'])\n",
        "\n",
        "#creating a dataframe for impressions distribution\n",
        "impressions_distribution = pd.DataFrame(list(hashtag_impressions.items()), columns=['Hashtag', 'Impressions'])\n",
        "\n",
        "fig_likes = px.bar(likes_distribution, x='Hashtag', y='Likes',\n",
        "                   title='Likes Distribution for Each Hashtag')\n",
        "\n",
        "fig_impressions = px.bar(impressions_distribution, x='Hashtag',\n",
        "                         y='Impressions',\n",
        "                         title='Impressions Distribution for Each Hashtag')\n",
        "\n",
        "fig_likes.show()\n",
        "fig_impressions.show()"
      ]
    }
  ],
  "metadata": {
    "kernelspec": {
      "display_name": "Python 3",
      "language": "python",
      "name": "python3"
    },
    "language_info": {
      "codemirror_mode": {
        "name": "ipython",
        "version": 3
      },
      "file_extension": ".py",
      "mimetype": "text/x-python",
      "name": "python",
      "nbconvert_exporter": "python",
      "pygments_lexer": "ipython3",
      "version": "3.10.12"
    },
    "papermill": {
      "default_parameters": {},
      "duration": 20.386957,
      "end_time": "2023-07-18T16:39:35.617841",
      "environment_variables": {},
      "exception": null,
      "input_path": "__notebook__.ipynb",
      "output_path": "__notebook__.ipynb",
      "parameters": {},
      "start_time": "2023-07-18T16:39:15.230884",
      "version": "2.4.0"
    },
    "colab": {
      "provenance": []
    }
  },
  "nbformat": 4,
  "nbformat_minor": 5
}